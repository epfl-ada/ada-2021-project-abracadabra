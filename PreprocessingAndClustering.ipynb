{
 "cells": [
  {
   "cell_type": "code",
   "execution_count": 1,
   "metadata": {},
   "outputs": [],
   "source": [
    "import bz2\n",
    "import json\n",
    "import pandas as pd\n",
    "from datetime import datetime\n",
    "import numpy as np\n",
    "import matplotlib.pyplot as plt\n",
    "from sklearn.cluster import KMeans\n",
    "from sklearn.feature_extraction.text import TfidfVectorizer\n",
    "import vaderSentiment\n",
    "from vaderSentiment.vaderSentiment import SentimentIntensityAnalyzer"
   ]
  },
  {
   "cell_type": "code",
   "execution_count": 47,
   "metadata": {},
   "outputs": [],
   "source": [
    "# If working on colab :\n",
    "from google.colab import drive\n",
    "drive.mount('/content/drive') \n",
    "\n",
    "data_path = '/content/drive/MyDrive/'"
   ]
  },
  {
   "cell_type": "code",
   "execution_count": 2,
   "metadata": {},
   "outputs": [],
   "source": [
    "# If working locally :\n",
    "data_path = ''"
   ]
  },
  {
   "cell_type": "markdown",
   "metadata": {},
   "source": [
    "# Initial methods given "
   ]
  },
  {
   "cell_type": "markdown",
   "metadata": {},
   "source": [
    "### Example of how to work with the quotes data file"
   ]
  },
  {
   "cell_type": "code",
   "execution_count": 3,
   "metadata": {},
   "outputs": [],
   "source": [
    "from tld import get_tld\n",
    "\n",
    "def get_domain(url):\n",
    "    res = get_tld(url, as_object=True)\n",
    "    return res.tld"
   ]
  },
  {
   "cell_type": "code",
   "execution_count": 4,
   "metadata": {},
   "outputs": [],
   "source": [
    "path_to_file = 'Quotebank/quotes-2020.json.bz2' \n",
    "path_to_out = 'data/quotes-2020-domains.json.bz2'\n",
    "\n",
    "with bz2.open(path_to_file, 'rb') as s_file:\n",
    "    with bz2.open(path_to_out, 'wb') as d_file:\n",
    "        for instance in s_file:\n",
    "            instance = json.loads(instance) # loading a sample\n",
    "            urls = instance['urls'] # extracting list of links\n",
    "            domains = []\n",
    "            for url in urls:\n",
    "                tld = get_domain(url)\n",
    "                domains.append(tld)\n",
    "            instance['domains'] = domains # updating the sample with domain name\n",
    "            d_file.write((json.dumps(instance)+'\\n').encode('utf-8')) # writing in the new file"
   ]
  },
  {
   "cell_type": "markdown",
   "metadata": {},
   "source": [
    "### Load the speaker_attributes parquet file"
   ]
  },
  {
   "cell_type": "code",
   "execution_count": 5,
   "metadata": {},
   "outputs": [],
   "source": [
    "speaker_attributes = pd.read_parquet(data_path+'Project datasets/speaker_attributes.parquet')"
   ]
  },
  {
   "cell_type": "code",
   "execution_count": 6,
   "metadata": {},
   "outputs": [
    {
     "data": {
      "text/html": [
       "<div>\n",
       "<style scoped>\n",
       "    .dataframe tbody tr th:only-of-type {\n",
       "        vertical-align: middle;\n",
       "    }\n",
       "\n",
       "    .dataframe tbody tr th {\n",
       "        vertical-align: top;\n",
       "    }\n",
       "\n",
       "    .dataframe thead th {\n",
       "        text-align: right;\n",
       "    }\n",
       "</style>\n",
       "<table border=\"1\" class=\"dataframe\">\n",
       "  <thead>\n",
       "    <tr style=\"text-align: right;\">\n",
       "      <th></th>\n",
       "      <th>aliases</th>\n",
       "      <th>date_of_birth</th>\n",
       "      <th>nationality</th>\n",
       "      <th>gender</th>\n",
       "      <th>lastrevid</th>\n",
       "      <th>ethnic_group</th>\n",
       "      <th>US_congress_bio_ID</th>\n",
       "      <th>occupation</th>\n",
       "      <th>party</th>\n",
       "      <th>academic_degree</th>\n",
       "      <th>id</th>\n",
       "      <th>label</th>\n",
       "      <th>candidacy</th>\n",
       "      <th>type</th>\n",
       "      <th>religion</th>\n",
       "    </tr>\n",
       "  </thead>\n",
       "  <tbody>\n",
       "    <tr>\n",
       "      <th>0</th>\n",
       "      <td>[Washington, President Washington, G. Washingt...</td>\n",
       "      <td>[+1732-02-22T00:00:00Z]</td>\n",
       "      <td>[Q161885, Q30]</td>\n",
       "      <td>[Q6581097]</td>\n",
       "      <td>1395141751</td>\n",
       "      <td>None</td>\n",
       "      <td>W000178</td>\n",
       "      <td>[Q82955, Q189290, Q131512, Q1734662, Q294126, ...</td>\n",
       "      <td>[Q327591]</td>\n",
       "      <td>None</td>\n",
       "      <td>Q23</td>\n",
       "      <td>George Washington</td>\n",
       "      <td>[Q698073, Q697949]</td>\n",
       "      <td>item</td>\n",
       "      <td>[Q682443]</td>\n",
       "    </tr>\n",
       "    <tr>\n",
       "      <th>1</th>\n",
       "      <td>[Douglas Noel Adams, Douglas Noël Adams, Dougl...</td>\n",
       "      <td>[+1952-03-11T00:00:00Z]</td>\n",
       "      <td>[Q145]</td>\n",
       "      <td>[Q6581097]</td>\n",
       "      <td>1395737157</td>\n",
       "      <td>[Q7994501]</td>\n",
       "      <td>None</td>\n",
       "      <td>[Q214917, Q28389, Q6625963, Q4853732, Q1884422...</td>\n",
       "      <td>None</td>\n",
       "      <td>None</td>\n",
       "      <td>Q42</td>\n",
       "      <td>Douglas Adams</td>\n",
       "      <td>None</td>\n",
       "      <td>item</td>\n",
       "      <td>None</td>\n",
       "    </tr>\n",
       "    <tr>\n",
       "      <th>2</th>\n",
       "      <td>[Paul Marie Ghislain Otlet, Paul Marie Otlet]</td>\n",
       "      <td>[+1868-08-23T00:00:00Z]</td>\n",
       "      <td>[Q31]</td>\n",
       "      <td>[Q6581097]</td>\n",
       "      <td>1380367296</td>\n",
       "      <td>None</td>\n",
       "      <td>None</td>\n",
       "      <td>[Q36180, Q40348, Q182436, Q1265807, Q205375, Q...</td>\n",
       "      <td>None</td>\n",
       "      <td>None</td>\n",
       "      <td>Q1868</td>\n",
       "      <td>Paul Otlet</td>\n",
       "      <td>None</td>\n",
       "      <td>item</td>\n",
       "      <td>None</td>\n",
       "    </tr>\n",
       "    <tr>\n",
       "      <th>3</th>\n",
       "      <td>[George Walker Bush, Bush Jr., Dubya, GWB, Bus...</td>\n",
       "      <td>[+1946-07-06T00:00:00Z]</td>\n",
       "      <td>[Q30]</td>\n",
       "      <td>[Q6581097]</td>\n",
       "      <td>1395142029</td>\n",
       "      <td>None</td>\n",
       "      <td>None</td>\n",
       "      <td>[Q82955, Q15982858, Q18814623, Q1028181, Q1408...</td>\n",
       "      <td>[Q29468]</td>\n",
       "      <td>None</td>\n",
       "      <td>Q207</td>\n",
       "      <td>George W. Bush</td>\n",
       "      <td>[Q327959, Q464075, Q3586276, Q4450587]</td>\n",
       "      <td>item</td>\n",
       "      <td>[Q329646, Q682443, Q33203]</td>\n",
       "    </tr>\n",
       "    <tr>\n",
       "      <th>4</th>\n",
       "      <td>[Velázquez, Diego Rodríguez de Silva y Velázqu...</td>\n",
       "      <td>[+1599-06-06T00:00:00Z]</td>\n",
       "      <td>[Q29]</td>\n",
       "      <td>[Q6581097]</td>\n",
       "      <td>1391704596</td>\n",
       "      <td>None</td>\n",
       "      <td>None</td>\n",
       "      <td>[Q1028181]</td>\n",
       "      <td>None</td>\n",
       "      <td>None</td>\n",
       "      <td>Q297</td>\n",
       "      <td>Diego Velázquez</td>\n",
       "      <td>None</td>\n",
       "      <td>item</td>\n",
       "      <td>None</td>\n",
       "    </tr>\n",
       "  </tbody>\n",
       "</table>\n",
       "</div>"
      ],
      "text/plain": [
       "                                             aliases            date_of_birth  \\\n",
       "0  [Washington, President Washington, G. Washingt...  [+1732-02-22T00:00:00Z]   \n",
       "1  [Douglas Noel Adams, Douglas Noël Adams, Dougl...  [+1952-03-11T00:00:00Z]   \n",
       "2      [Paul Marie Ghislain Otlet, Paul Marie Otlet]  [+1868-08-23T00:00:00Z]   \n",
       "3  [George Walker Bush, Bush Jr., Dubya, GWB, Bus...  [+1946-07-06T00:00:00Z]   \n",
       "4  [Velázquez, Diego Rodríguez de Silva y Velázqu...  [+1599-06-06T00:00:00Z]   \n",
       "\n",
       "      nationality      gender   lastrevid ethnic_group US_congress_bio_ID  \\\n",
       "0  [Q161885, Q30]  [Q6581097]  1395141751         None            W000178   \n",
       "1          [Q145]  [Q6581097]  1395737157   [Q7994501]               None   \n",
       "2           [Q31]  [Q6581097]  1380367296         None               None   \n",
       "3           [Q30]  [Q6581097]  1395142029         None               None   \n",
       "4           [Q29]  [Q6581097]  1391704596         None               None   \n",
       "\n",
       "                                          occupation      party  \\\n",
       "0  [Q82955, Q189290, Q131512, Q1734662, Q294126, ...  [Q327591]   \n",
       "1  [Q214917, Q28389, Q6625963, Q4853732, Q1884422...       None   \n",
       "2  [Q36180, Q40348, Q182436, Q1265807, Q205375, Q...       None   \n",
       "3  [Q82955, Q15982858, Q18814623, Q1028181, Q1408...   [Q29468]   \n",
       "4                                         [Q1028181]       None   \n",
       "\n",
       "  academic_degree     id              label  \\\n",
       "0            None    Q23  George Washington   \n",
       "1            None    Q42      Douglas Adams   \n",
       "2            None  Q1868         Paul Otlet   \n",
       "3            None   Q207     George W. Bush   \n",
       "4            None   Q297    Diego Velázquez   \n",
       "\n",
       "                                candidacy  type                    religion  \n",
       "0                      [Q698073, Q697949]  item                   [Q682443]  \n",
       "1                                    None  item                        None  \n",
       "2                                    None  item                        None  \n",
       "3  [Q327959, Q464075, Q3586276, Q4450587]  item  [Q329646, Q682443, Q33203]  \n",
       "4                                    None  item                        None  "
      ]
     },
     "execution_count": 6,
     "metadata": {},
     "output_type": "execute_result"
    }
   ],
   "source": [
    "speaker_attributes.head()"
   ]
  },
  {
   "cell_type": "markdown",
   "metadata": {},
   "source": [
    "### Load the labels descriptions for quotebank"
   ]
  },
  {
   "cell_type": "code",
   "execution_count": 7,
   "metadata": {},
   "outputs": [],
   "source": [
    "label_description = pd.read_csv(data_path+'Project datasets/wikidata_labels_descriptions_quotebank.csv.bz2', compression='bz2', index_col='QID')"
   ]
  },
  {
   "cell_type": "code",
   "execution_count": 8,
   "metadata": {},
   "outputs": [
    {
     "data": {
      "text/html": [
       "<div>\n",
       "<style scoped>\n",
       "    .dataframe tbody tr th:only-of-type {\n",
       "        vertical-align: middle;\n",
       "    }\n",
       "\n",
       "    .dataframe tbody tr th {\n",
       "        vertical-align: top;\n",
       "    }\n",
       "\n",
       "    .dataframe thead th {\n",
       "        text-align: right;\n",
       "    }\n",
       "</style>\n",
       "<table border=\"1\" class=\"dataframe\">\n",
       "  <thead>\n",
       "    <tr style=\"text-align: right;\">\n",
       "      <th></th>\n",
       "      <th>Label</th>\n",
       "      <th>Description</th>\n",
       "    </tr>\n",
       "    <tr>\n",
       "      <th>QID</th>\n",
       "      <th></th>\n",
       "      <th></th>\n",
       "    </tr>\n",
       "  </thead>\n",
       "  <tbody>\n",
       "    <tr>\n",
       "      <th>Q31</th>\n",
       "      <td>Belgium</td>\n",
       "      <td>country in western Europe</td>\n",
       "    </tr>\n",
       "    <tr>\n",
       "      <th>Q45</th>\n",
       "      <td>Portugal</td>\n",
       "      <td>country in southwestern Europe</td>\n",
       "    </tr>\n",
       "    <tr>\n",
       "      <th>Q75</th>\n",
       "      <td>Internet</td>\n",
       "      <td>global system of connected computer networks</td>\n",
       "    </tr>\n",
       "    <tr>\n",
       "      <th>Q148</th>\n",
       "      <td>People's Republic of China</td>\n",
       "      <td>sovereign state in East Asia</td>\n",
       "    </tr>\n",
       "    <tr>\n",
       "      <th>Q155</th>\n",
       "      <td>Brazil</td>\n",
       "      <td>country in South America</td>\n",
       "    </tr>\n",
       "  </tbody>\n",
       "</table>\n",
       "</div>"
      ],
      "text/plain": [
       "                           Label                                   Description\n",
       "QID                                                                           \n",
       "Q31                      Belgium                     country in western Europe\n",
       "Q45                     Portugal                country in southwestern Europe\n",
       "Q75                     Internet  global system of connected computer networks\n",
       "Q148  People's Republic of China                  sovereign state in East Asia\n",
       "Q155                      Brazil                      country in South America"
      ]
     },
     "execution_count": 8,
     "metadata": {},
     "output_type": "execute_result"
    }
   ],
   "source": [
    "label_description.head()"
   ]
  },
  {
   "cell_type": "markdown",
   "metadata": {},
   "source": [
    "# Dealing with the features\n",
    "\n",
    "In order to answer our research questions we will not need all the initial features of the quotebank datasets. Thus we decided to keep the following ones:\n",
    "\n",
    "*   **date**: Because we will work with specific periods.\n",
    "*   **numOccurences**: To have a better insight about quotations and potential bias in our analysis.\n",
    "*   **qids**: This is the speakers'id, necessary to be able to pair with the speaker_attributes data.\n",
    "*   **quotation**: Obviously to perform sentiment analysis.\n",
    "*   **quoteID**: To identify the quotes.\n",
    "*   **speaker**: To access their attributes and see if there's multiple qids for the same speaker. /!\\\n",
    "\n",
    "For the 3 remaining features, we explain why we decided to drop them out:"
   ]
  },
  {
   "cell_type": "markdown",
   "metadata": {},
   "source": [
    "* **phase**\n",
    "\n",
    "Described here : [description of the phase](https://github.com/epfl-dlab/Quotebank/blob/main/phases.md). All of quotations we will use initially are from phase E (2015-2020) as they are past June 2014. If we need to work with older dates, we could refer on the date feature which should be enough.\n",
    "\n",
    "We do a little check below :"
   ]
  },
  {
   "cell_type": "code",
   "execution_count": 7,
   "metadata": {},
   "outputs": [],
   "source": [
    "count_E = 0\n",
    "count_quote = 0\n",
    "quotes = bz2.open(data_path+'Quotebank/quotes-2020.json.bz2', 'rb')\n",
    "\n",
    "for instance in quotes:\n",
    "    quote = json.loads(instance) # loading a sample\n",
    "    phase = quote['phase'] # extracting list of links\n",
    "    if phase == 'E':\n",
    "        count_E += 1\n",
    "    count_quote+=1"
   ]
  },
  {
   "cell_type": "code",
   "execution_count": 8,
   "metadata": {},
   "outputs": [
    {
     "name": "stdout",
     "output_type": "stream",
     "text": [
      "We have 100.0% of quotes in phase E for 2020\n"
     ]
    }
   ],
   "source": [
    "print(f'We have {count_E*100/count_quote}% of quotes in phase E for 2020')"
   ]
  },
  {
   "cell_type": "markdown",
   "metadata": {},
   "source": [
    "As expected, we don't have any other phase than phase 'E' in the dataset from 2020. We shouldn't have them for 2015-2019. With the test on 2020 and the description's informations, we decided that it safe to drop this feature."
   ]
  },
  {
   "cell_type": "markdown",
   "metadata": {},
   "source": [
    "* #### probas\n",
    "\n",
    "We only keep the main speaker, therefore the probabilities and name of the other speakers are not useful for us. We chose to rely on the decisions made by QuoteBank in choosing the speaker, and only keep the main(s) one(s)."
   ]
  },
  {
   "cell_type": "markdown",
   "metadata": {},
   "source": [
    "* #### Urls\n",
    "\n",
    "In our research, we don't specificaly look into the source of the quote, expect for the speaker. Therefore, we decided to drop the urls feature as it should be irrevelant for our project."
   ]
  },
  {
   "cell_type": "markdown",
   "metadata": {},
   "source": [
    "### Dropping the unwanted features\n",
    "\n",
    "Here we only keep the features we need as described previously."
   ]
  },
  {
   "cell_type": "code",
   "execution_count": 9,
   "metadata": {},
   "outputs": [],
   "source": [
    "def drop_features(path_to_file, path_to_out, max_instances=-1):\n",
    "    count = 0\n",
    "    with bz2.open(path_to_file, 'rb') as s_file:\n",
    "        with bz2.open(path_to_out, 'wb') as d_file:\n",
    "            for instance in s_file:\n",
    "                if count == max_instances:\n",
    "                    return\n",
    "                instance = json.loads(instance)  # loading a sample\n",
    "                series = pd.Series(instance)\n",
    "                instance = series[[\n",
    "                    'quoteID',\n",
    "                    'date',\n",
    "                    'numOccurrences',\n",
    "                    'qids',\n",
    "                    'quotation',\n",
    "                    'speaker',\n",
    "                    ]].to_dict()\n",
    "                d_file.write((json.dumps(instance) + '\\n').encode('utf-8'))  # writing in the new file\n",
    "                count += 1"
   ]
  },
  {
   "cell_type": "markdown",
   "metadata": {},
   "source": [
    "Small test with the 100 first instances:"
   ]
  },
  {
   "cell_type": "code",
   "execution_count": 10,
   "metadata": {},
   "outputs": [
    {
     "data": {
      "text/html": [
       "<div>\n",
       "<style scoped>\n",
       "    .dataframe tbody tr th:only-of-type {\n",
       "        vertical-align: middle;\n",
       "    }\n",
       "\n",
       "    .dataframe tbody tr th {\n",
       "        vertical-align: top;\n",
       "    }\n",
       "\n",
       "    .dataframe thead th {\n",
       "        text-align: right;\n",
       "    }\n",
       "</style>\n",
       "<table border=\"1\" class=\"dataframe\">\n",
       "  <thead>\n",
       "    <tr style=\"text-align: right;\">\n",
       "      <th></th>\n",
       "      <th>quoteID</th>\n",
       "      <th>date</th>\n",
       "      <th>numOccurrences</th>\n",
       "      <th>qids</th>\n",
       "      <th>quotation</th>\n",
       "      <th>speaker</th>\n",
       "    </tr>\n",
       "  </thead>\n",
       "  <tbody>\n",
       "    <tr>\n",
       "      <th>0</th>\n",
       "      <td>2020-01-28-000082</td>\n",
       "      <td>2020-01-28 08:04:05</td>\n",
       "      <td>1</td>\n",
       "      <td>[]</td>\n",
       "      <td>[ D ] espite the efforts of the partners to cr...</td>\n",
       "      <td>None</td>\n",
       "    </tr>\n",
       "    <tr>\n",
       "      <th>1</th>\n",
       "      <td>2020-01-16-000088</td>\n",
       "      <td>2020-01-16 12:00:13</td>\n",
       "      <td>1</td>\n",
       "      <td>[Q367796]</td>\n",
       "      <td>[ Department of Homeland Security ] was livid ...</td>\n",
       "      <td>Sue Myrick</td>\n",
       "    </tr>\n",
       "    <tr>\n",
       "      <th>2</th>\n",
       "      <td>2020-02-10-000142</td>\n",
       "      <td>2020-02-10 23:45:54</td>\n",
       "      <td>1</td>\n",
       "      <td>[]</td>\n",
       "      <td>... He (Madhav) also disclosed that the illega...</td>\n",
       "      <td>None</td>\n",
       "    </tr>\n",
       "    <tr>\n",
       "      <th>3</th>\n",
       "      <td>2020-02-15-000053</td>\n",
       "      <td>2020-02-15 14:12:51</td>\n",
       "      <td>2</td>\n",
       "      <td>[]</td>\n",
       "      <td>... [ I ] f it gets to the floor,</td>\n",
       "      <td>None</td>\n",
       "    </tr>\n",
       "    <tr>\n",
       "      <th>4</th>\n",
       "      <td>2020-01-24-000168</td>\n",
       "      <td>2020-01-24 20:37:09</td>\n",
       "      <td>4</td>\n",
       "      <td>[Q20684375]</td>\n",
       "      <td>[ I met them ] when they just turned 4 and 7. ...</td>\n",
       "      <td>Meghan King Edmonds</td>\n",
       "    </tr>\n",
       "  </tbody>\n",
       "</table>\n",
       "</div>"
      ],
      "text/plain": [
       "             quoteID                date  numOccurrences         qids  \\\n",
       "0  2020-01-28-000082 2020-01-28 08:04:05               1           []   \n",
       "1  2020-01-16-000088 2020-01-16 12:00:13               1    [Q367796]   \n",
       "2  2020-02-10-000142 2020-02-10 23:45:54               1           []   \n",
       "3  2020-02-15-000053 2020-02-15 14:12:51               2           []   \n",
       "4  2020-01-24-000168 2020-01-24 20:37:09               4  [Q20684375]   \n",
       "\n",
       "                                           quotation              speaker  \n",
       "0  [ D ] espite the efforts of the partners to cr...                 None  \n",
       "1  [ Department of Homeland Security ] was livid ...           Sue Myrick  \n",
       "2  ... He (Madhav) also disclosed that the illega...                 None  \n",
       "3                  ... [ I ] f it gets to the floor,                 None  \n",
       "4  [ I met them ] when they just turned 4 and 7. ...  Meghan King Edmonds  "
      ]
     },
     "execution_count": 10,
     "metadata": {},
     "output_type": "execute_result"
    }
   ],
   "source": [
    "path_to_file = data_path+'Quotebank/quotes-2020.json.bz2'\n",
    "path_to_out = data_path+'data/quotes-2020-dropped-features.json.bz2'\n",
    "\n",
    "drop_features(path_to_file, path_to_out, 100)\n",
    "\n",
    "dropped_features_df = pd.read_json(path_to_out, compression='bz2', lines=True)\n",
    "dropped_features_df.head()"
   ]
  },
  {
   "cell_type": "markdown",
   "metadata": {},
   "source": [
    "### Special case: when we need to have the speaker's information\n",
    "\n",
    "For some of the questions we plan to answer, see the [readMe.md](https://github.com/epfl-ada/ada-2021-project-abracadabra/blob/main/README.md), we need to access the speaker's attributes. If we don't have any informations concerning them, we will not use the quote for our research. Thus we can also process the data to create one containing only the quotes that have a defined speaker."
   ]
  },
  {
   "cell_type": "code",
   "execution_count": 12,
   "metadata": {},
   "outputs": [
    {
     "name": "stdout",
     "output_type": "stream",
     "text": [
      "1800844\n"
     ]
    }
   ],
   "source": [
    "quotes = bz2.open(data_path+'Quotebank/quotes-2020.json.bz2', 'rb')\n",
    "count_none = 0\n",
    "for instance in quotes:\n",
    "    quote = json.loads(instance)  # loading a sample\n",
    "    speaker = quote['speaker']  # extracting list of links\n",
    "    if speaker == 'None':\n",
    "        count_none += 1\n",
    "print(count_none)"
   ]
  },
  {
   "cell_type": "code",
   "execution_count": 70,
   "metadata": {},
   "outputs": [
    {
     "name": "stdout",
     "output_type": "stream",
     "text": [
      "There is 34.338097291059555% of speakers defined as None\n"
     ]
    }
   ],
   "source": [
    "print(f'There is {count_none*100/count_quote}% of speakers defined as None')"
   ]
  },
  {
   "cell_type": "markdown",
   "metadata": {},
   "source": [
    "As we see, on the quotebank data of 2020 we already have ~34% of missing speaker, labelled as \"None\". Therefore, we can remove those quotes keep the other in a new Json file.\n",
    "\n",
    "To further justify this choice, let's take a look at the exemple below :"
   ]
  },
  {
   "cell_type": "code",
   "execution_count": 17,
   "metadata": {},
   "outputs": [
    {
     "data": {
      "text/plain": [
       "{'quoteID': '2020-01-28-000082',\n",
       " 'quotation': '[ D ] espite the efforts of the partners to create a non-political award that unites the Jewish people, some have incorrectly interpreted the participation of the Office of the Prime Minister in the Genesis Prize as bringing a political dimension to this important initiative,',\n",
       " 'speaker': 'None',\n",
       " 'qids': [],\n",
       " 'date': '2020-01-28 08:04:05',\n",
       " 'numOccurrences': 1,\n",
       " 'probas': [['None', '0.7272'],\n",
       "  ['Prime Minister Netanyahu', '0.2445'],\n",
       "  ['Natan Sharansky', '0.0283']],\n",
       " 'urls': ['http://israelnationalnews.com/News/News.aspx/275210'],\n",
       " 'phase': 'E'}"
      ]
     },
     "execution_count": 17,
     "metadata": {},
     "output_type": "execute_result"
    }
   ],
   "source": [
    "## Load a sample quote\n",
    "quotes = bz2.open(data_path+'Quotebank/quotes-2020.json.bz2', 'rb')\n",
    "samples = 0\n",
    "quote = ''\n",
    "for q in quotes:\n",
    "    if samples == 1:\n",
    "        break\n",
    "    quote = json.loads(q)\n",
    "    samples += 1\n",
    "quote"
   ]
  },
  {
   "cell_type": "markdown",
   "metadata": {},
   "source": [
    "In this particular quote, it is ~73% sure of not knowing who is the right speaker. We could decide that the speaker is the \n",
    "```\n",
    "['Prime Minister Netanyahu', '0.2445']\n",
    "```\n",
    "but there is more chance of it being false as it has only ~24% of chances of being him. We prefer to take only the speakers with an high chance of being right."
   ]
  },
  {
   "cell_type": "code",
   "execution_count": 18,
   "metadata": {},
   "outputs": [],
   "source": [
    "def drop_unknown_speaker(path_to_file, path_to_out, max_instances=-1):\n",
    "    count = 0\n",
    "    with bz2.open(path_to_file, 'rb') as s_file:\n",
    "        with bz2.open(path_to_out, 'wb') as d_file:\n",
    "            for instance in s_file:\n",
    "                if count == max_instances:\n",
    "                    return\n",
    "                instance = json.loads(instance)  # loading a sample\n",
    "                speaker = instance['speaker']\n",
    "                if speaker != 'None':\n",
    "                    d_file.write((json.dumps(instance) + '\\n').encode('utf-8'))  # writing in the new file\n",
    "                count += 1"
   ]
  },
  {
   "cell_type": "markdown",
   "metadata": {},
   "source": [
    "Here we only work on 100 000 instances to fasten the test part:"
   ]
  },
  {
   "cell_type": "code",
   "execution_count": 19,
   "metadata": {},
   "outputs": [
    {
     "name": "stdout",
     "output_type": "stream",
     "text": [
      "0\n"
     ]
    }
   ],
   "source": [
    "path_to_file = data_path+'Quotebank/quotes-2020.json.bz2'\n",
    "path_to_out = data_path+'data/quotes-2020-dropped_unknown_speaker.json.bz2'\n",
    "\n",
    "drop_unknown_speaker(path_to_file, path_to_out, 100000)\n",
    "\n",
    "dropped_unknown_speaker_df = pd.read_json(path_to_out, compression='bz2', lines=True)\n",
    "\n",
    "print(dropped_unknown_speaker_df.loc[dropped_unknown_speaker_df.speaker == 'None', 'speaker'].count())"
   ]
  },
  {
   "cell_type": "markdown",
   "metadata": {},
   "source": [
    "Sine we took out all the 'None' speaker from the original data, we now have a lighter and more precise one to work with for some of our analysis."
   ]
  },
  {
   "cell_type": "markdown",
   "metadata": {
    "id": "wNp2jrGVbyU-"
   },
   "source": [
    "# Data analysis"
   ]
  },
  {
   "cell_type": "markdown",
   "metadata": {
    "id": "rDmVROAJcOsw"
   },
   "source": [
    "## Dates\n",
    "\n",
    "Since we will be working a lot with dates, it is great to have better insights about them, for example their distributions.\n",
    "As the dates are in the format 'yyyy-mm-dd hh:mm:ss', we check that all the dates are well in 2020 by checking the first 4 characters. Doing so helps us to check if there's any date which is not correctly written or missing:"
   ]
  },
  {
   "cell_type": "code",
   "execution_count": 24,
   "metadata": {},
   "outputs": [],
   "source": [
    "quotes = bz2.open(data_path+'Quotebank/quotes-2020.json.bz2', 'rb')\n",
    "count_2020 = 0\n",
    "for instance in quotes:\n",
    "    quote = json.loads(instance)  # loading a sample\n",
    "    date = quote['date']  # extracting the date\n",
    "    if date[:4] == '2020':\n",
    "        count_2020 += 1"
   ]
  },
  {
   "cell_type": "code",
   "execution_count": 25,
   "metadata": {},
   "outputs": [
    {
     "name": "stdout",
     "output_type": "stream",
     "text": [
      "There is 100.0% of date starting with 2020\n"
     ]
    }
   ],
   "source": [
    "print(f'There is {count_2020*100/count_quote}% of date starting with 2020')"
   ]
  },
  {
   "cell_type": "markdown",
   "metadata": {
    "id": "uU6ivljdfV3k"
   },
   "source": [
    "Everything seems to be fine here.\n",
    "\n",
    "To see the distribution of quotes per day of the year, we define a function to change the date format 'yyyy-mm-dd' into an index of a table. To do so we use the library date time."
   ]
  },
  {
   "cell_type": "code",
   "execution_count": 3,
   "metadata": {},
   "outputs": [],
   "source": [
    "def get_day_of_year(date):\n",
    "    date_time_obj = datetime.strptime(date[2:], '%y-%m-%d %H:%M:%S')\n",
    "    d = date_time_obj.strftime('%j')\n",
    "    return d"
   ]
  },
  {
   "cell_type": "code",
   "execution_count": 33,
   "metadata": {},
   "outputs": [
    {
     "name": "stdout",
     "output_type": "stream",
     "text": [
      "365\n"
     ]
    }
   ],
   "source": [
    "print(get_day_of_year(\"2020-12-30 12:26:24\"))"
   ]
  },
  {
   "cell_type": "markdown",
   "metadata": {
    "id": "NWHaocZ0i2yT"
   },
   "source": [
    "Now let's take a look at the distribution of the dates:"
   ]
  },
  {
   "cell_type": "code",
   "execution_count": 10,
   "metadata": {},
   "outputs": [],
   "source": [
    "def count_per_day(path_to_file, max_instances=-1):\n",
    "    count_days = np.zeros(366)\n",
    "    count = 0\n",
    "    with bz2.open(path_to_file, 'rb') as s_file:\n",
    "        for instance in s_file:\n",
    "            if count == max_instances:\n",
    "                break\n",
    "            instance = json.loads(instance)  # loading a sample\n",
    "            date = instance['date']  # extracting the date\n",
    "            idx = int(get_day_of_year(date)) - 1\n",
    "            count_days[idx] += 1\n",
    "            count += 1\n",
    "        return count_days"
   ]
  },
  {
   "cell_type": "markdown",
   "metadata": {},
   "source": [
    "We check for the different years with a sample of 100000 quotes to have a proper representation."
   ]
  },
  {
   "cell_type": "code",
   "execution_count": 11,
   "metadata": {},
   "outputs": [
    {
     "name": "stdout",
     "output_type": "stream",
     "text": [
      "100000\n",
      "200000\n",
      "300000\n",
      "400000\n",
      "500000\n",
      "600000\n",
      "700000\n",
      "800000\n",
      "900000\n",
      "1000000\n",
      "1100000\n",
      "1200000\n",
      "1300000\n",
      "1400000\n",
      "1500000\n",
      "1600000\n",
      "1700000\n",
      "1800000\n",
      "1900000\n",
      "2000000\n",
      "2100000\n",
      "2200000\n",
      "2300000\n",
      "2400000\n",
      "2500000\n",
      "2600000\n"
     ]
    },
    {
     "ename": "KeyboardInterrupt",
     "evalue": "",
     "output_type": "error",
     "traceback": [
      "\u001b[1;31m---------------------------------------------------------------------------\u001b[0m",
      "\u001b[1;31mKeyboardInterrupt\u001b[0m                         Traceback (most recent call last)",
      "\u001b[1;32m<ipython-input-11-6318b06ef3a4>\u001b[0m in \u001b[0;36m<module>\u001b[1;34m\u001b[0m\n\u001b[0;32m      9\u001b[0m     \u001b[0mpath_to_file\u001b[0m \u001b[1;33m=\u001b[0m \u001b[0mdata_path\u001b[0m\u001b[1;33m+\u001b[0m\u001b[1;34m'Quotebank/quotes-{year}.json.bz2'\u001b[0m\u001b[1;33m.\u001b[0m\u001b[0mformat\u001b[0m\u001b[1;33m(\u001b[0m\u001b[0myear\u001b[0m\u001b[1;33m=\u001b[0m\u001b[0myear\u001b[0m\u001b[1;33m)\u001b[0m\u001b[1;33m\u001b[0m\u001b[1;33m\u001b[0m\u001b[0m\n\u001b[0;32m     10\u001b[0m     \u001b[1;31m#count_days = count_per_day(path_to_file, max_instances=100000)\u001b[0m\u001b[1;33m\u001b[0m\u001b[1;33m\u001b[0m\u001b[1;33m\u001b[0m\u001b[0m\n\u001b[1;32m---> 11\u001b[1;33m     \u001b[0mcount_days\u001b[0m \u001b[1;33m=\u001b[0m \u001b[0mcount_per_day\u001b[0m\u001b[1;33m(\u001b[0m\u001b[0mpath_to_file\u001b[0m\u001b[1;33m)\u001b[0m\u001b[1;33m\u001b[0m\u001b[1;33m\u001b[0m\u001b[0m\n\u001b[0m\u001b[0;32m     12\u001b[0m     \u001b[0max\u001b[0m\u001b[1;33m.\u001b[0m\u001b[0mplot\u001b[0m\u001b[1;33m(\u001b[0m\u001b[0mday\u001b[0m\u001b[1;33m,\u001b[0m \u001b[0mcount_days\u001b[0m\u001b[1;33m)\u001b[0m\u001b[1;33m\u001b[0m\u001b[1;33m\u001b[0m\u001b[0m\n\u001b[0;32m     13\u001b[0m     \u001b[0max\u001b[0m\u001b[1;33m.\u001b[0m\u001b[0mset_title\u001b[0m\u001b[1;33m(\u001b[0m\u001b[0myear\u001b[0m\u001b[1;33m)\u001b[0m\u001b[1;33m\u001b[0m\u001b[1;33m\u001b[0m\u001b[0m\n",
      "\u001b[1;32m<ipython-input-10-f3f29abe73ba>\u001b[0m in \u001b[0;36mcount_per_day\u001b[1;34m(path_to_file, max_instances)\u001b[0m\n\u001b[0;32m      3\u001b[0m     \u001b[0mcount\u001b[0m \u001b[1;33m=\u001b[0m \u001b[1;36m0\u001b[0m\u001b[1;33m\u001b[0m\u001b[1;33m\u001b[0m\u001b[0m\n\u001b[0;32m      4\u001b[0m     \u001b[1;32mwith\u001b[0m \u001b[0mbz2\u001b[0m\u001b[1;33m.\u001b[0m\u001b[0mopen\u001b[0m\u001b[1;33m(\u001b[0m\u001b[0mpath_to_file\u001b[0m\u001b[1;33m,\u001b[0m \u001b[1;34m'rb'\u001b[0m\u001b[1;33m)\u001b[0m \u001b[1;32mas\u001b[0m \u001b[0ms_file\u001b[0m\u001b[1;33m:\u001b[0m\u001b[1;33m\u001b[0m\u001b[1;33m\u001b[0m\u001b[0m\n\u001b[1;32m----> 5\u001b[1;33m         \u001b[1;32mfor\u001b[0m \u001b[0minstance\u001b[0m \u001b[1;32min\u001b[0m \u001b[0ms_file\u001b[0m\u001b[1;33m:\u001b[0m\u001b[1;33m\u001b[0m\u001b[1;33m\u001b[0m\u001b[0m\n\u001b[0m\u001b[0;32m      6\u001b[0m             \u001b[1;32mif\u001b[0m \u001b[0mcount\u001b[0m \u001b[1;33m==\u001b[0m \u001b[0mmax_instances\u001b[0m\u001b[1;33m:\u001b[0m\u001b[1;33m\u001b[0m\u001b[1;33m\u001b[0m\u001b[0m\n\u001b[0;32m      7\u001b[0m                 \u001b[1;32mbreak\u001b[0m\u001b[1;33m\u001b[0m\u001b[1;33m\u001b[0m\u001b[0m\n",
      "\u001b[1;32m~\\Anaconda3\\lib\\bz2.py\u001b[0m in \u001b[0;36mreadline\u001b[1;34m(self, size)\u001b[0m\n\u001b[0;32m    213\u001b[0m         \u001b[1;32mwith\u001b[0m \u001b[0mself\u001b[0m\u001b[1;33m.\u001b[0m\u001b[0m_lock\u001b[0m\u001b[1;33m:\u001b[0m\u001b[1;33m\u001b[0m\u001b[1;33m\u001b[0m\u001b[0m\n\u001b[0;32m    214\u001b[0m             \u001b[0mself\u001b[0m\u001b[1;33m.\u001b[0m\u001b[0m_check_can_read\u001b[0m\u001b[1;33m(\u001b[0m\u001b[1;33m)\u001b[0m\u001b[1;33m\u001b[0m\u001b[1;33m\u001b[0m\u001b[0m\n\u001b[1;32m--> 215\u001b[1;33m             \u001b[1;32mreturn\u001b[0m \u001b[0mself\u001b[0m\u001b[1;33m.\u001b[0m\u001b[0m_buffer\u001b[0m\u001b[1;33m.\u001b[0m\u001b[0mreadline\u001b[0m\u001b[1;33m(\u001b[0m\u001b[0msize\u001b[0m\u001b[1;33m)\u001b[0m\u001b[1;33m\u001b[0m\u001b[1;33m\u001b[0m\u001b[0m\n\u001b[0m\u001b[0;32m    216\u001b[0m \u001b[1;33m\u001b[0m\u001b[0m\n\u001b[0;32m    217\u001b[0m     \u001b[1;32mdef\u001b[0m \u001b[0mreadlines\u001b[0m\u001b[1;33m(\u001b[0m\u001b[0mself\u001b[0m\u001b[1;33m,\u001b[0m \u001b[0msize\u001b[0m\u001b[1;33m=\u001b[0m\u001b[1;33m-\u001b[0m\u001b[1;36m1\u001b[0m\u001b[1;33m)\u001b[0m\u001b[1;33m:\u001b[0m\u001b[1;33m\u001b[0m\u001b[1;33m\u001b[0m\u001b[0m\n",
      "\u001b[1;32m~\\Anaconda3\\lib\\_compression.py\u001b[0m in \u001b[0;36mreadinto\u001b[1;34m(self, b)\u001b[0m\n\u001b[0;32m     66\u001b[0m     \u001b[1;32mdef\u001b[0m \u001b[0mreadinto\u001b[0m\u001b[1;33m(\u001b[0m\u001b[0mself\u001b[0m\u001b[1;33m,\u001b[0m \u001b[0mb\u001b[0m\u001b[1;33m)\u001b[0m\u001b[1;33m:\u001b[0m\u001b[1;33m\u001b[0m\u001b[1;33m\u001b[0m\u001b[0m\n\u001b[0;32m     67\u001b[0m         \u001b[1;32mwith\u001b[0m \u001b[0mmemoryview\u001b[0m\u001b[1;33m(\u001b[0m\u001b[0mb\u001b[0m\u001b[1;33m)\u001b[0m \u001b[1;32mas\u001b[0m \u001b[0mview\u001b[0m\u001b[1;33m,\u001b[0m \u001b[0mview\u001b[0m\u001b[1;33m.\u001b[0m\u001b[0mcast\u001b[0m\u001b[1;33m(\u001b[0m\u001b[1;34m\"B\"\u001b[0m\u001b[1;33m)\u001b[0m \u001b[1;32mas\u001b[0m \u001b[0mbyte_view\u001b[0m\u001b[1;33m:\u001b[0m\u001b[1;33m\u001b[0m\u001b[1;33m\u001b[0m\u001b[0m\n\u001b[1;32m---> 68\u001b[1;33m             \u001b[0mdata\u001b[0m \u001b[1;33m=\u001b[0m \u001b[0mself\u001b[0m\u001b[1;33m.\u001b[0m\u001b[0mread\u001b[0m\u001b[1;33m(\u001b[0m\u001b[0mlen\u001b[0m\u001b[1;33m(\u001b[0m\u001b[0mbyte_view\u001b[0m\u001b[1;33m)\u001b[0m\u001b[1;33m)\u001b[0m\u001b[1;33m\u001b[0m\u001b[1;33m\u001b[0m\u001b[0m\n\u001b[0m\u001b[0;32m     69\u001b[0m             \u001b[0mbyte_view\u001b[0m\u001b[1;33m[\u001b[0m\u001b[1;33m:\u001b[0m\u001b[0mlen\u001b[0m\u001b[1;33m(\u001b[0m\u001b[0mdata\u001b[0m\u001b[1;33m)\u001b[0m\u001b[1;33m]\u001b[0m \u001b[1;33m=\u001b[0m \u001b[0mdata\u001b[0m\u001b[1;33m\u001b[0m\u001b[1;33m\u001b[0m\u001b[0m\n\u001b[0;32m     70\u001b[0m         \u001b[1;32mreturn\u001b[0m \u001b[0mlen\u001b[0m\u001b[1;33m(\u001b[0m\u001b[0mdata\u001b[0m\u001b[1;33m)\u001b[0m\u001b[1;33m\u001b[0m\u001b[1;33m\u001b[0m\u001b[0m\n",
      "\u001b[1;32m~\\Anaconda3\\lib\\_compression.py\u001b[0m in \u001b[0;36mread\u001b[1;34m(self, size)\u001b[0m\n\u001b[0;32m    101\u001b[0m                 \u001b[1;32melse\u001b[0m\u001b[1;33m:\u001b[0m\u001b[1;33m\u001b[0m\u001b[1;33m\u001b[0m\u001b[0m\n\u001b[0;32m    102\u001b[0m                     \u001b[0mrawblock\u001b[0m \u001b[1;33m=\u001b[0m \u001b[1;34mb\"\"\u001b[0m\u001b[1;33m\u001b[0m\u001b[1;33m\u001b[0m\u001b[0m\n\u001b[1;32m--> 103\u001b[1;33m                 \u001b[0mdata\u001b[0m \u001b[1;33m=\u001b[0m \u001b[0mself\u001b[0m\u001b[1;33m.\u001b[0m\u001b[0m_decompressor\u001b[0m\u001b[1;33m.\u001b[0m\u001b[0mdecompress\u001b[0m\u001b[1;33m(\u001b[0m\u001b[0mrawblock\u001b[0m\u001b[1;33m,\u001b[0m \u001b[0msize\u001b[0m\u001b[1;33m)\u001b[0m\u001b[1;33m\u001b[0m\u001b[1;33m\u001b[0m\u001b[0m\n\u001b[0m\u001b[0;32m    104\u001b[0m             \u001b[1;32mif\u001b[0m \u001b[0mdata\u001b[0m\u001b[1;33m:\u001b[0m\u001b[1;33m\u001b[0m\u001b[1;33m\u001b[0m\u001b[0m\n\u001b[0;32m    105\u001b[0m                 \u001b[1;32mbreak\u001b[0m\u001b[1;33m\u001b[0m\u001b[1;33m\u001b[0m\u001b[0m\n",
      "\u001b[1;31mKeyboardInterrupt\u001b[0m: "
     ]
    },
    {
     "data": {
      "image/png": "[encoded data removed]",
      "text/plain": [
       "<Figure size 1080x1080 with 6 Axes>"
      ]
     },
     "metadata": {
      "needs_background": "light"
     },
     "output_type": "display_data"
    }
   ],
   "source": [
    "years = ['2015','2016','2017','2018','2019','2020']\n",
    "day = np.arange(366)\n",
    "\n",
    "(fig, axes) = plt.subplots(6, constrained_layout=True, figsize=(15, 15))\n",
    "fig.suptitle('Count of quotes per day of the year', fontsize=16)\n",
    "\n",
    "for (year, ax) in zip(years, axes):\n",
    "    path_to_file = data_path+'Quotebank/quotes-{year}.json.bz2'.format(year=year)\n",
    "    count_days = count_per_day(path_to_file, max_instances=100000)\n",
    "    ax.plot(day, count_days)\n",
    "    ax.set_title(year)\n",
    "    ax.set_xlabel('day of the year')\n",
    "    ax.set_ylabel('count')\n",
    "\n",
    "plt.show()"
   ]
  },
  {
   "cell_type": "markdown",
   "metadata": {
    "id": "UeAQxiCZt5e8"
   },
   "source": [
    "When looking at the dates, we have to be careful about the number of quotations per day.\n",
    "\n",
    "We see an obvious weekly tendency in the number of quotes and that for some reason, in 2020 the data stops at ~110 days. There's also some seemingly unexplicable drop in quotes.For example, the quotes from year 2016 do some strange time where the data is missing."
   ]
  },
  {
   "cell_type": "markdown",
   "metadata": {
    "id": "Mkcr5ZgOQxtr"
   },
   "source": [
    "## NumOccurrences \n",
    "\n",
    "We want to grasp more how important is the numOccurrences feature. To do so, let's focus on its distribution. First, to know how big it can get, we find the maximum and the minimum to be sure we don't have any negative values:"
   ]
  },
  {
   "cell_type": "code",
   "execution_count": 38,
   "metadata": {
    "id": "m_OOc-ydAaKH"
   },
   "outputs": [],
   "source": [
    "min = 0\n",
    "max = 0\n",
    "count = 0\n",
    "with bz2.open(data_path+'Quotebank/quotes-2020.json.bz2', \"rb\") as s_file:\n",
    "    for instance in s_file:\n",
    "        instance = json.loads(instance)  # loading a sample\n",
    "        numOccurrences = instance[\"numOccurrences\"]  # extracting the date\n",
    "        if numOccurrences < min:\n",
    "            min = numOccurrences\n",
    "        if numOccurrences > max:\n",
    "            max = numOccurrences\n",
    "        count = 1"
   ]
  },
  {
   "cell_type": "code",
   "execution_count": 39,
   "metadata": {
    "colab": {
     "base_uri": "https://localhost:8080/"
    },
    "id": "PPGjh59jAJZm",
    "outputId": "029a7d7f-bef3-46f2-abe7-022b0c4b3ecc"
   },
   "outputs": [
    {
     "name": "stdout",
     "output_type": "stream",
     "text": [
      "the min is 0\n",
      "the max is 9210\n"
     ]
    }
   ],
   "source": [
    "print(f'the min is {min}')\n",
    "print(f'the max is {max}')"
   ]
  },
  {
   "cell_type": "markdown",
   "metadata": {
    "id": "dx-WaJvt8vSJ"
   },
   "source": [
    "We know have the range for the number of occurences and will see how they are distributed on an histogram:"
   ]
  },
  {
   "cell_type": "code",
   "execution_count": 40,
   "metadata": {
    "id": "mn8Jyiek_JIF"
   },
   "outputs": [],
   "source": [
    "count_Occurences = np.zeros((max + 1, ))\n",
    "\n",
    "with bz2.open(data_path+'Quotebank/quotes-2020.json.bz2', 'rb') as s_file:\n",
    "    for instance in s_file:\n",
    "        instance = json.loads(instance)  # loading a sample\n",
    "        numOccurrences = instance['numOccurrences']  # extracting the date\n",
    "        count_Occurences[numOccurrences] += 1"
   ]
  },
  {
   "cell_type": "code",
   "execution_count": 41,
   "metadata": {
    "colab": {
     "base_uri": "https://localhost:8080/",
     "height": 329
    },
    "id": "4XNfOjz59L1t",
    "outputId": "a1902716-68d0-4e2a-9f01-b640d4be577d"
   },
   "outputs": [
    {
     "name": "stdout",
     "output_type": "stream",
     "text": [
      "9210\n"
     ]
    },
    {
     "data": {
      "text/plain": [
       "Text(0.5, 1.0, 'Distribution of the number of occurences for the quotes from 2019')"
      ]
     },
     "execution_count": 41,
     "metadata": {},
     "output_type": "execute_result"
    },
    {
     "data": {
      "image/png": "[encoded data removed]",
      "text/plain": [
       "<Figure size 432x288 with 1 Axes>"
      ]
     },
     "metadata": {
      "needs_background": "light"
     },
     "output_type": "display_data"
    }
   ],
   "source": [
    "occurences = np.arange(max+1)\n",
    "print(max)\n",
    "plt.plot(occurences, count_Occurences)\n",
    "plt.xlabel(\"number of occurences\")\n",
    "plt.ylabel(\"count\")\n",
    "plt.title(\"Distribution of the number of occurences for the quotes from 2019\")"
   ]
  },
  {
   "cell_type": "markdown",
   "metadata": {
    "id": "6YTEnhu7SwP0"
   },
   "source": [
    "As expected, most of the number of occurences are quite low, thus not suited for linear scale. Let's plot it on a logarithmic scale"
   ]
  },
  {
   "cell_type": "code",
   "execution_count": 42,
   "metadata": {
    "colab": {
     "base_uri": "https://localhost:8080/",
     "height": 312
    },
    "id": "jaVKIB2V9vRw",
    "outputId": "5acee97e-9bbe-45fe-8339-f88c5f883b23"
   },
   "outputs": [
    {
     "data": {
      "text/plain": [
       "<matplotlib.legend.Legend at 0x21015c31df0>"
      ]
     },
     "execution_count": 42,
     "metadata": {},
     "output_type": "execute_result"
    },
    {
     "data": {
      "image/png": "[encoded data removed]",
      "text/plain": [
       "<Figure size 432x288 with 1 Axes>"
      ]
     },
     "metadata": {
      "needs_background": "light"
     },
     "output_type": "display_data"
    }
   ],
   "source": [
    "occurences = np.arange(max+1)\n",
    "plt.plot(occurences, count_Occurences)\n",
    "plt.xlabel(\"number of occurences\")\n",
    "plt.ylabel(\"count\")\n",
    "plt.yscale('log')\n",
    "plt.title(\"Distribution of the number of occurences for the quotes from 2019\")\n",
    "plt.vlines(2500, 0, 9999999, colors='r', label = '2500')\n",
    "plt.legend()"
   ]
  },
  {
   "cell_type": "markdown",
   "metadata": {
    "id": "0qKkwUofb0hY"
   },
   "source": [
    "Most of the quotes appears a relatively small amount of time. However, it has a possible importance in our research.\n",
    "\n",
    "There is also some clear outliers. We will focus on the number of occurences bigger than 2500."
   ]
  },
  {
   "cell_type": "code",
   "execution_count": 43,
   "metadata": {
    "colab": {
     "base_uri": "https://localhost:8080/"
    },
    "id": "s9xQWo6dcDps",
    "outputId": "5ecce1e9-e50a-45c8-a2cb-97848d4e3c1b"
   },
   "outputs": [
    {
     "name": "stdout",
     "output_type": "stream",
     "text": [
      "{3133: 1.0, 3617: 1.0, 4624: 1.0, 8257: 1.0, 9210: 1.0}\n"
     ]
    }
   ],
   "source": [
    "enum = enumerate(count_Occurences)\n",
    "dict_old = dict((i, j) for i,j in enum)\n",
    "\n",
    "dict_new = { key: value for key, value in dict_old.items() if (key >2500 ) and (value > 0) }\n",
    "print(dict_new)"
   ]
  },
  {
   "cell_type": "markdown",
   "metadata": {
    "id": "c_O35AqVtq-d"
   },
   "source": [
    "We notice that for each of these outlier, we have only one quote with a number of occurence this high. Let's look at them to see if there's anything strange about them:"
   ]
  },
  {
   "cell_type": "code",
   "execution_count": 44,
   "metadata": {
    "id": "Yzhk-J-L5pRs"
   },
   "outputs": [],
   "source": [
    "quotes_occurrences = []\n",
    "with bz2.open(data_path+'Quotebank/quotes-2020.json.bz2', 'rb') as s_file:\n",
    "    for instance in s_file:\n",
    "        instance = json.loads(instance)  # loading a sample\n",
    "        numOccurrences = instance['numOccurrences']  # extracting the numOccurrences\n",
    "        for num_occ in dict_new.keys():\n",
    "            if numOccurrences == num_occ:\n",
    "                quotes_occurrences.append(instance)"
   ]
  },
  {
   "cell_type": "code",
   "execution_count": 73,
   "metadata": {},
   "outputs": [
    {
     "name": "stdout",
     "output_type": "stream",
     "text": [
      "something we talk about a lot\n",
      "['http://www.gamereactor.eu/?system=switch&sid=dd39141ee3db3e8e1308331b80210195', 'http://www.gamereactor.eu/?system=pc&sid=dd39141ee3db3e8e1308331b80210195', 'http://www.gamereactor.eu/?system=pc&sid=77038c39d19e12febffce16037b21b4b', 'http://www.gamereactor.eu/?system=3ds&sid=77038c39d19e12febffce16037b21b4b', 'http://www.gamereactor.eu/?system=ps4&sid=8152dfec63bbb3ae562a80f065144b37', 'http://www.gamereactor.eu/?system=ps3&sid=8152dfec63bbb3ae562a80f065144b37', 'http://www.gamereactor.eu/?system=3ds&sid=340c730296ac9db66b81622627e6347c', 'http://www.gamereactor.eu/?system=ps4&sid=340c730296ac9db66b81622627e6347c', 'http://www.gamereactor.eu/?system=switch&sid=340c730296ac9db66b81622627e6347c', 'http://www.gamereactor.eu/?system=pc&sid=340c730296ac9db66b81622627e6347c', 'http://www.gamereactor.eu/?system=pc&sid=377cdd4d914f1a6dad4ca255527ec97e', 'http://www.gamereactor.eu/?system=ps4&sid=377cdd4d914f1a6dad4ca255527ec97e', 'http://www.gamereactor.eu/?system=ps4&sid=afa601bfde2601059665ce698f0b0c01', 'http://www.gamereactor.eu/?system=switch&sid=0469465dc9988e630bc6f4940d6b9fa7', 'http://www.gamereactor.eu/?system=3ds&sid=e8d1115dc4fd284de0432679cc2926fc']\n"
     ]
    }
   ],
   "source": [
    "quote = quotes_occurrences[2].get('quotation')\n",
    "urls = quotes_occurrences[2].get('urls')\n",
    "print(quote)\n",
    "print(urls[0:15])"
   ]
  },
  {
   "cell_type": "markdown",
   "metadata": {
    "id": "zq5KNgpi-IWb"
   },
   "source": [
    "When a quote has an unusual number of occurences, it is likely that all the occurences come from the same site. If we take the example with the most occurences (9210), we easily see in the 'urls' that they all seemingly come from the website gamereactor."
   ]
  },
  {
   "cell_type": "code",
   "execution_count": 74,
   "metadata": {
    "colab": {
     "base_uri": "https://localhost:8080/"
    },
    "id": "a45_Lub0-_Dz",
    "outputId": "3250bd39-3f46-4cfd-cd5f-9954e3bf44e8"
   },
   "outputs": [
    {
     "name": "stdout",
     "output_type": "stream",
     "text": [
      "100.0% of the occurences from the quote: <something we talk about a lot> comes from the website gamereactor.\n"
     ]
    }
   ],
   "source": [
    "\n",
    "count = 0\n",
    "count_gamereactor = 0\n",
    "for url in urls:\n",
    "    if url[11:22] == \"gamereactor\":\n",
    "        count_gamereactor += 1\n",
    "    count+=1\n",
    "\n",
    "print(f'{count_gamereactor*100/count}% of the occurences from the quote: <{quote}> comes from the website gamereactor.')"
   ]
  },
  {
   "cell_type": "markdown",
   "metadata": {
    "id": "l2stlt9_BWch"
   },
   "source": [
    "Knowing this, we will have to take into account the importance of the number of occurences and be extremly carefull with the extreme cases. If 9210 different peoples use the same quotation 1 time, it weighs more than 1 people using it 9210 time."
   ]
  },
  {
   "cell_type": "markdown",
   "metadata": {
    "id": "ECuspNIg-dYM"
   },
   "source": [
    "## Speakers\n",
    "\n",
    "To have a better understanding of the speakers, let's take a look at the distribution of the speaker. If there's some speaker that appears more often, it can be a sign of unblanced dataset. This is something that we have to take into account."
   ]
  },
  {
   "cell_type": "code",
   "execution_count": 46,
   "metadata": {},
   "outputs": [],
   "source": [
    "speakersID = set()\n",
    "quotes = bz2.open(data_path+'Quotebank/quotes-2020.json.bz2', 'rb')\n",
    "for q in quotes:\n",
    "    quote = json.loads(q)\n",
    "    speakers = quote['qids']\n",
    "    for speakerID in speakers:\n",
    "        speakersID.add(speakerID)"
   ]
  },
  {
   "cell_type": "code",
   "execution_count": 47,
   "metadata": {},
   "outputs": [
    {
     "data": {
      "text/plain": [
       "323074"
      ]
     },
     "execution_count": 47,
     "metadata": {},
     "output_type": "execute_result"
    }
   ],
   "source": [
    "len(speakersID)"
   ]
  },
  {
   "cell_type": "code",
   "execution_count": 48,
   "metadata": {
    "id": "Mq3yCL_G6unE"
   },
   "outputs": [],
   "source": [
    "dict_speaker = {}\n",
    "with bz2.open(data_path+'Quotebank/quotes-2020.json.bz2', 'rb') as s_file:\n",
    "    for instance in s_file:\n",
    "        instance = json.loads(instance)  # loading a sample\n",
    "        speaker = instance['speaker']  # extracting the speaker\n",
    "        if speaker != 'None':\n",
    "            if speaker in dict_speaker.keys():\n",
    "                dict_speaker[speaker] += 1\n",
    "            else:\n",
    "                dict_speaker.update({speaker: 1})"
   ]
  },
  {
   "cell_type": "code",
   "execution_count": 49,
   "metadata": {
    "colab": {
     "base_uri": "https://localhost:8080/"
    },
    "id": "Cp7s1M8bDE9h",
    "outputId": "6e236d85-6fe8-4752-c39b-90462261cddc"
   },
   "outputs": [
    {
     "name": "stdout",
     "output_type": "stream",
     "text": [
      "1: President Donald Trump with 28023 quotes\n",
      "2: Bernie Sanders with 13189 quotes\n",
      "3: Joe Biden with 12817 quotes\n",
      "4: President Trump with 12415 quotes\n",
      "5: Andrew Cuomo with 11088 quotes\n",
      "6: Narendra Modi with 8239 quotes\n",
      "7: Elizabeth Warren with 7647 quotes\n",
      "8: Donald Trump with 7104 quotes\n",
      "9: Boris Johnson with 6952 quotes\n",
      "10: Scott Morrison with 6601 quotes\n"
     ]
    }
   ],
   "source": [
    "sorted_dict_speaker = {key: value for key, value in sorted(dict_speaker.items(), key=lambda item: item[1], reverse= True)}\n",
    "\n",
    "place = 1\n",
    "for (speak, nbr) in list(sorted_dict_speaker.items())[:10]:\n",
    "    print(f'{place}: {speak} with {nbr} quotes')\n",
    "    place += 1"
   ]
  },
  {
   "cell_type": "markdown",
   "metadata": {
    "id": "qetkoKQVLGr-"
   },
   "source": [
    "Withtout surprise, it is important personalities that we find in the top 10 of our speaker for the year 2020. We mostly see political candidates. There's multiple information we see from this top 10:   \n",
    "\n",
    "There's duplicate in our speakers: Donald trump under different name appears at 3 different places: 1st with 'President Donald Trump', 4th with 'President Trump' and 8th with 'Donald Trump'. However, if they are correctly classified in our research, it shoudln't be a problem since we can identify all the aliases and group them under the same QID.\n",
    "\n",
    "There's an obvious biais in the provenance of the quotation. 5 of the 8 most quoted people from the dataset are from the USAs: \n",
    "\n",
    "  *   Donald Trump: 45th U.S. President\n",
    "  *   Bernie Sanders: United States Senator\n",
    "  *   Joe Biden: 46th U.S. President\n",
    "  *   Andrew Cuomo: Former Governor of New York\n",
    "  *   Elizabeth Warren: United States Senator\n",
    "  \n",
    "\n",
    "And only 3 are from the rest of the world:\n",
    "\n",
    "\n",
    "  *   Narendra Modi: Prime Minister of India\n",
    "  *   Boris Jonhson: Prime Minister of the United Kingdom\n",
    "  *   Scott Morrison: Prime Minister of Australia\n",
    "\n",
    " \n",
    "Note that all of them are from politics. That means that when we are dealing with the 'speaker' feature, we have to be careful about the Data bias."
   ]
  },
  {
   "cell_type": "markdown",
   "metadata": {
    "id": "_LcbiRERRJHG"
   },
   "source": [
    "Below we look at the ~1% most quoted speakers. Then we look at the percentage of their combined number of quotes over the total number of quotes (minus the one without speakers, see the '_special case: when we need to have the speaker's information_' for the values _count_quote_ and _count_none_)"
   ]
  },
  {
   "cell_type": "code",
   "execution_count": 50,
   "metadata": {
    "colab": {
     "base_uri": "https://localhost:8080/"
    },
    "id": "Dgd5XCAtGMMO",
    "outputId": "4743e1f9-0e65-4f22-ffee-1d8efb990eb9"
   },
   "outputs": [
    {
     "name": "stdout",
     "output_type": "stream",
     "text": [
      "Percentage of speaker: 1.0003937476535387\n",
      "Percentage of quotes:  32.43647282426411\n"
     ]
    }
   ],
   "source": [
    "nbr_speakers = len(sorted_dict_speaker)\n",
    "n = 2185 # Choice of n to make it the closest to 1%\n",
    "print(f\"Percentage of speaker: {n*100/nbr_speakers}\")\n",
    "sum = 0\n",
    "for (k,v) in list(sorted_dict_speaker.items())[:n]:\n",
    "    sum += v\n",
    "\n",
    "\n",
    "print(f\"Percentage of quotes:  {sum*100/(count_quote - count_none)}\")"
   ]
  },
  {
   "cell_type": "markdown",
   "metadata": {
    "id": "B90WLmwrTFtI"
   },
   "source": [
    "We see that ~1% of the speakers were quoted for almost a third of the total number of quotations from recognized speaker. This add another Data bias to take into account."
   ]
  },
  {
   "cell_type": "markdown",
   "metadata": {},
   "source": [
    "# Preparing the data to pair speakers and their occupations"
   ]
  },
  {
   "cell_type": "code",
   "execution_count": 9,
   "metadata": {},
   "outputs": [
    {
     "data": {
      "text/plain": [
       "8340215"
      ]
     },
     "execution_count": 9,
     "metadata": {},
     "output_type": "execute_result"
    }
   ],
   "source": [
    "#Creating a list of all the occupation in speaker attributes\n",
    "occup = []\n",
    "for w in speaker_attributes['occupation'].dropna():\n",
    "    for i in w:\n",
    "        occup.append(i)\n",
    "len(occup)"
   ]
  },
  {
   "cell_type": "code",
   "execution_count": 10,
   "metadata": {},
   "outputs": [
    {
     "data": {
      "text/plain": [
       "14575"
      ]
     },
     "execution_count": 10,
     "metadata": {},
     "output_type": "execute_result"
    }
   ],
   "source": [
    "#Creating a dictionnary with the occupation as key and their number of occurences as value\n",
    "occurence = {}\n",
    "for i in occup:\n",
    "    if i in occurence:\n",
    "        occurence[i]=occurence[i]+1\n",
    "    else:\n",
    "        occurence[i]=1\n",
    "len(occurence)"
   ]
  },
  {
   "cell_type": "code",
   "execution_count": 11,
   "metadata": {},
   "outputs": [
    {
     "data": {
      "text/html": [
       "<div>\n",
       "<style scoped>\n",
       "    .dataframe tbody tr th:only-of-type {\n",
       "        vertical-align: middle;\n",
       "    }\n",
       "\n",
       "    .dataframe tbody tr th {\n",
       "        vertical-align: top;\n",
       "    }\n",
       "\n",
       "    .dataframe thead th {\n",
       "        text-align: right;\n",
       "    }\n",
       "</style>\n",
       "<table border=\"1\" class=\"dataframe\">\n",
       "  <thead>\n",
       "    <tr style=\"text-align: right;\">\n",
       "      <th></th>\n",
       "      <th>Label</th>\n",
       "      <th>Description</th>\n",
       "    </tr>\n",
       "    <tr>\n",
       "      <th>QID</th>\n",
       "      <th></th>\n",
       "      <th></th>\n",
       "    </tr>\n",
       "  </thead>\n",
       "  <tbody>\n",
       "    <tr>\n",
       "      <th>Q31</th>\n",
       "      <td>Belgium</td>\n",
       "      <td>country in western Europe</td>\n",
       "    </tr>\n",
       "    <tr>\n",
       "      <th>Q45</th>\n",
       "      <td>Portugal</td>\n",
       "      <td>country in southwestern Europe</td>\n",
       "    </tr>\n",
       "    <tr>\n",
       "      <th>Q75</th>\n",
       "      <td>Internet</td>\n",
       "      <td>global system of connected computer networks</td>\n",
       "    </tr>\n",
       "    <tr>\n",
       "      <th>Q148</th>\n",
       "      <td>People's Republic of China</td>\n",
       "      <td>sovereign state in East Asia</td>\n",
       "    </tr>\n",
       "    <tr>\n",
       "      <th>Q155</th>\n",
       "      <td>Brazil</td>\n",
       "      <td>country in South America</td>\n",
       "    </tr>\n",
       "  </tbody>\n",
       "</table>\n",
       "</div>"
      ],
      "text/plain": [
       "                           Label                                   Description\n",
       "QID                                                                           \n",
       "Q31                      Belgium                     country in western Europe\n",
       "Q45                     Portugal                country in southwestern Europe\n",
       "Q75                     Internet  global system of connected computer networks\n",
       "Q148  People's Republic of China                  sovereign state in East Asia\n",
       "Q155                      Brazil                      country in South America"
      ]
     },
     "execution_count": 11,
     "metadata": {},
     "output_type": "execute_result"
    }
   ],
   "source": [
    "label_description.head()"
   ]
  },
  {
   "cell_type": "code",
   "execution_count": 12,
   "metadata": {},
   "outputs": [
    {
     "data": {
      "text/html": [
       "<div>\n",
       "<style scoped>\n",
       "    .dataframe tbody tr th:only-of-type {\n",
       "        vertical-align: middle;\n",
       "    }\n",
       "\n",
       "    .dataframe tbody tr th {\n",
       "        vertical-align: top;\n",
       "    }\n",
       "\n",
       "    .dataframe thead th {\n",
       "        text-align: right;\n",
       "    }\n",
       "</style>\n",
       "<table border=\"1\" class=\"dataframe\">\n",
       "  <thead>\n",
       "    <tr style=\"text-align: right;\">\n",
       "      <th></th>\n",
       "      <th>QID</th>\n",
       "      <th>Label</th>\n",
       "      <th>Description</th>\n",
       "    </tr>\n",
       "  </thead>\n",
       "  <tbody>\n",
       "    <tr>\n",
       "      <th>0</th>\n",
       "      <td>Q31</td>\n",
       "      <td>Belgium</td>\n",
       "      <td>country in western Europe</td>\n",
       "    </tr>\n",
       "    <tr>\n",
       "      <th>1</th>\n",
       "      <td>Q45</td>\n",
       "      <td>Portugal</td>\n",
       "      <td>country in southwestern Europe</td>\n",
       "    </tr>\n",
       "    <tr>\n",
       "      <th>2</th>\n",
       "      <td>Q75</td>\n",
       "      <td>Internet</td>\n",
       "      <td>global system of connected computer networks</td>\n",
       "    </tr>\n",
       "    <tr>\n",
       "      <th>3</th>\n",
       "      <td>Q148</td>\n",
       "      <td>People's Republic of China</td>\n",
       "      <td>sovereign state in East Asia</td>\n",
       "    </tr>\n",
       "    <tr>\n",
       "      <th>4</th>\n",
       "      <td>Q155</td>\n",
       "      <td>Brazil</td>\n",
       "      <td>country in South America</td>\n",
       "    </tr>\n",
       "  </tbody>\n",
       "</table>\n",
       "</div>"
      ],
      "text/plain": [
       "    QID                       Label  \\\n",
       "0   Q31                     Belgium   \n",
       "1   Q45                    Portugal   \n",
       "2   Q75                    Internet   \n",
       "3  Q148  People's Republic of China   \n",
       "4  Q155                      Brazil   \n",
       "\n",
       "                                    Description  \n",
       "0                     country in western Europe  \n",
       "1                country in southwestern Europe  \n",
       "2  global system of connected computer networks  \n",
       "3                  sovereign state in East Asia  \n",
       "4                      country in South America  "
      ]
     },
     "execution_count": 12,
     "metadata": {},
     "output_type": "execute_result"
    }
   ],
   "source": [
    "#Dropping the nan value in the dataset\n",
    "lab_desc = label_description.reset_index().dropna()\n",
    "lab_desc.head()"
   ]
  },
  {
   "cell_type": "code",
   "execution_count": 13,
   "metadata": {},
   "outputs": [
    {
     "name": "stdout",
     "output_type": "stream",
     "text": [
      "['politician', 'person involved in politics, person who holds or seeks positions in government', 658049]\n"
     ]
    }
   ],
   "source": [
    "#Adding the occurences\n",
    "dico = {}\n",
    "for i in occurence:\n",
    "    if i in lab_desc['QID'].values:\n",
    "        dico[i]= [lab_desc[lab_desc['QID']==i]['Label'].values.item(),lab_desc[lab_desc['QID']==i]['Description'].values.item(),occurence[i]]\n",
    "print(dico['Q82955'])"
   ]
  },
  {
   "cell_type": "code",
   "execution_count": 14,
   "metadata": {},
   "outputs": [
    {
     "data": {
      "text/html": [
       "<div>\n",
       "<style scoped>\n",
       "    .dataframe tbody tr th:only-of-type {\n",
       "        vertical-align: middle;\n",
       "    }\n",
       "\n",
       "    .dataframe tbody tr th {\n",
       "        vertical-align: top;\n",
       "    }\n",
       "\n",
       "    .dataframe thead th {\n",
       "        text-align: right;\n",
       "    }\n",
       "</style>\n",
       "<table border=\"1\" class=\"dataframe\">\n",
       "  <thead>\n",
       "    <tr style=\"text-align: right;\">\n",
       "      <th></th>\n",
       "      <th>ID</th>\n",
       "      <th>Label</th>\n",
       "      <th>Description</th>\n",
       "      <th>Occurences</th>\n",
       "    </tr>\n",
       "  </thead>\n",
       "  <tbody>\n",
       "    <tr>\n",
       "      <th>0</th>\n",
       "      <td>Q82955</td>\n",
       "      <td>politician</td>\n",
       "      <td>person involved in politics, person who holds ...</td>\n",
       "      <td>658049</td>\n",
       "    </tr>\n",
       "    <tr>\n",
       "      <th>1</th>\n",
       "      <td>Q189290</td>\n",
       "      <td>military officer</td>\n",
       "      <td>member of an armed force or uniformed service ...</td>\n",
       "      <td>38841</td>\n",
       "    </tr>\n",
       "    <tr>\n",
       "      <th>2</th>\n",
       "      <td>Q131512</td>\n",
       "      <td>farmer</td>\n",
       "      <td>person who works in agriculture</td>\n",
       "      <td>10476</td>\n",
       "    </tr>\n",
       "    <tr>\n",
       "      <th>3</th>\n",
       "      <td>Q1734662</td>\n",
       "      <td>cartographer</td>\n",
       "      <td>person preparing geographical maps</td>\n",
       "      <td>2404</td>\n",
       "    </tr>\n",
       "    <tr>\n",
       "      <th>4</th>\n",
       "      <td>Q294126</td>\n",
       "      <td>land surveyor</td>\n",
       "      <td>profession</td>\n",
       "      <td>938</td>\n",
       "    </tr>\n",
       "  </tbody>\n",
       "</table>\n",
       "</div>"
      ],
      "text/plain": [
       "         ID             Label  \\\n",
       "0    Q82955        politician   \n",
       "1   Q189290  military officer   \n",
       "2   Q131512            farmer   \n",
       "3  Q1734662      cartographer   \n",
       "4   Q294126     land surveyor   \n",
       "\n",
       "                                         Description  Occurences  \n",
       "0  person involved in politics, person who holds ...      658049  \n",
       "1  member of an armed force or uniformed service ...       38841  \n",
       "2                    person who works in agriculture       10476  \n",
       "3                 person preparing geographical maps        2404  \n",
       "4                                         profession         938  "
      ]
     },
     "execution_count": 14,
     "metadata": {},
     "output_type": "execute_result"
    }
   ],
   "source": [
    "#Creating the dataframe with id, label,description and the number of occurences\n",
    "df_LD = pd.DataFrame(dico.items(), columns=['ID', 'Label'])\n",
    "df_LD[['Label','Description','Occurences']] = pd.DataFrame(df_LD.Label.tolist(), index= df_LD.index)\n",
    "df_LD.sort_values(by=['Occurences'],ascending=False)\n",
    "df_LD.head()"
   ]
  },
  {
   "cell_type": "code",
   "execution_count": 15,
   "metadata": {},
   "outputs": [],
   "source": [
    "#Loading the dataset in a parquet file\n",
    "#df_LD.to_parquet('data/Id_Work2.parquet')"
   ]
  },
  {
   "cell_type": "markdown",
   "metadata": {},
   "source": [
    "### Clustering"
   ]
  },
  {
   "cell_type": "markdown",
   "metadata": {},
   "source": [
    "Our aim is to cluster the label in order to ideally have a cluster regrouping all the medical field, the financial one, the ecology one, military, etc...\n",
    "We will use the label and the description in order to find relevant cluster. We have tried different approaches, using TF_IDF matrix, word2vec, doc2vec and we encounter the same problem in all of them. Indeed doing that kind of clustering is actually a really complicated task, we always managed to find some relevant cluster for example the sports together, artist together but we always end up with cluster with no sens as there are too many different profession. We decided to focus on the TF_IDF approach which seemed to be working the best, after some tuning on the parameters we were able to find a good cluster regrouping the profession of the medical field and others about military, engineer,... Unfortunatly we were not able to have an economy or ecology cluster so we decided to look into a more brute force approach. Once the clustering was done, we regroup all the cluster that didn't make sens into one again and filter them in 3 cluster using list of words, one for economy one for ecology and the last one for those that didn't belong anywhere and didn't interested us, the trash cluster."
   ]
  },
  {
   "cell_type": "code",
   "execution_count": 16,
   "metadata": {},
   "outputs": [
    {
     "data": {
      "text/html": [
       "<div>\n",
       "<style scoped>\n",
       "    .dataframe tbody tr th:only-of-type {\n",
       "        vertical-align: middle;\n",
       "    }\n",
       "\n",
       "    .dataframe tbody tr th {\n",
       "        vertical-align: top;\n",
       "    }\n",
       "\n",
       "    .dataframe thead th {\n",
       "        text-align: right;\n",
       "    }\n",
       "</style>\n",
       "<table border=\"1\" class=\"dataframe\">\n",
       "  <thead>\n",
       "    <tr style=\"text-align: right;\">\n",
       "      <th></th>\n",
       "      <th>ID</th>\n",
       "      <th>Label</th>\n",
       "      <th>Description</th>\n",
       "      <th>Occurences</th>\n",
       "    </tr>\n",
       "  </thead>\n",
       "  <tbody>\n",
       "    <tr>\n",
       "      <th>0</th>\n",
       "      <td>Q82955</td>\n",
       "      <td>politician</td>\n",
       "      <td>person involved in politics, person who holds ...</td>\n",
       "      <td>658049</td>\n",
       "    </tr>\n",
       "    <tr>\n",
       "      <th>1</th>\n",
       "      <td>Q189290</td>\n",
       "      <td>military officer</td>\n",
       "      <td>member of an armed force or uniformed service ...</td>\n",
       "      <td>38841</td>\n",
       "    </tr>\n",
       "    <tr>\n",
       "      <th>2</th>\n",
       "      <td>Q131512</td>\n",
       "      <td>farmer</td>\n",
       "      <td>person who works in agriculture</td>\n",
       "      <td>10476</td>\n",
       "    </tr>\n",
       "    <tr>\n",
       "      <th>3</th>\n",
       "      <td>Q1734662</td>\n",
       "      <td>cartographer</td>\n",
       "      <td>person preparing geographical maps</td>\n",
       "      <td>2404</td>\n",
       "    </tr>\n",
       "    <tr>\n",
       "      <th>4</th>\n",
       "      <td>Q294126</td>\n",
       "      <td>land surveyor</td>\n",
       "      <td>profession</td>\n",
       "      <td>938</td>\n",
       "    </tr>\n",
       "  </tbody>\n",
       "</table>\n",
       "</div>"
      ],
      "text/plain": [
       "         ID             Label  \\\n",
       "0    Q82955        politician   \n",
       "1   Q189290  military officer   \n",
       "2   Q131512            farmer   \n",
       "3  Q1734662      cartographer   \n",
       "4   Q294126     land surveyor   \n",
       "\n",
       "                                         Description  Occurences  \n",
       "0  person involved in politics, person who holds ...      658049  \n",
       "1  member of an armed force or uniformed service ...       38841  \n",
       "2                    person who works in agriculture       10476  \n",
       "3                 person preparing geographical maps        2404  \n",
       "4                                         profession         938  "
      ]
     },
     "execution_count": 16,
     "metadata": {},
     "output_type": "execute_result"
    }
   ],
   "source": [
    "df_LD.head()"
   ]
  },
  {
   "cell_type": "code",
   "execution_count": 17,
   "metadata": {},
   "outputs": [],
   "source": [
    "texts_all = df_LD.Description # Extract description\n",
    "target_all = df_LD.Label # Extract label\n",
    "job_desc_all = target_all.str.cat(texts_all, sep=' , ') #Group the description and label together"
   ]
  },
  {
   "cell_type": "code",
   "execution_count": 33,
   "metadata": {},
   "outputs": [
    {
     "name": "stderr",
     "output_type": "stream",
     "text": [
      "C:\\Users\\signe\\Anaconda3\\lib\\site-packages\\numpy\\matrixlib\\defmatrix.py:71: PendingDeprecationWarning: the matrix subclass is not the recommended way to represent matrices or deal with linear algebra (see https://docs.scipy.org/doc/numpy/user/numpy-for-matlab-users.html). Please adjust your code to use regular ndarray.\n",
      "  return matrix(data, dtype=dtype, copy=False)\n"
     ]
    }
   ],
   "source": [
    "vectorizer = TfidfVectorizer(stop_words='english',ngram_range=(1,3))\n",
    "X = vectorizer.fit_transform(job_desc_all)"
   ]
  },
  {
   "cell_type": "code",
   "execution_count": 34,
   "metadata": {},
   "outputs": [
    {
     "data": {
      "text/plain": [
       "KMeans(max_iter=500, n_clusters=15, random_state=22)"
      ]
     },
     "execution_count": 34,
     "metadata": {},
     "output_type": "execute_result"
    }
   ],
   "source": [
    "# param for our model : cluster 15, iter 500, init 10, random state 22\n",
    "number_of_clusters = 15\n",
    "\n",
    "model = KMeans(n_clusters=number_of_clusters, \n",
    "               init='k-means++', \n",
    "               max_iter=500, # Maximum number of iterations of the k-means algorithm for a single run.\n",
    "               n_init=10,random_state=22)  # Number of time the k-means algorithm will be run with different centroid seeds. The final results will be the best output of n_init consecutive runs in terms of inertia.\n",
    "model.fit(X)"
   ]
  },
  {
   "cell_type": "code",
   "execution_count": 35,
   "metadata": {},
   "outputs": [
    {
     "data": {
      "text/html": [
       "<div>\n",
       "<style scoped>\n",
       "    .dataframe tbody tr th:only-of-type {\n",
       "        vertical-align: middle;\n",
       "    }\n",
       "\n",
       "    .dataframe tbody tr th {\n",
       "        vertical-align: top;\n",
       "    }\n",
       "\n",
       "    .dataframe thead th {\n",
       "        text-align: right;\n",
       "    }\n",
       "</style>\n",
       "<table border=\"1\" class=\"dataframe\">\n",
       "  <thead>\n",
       "    <tr style=\"text-align: right;\">\n",
       "      <th></th>\n",
       "      <th>ID</th>\n",
       "      <th>Label</th>\n",
       "      <th>Description</th>\n",
       "      <th>Occurences</th>\n",
       "      <th>cluster</th>\n",
       "    </tr>\n",
       "  </thead>\n",
       "  <tbody>\n",
       "    <tr>\n",
       "      <th>0</th>\n",
       "      <td>Q82955</td>\n",
       "      <td>politician</td>\n",
       "      <td>person involved in politics, person who holds ...</td>\n",
       "      <td>658049</td>\n",
       "      <td>5</td>\n",
       "    </tr>\n",
       "    <tr>\n",
       "      <th>1</th>\n",
       "      <td>Q189290</td>\n",
       "      <td>military officer</td>\n",
       "      <td>member of an armed force or uniformed service ...</td>\n",
       "      <td>38841</td>\n",
       "      <td>3</td>\n",
       "    </tr>\n",
       "    <tr>\n",
       "      <th>2</th>\n",
       "      <td>Q131512</td>\n",
       "      <td>farmer</td>\n",
       "      <td>person who works in agriculture</td>\n",
       "      <td>10476</td>\n",
       "      <td>5</td>\n",
       "    </tr>\n",
       "    <tr>\n",
       "      <th>3</th>\n",
       "      <td>Q1734662</td>\n",
       "      <td>cartographer</td>\n",
       "      <td>person preparing geographical maps</td>\n",
       "      <td>2404</td>\n",
       "      <td>5</td>\n",
       "    </tr>\n",
       "    <tr>\n",
       "      <th>4</th>\n",
       "      <td>Q294126</td>\n",
       "      <td>land surveyor</td>\n",
       "      <td>profession</td>\n",
       "      <td>938</td>\n",
       "      <td>4</td>\n",
       "    </tr>\n",
       "  </tbody>\n",
       "</table>\n",
       "</div>"
      ],
      "text/plain": [
       "         ID             Label  \\\n",
       "0    Q82955        politician   \n",
       "1   Q189290  military officer   \n",
       "2   Q131512            farmer   \n",
       "3  Q1734662      cartographer   \n",
       "4   Q294126     land surveyor   \n",
       "\n",
       "                                         Description  Occurences  cluster  \n",
       "0  person involved in politics, person who holds ...      658049        5  \n",
       "1  member of an armed force or uniformed service ...       38841        3  \n",
       "2                    person who works in agriculture       10476        5  \n",
       "3                 person preparing geographical maps        2404        5  \n",
       "4                                         profession         938        4  "
      ]
     },
     "execution_count": 35,
     "metadata": {},
     "output_type": "execute_result"
    }
   ],
   "source": [
    "#Assign the cluster to the corresponding label in the dataset\n",
    "lab = model.labels_\n",
    "df_cluster = df_LD.copy()\n",
    "df_cluster['cluster'] = lab\n",
    "df_cluster.head(5)"
   ]
  },
  {
   "cell_type": "code",
   "execution_count": 36,
   "metadata": {},
   "outputs": [],
   "source": [
    "#Loading the dataset in a parquet file\n",
    "#df_cluster.to_parquet('data/cluster.parquet')"
   ]
  },
  {
   "cell_type": "code",
   "execution_count": 37,
   "metadata": {},
   "outputs": [
    {
     "name": "stdout",
     "output_type": "stream",
     "text": [
      "--------------Cluster 0 ---------------\n",
      "6             statesperson\n",
      "7              slaveholder\n",
      "9             screenwriter\n",
      "10                novelist\n",
      "11       children's writer\n",
      "               ...        \n",
      "9770          beauty salon\n",
      "9772    mineral processing\n",
      "9774         Meistersinger\n",
      "9775           ethnography\n",
      "9778         Fashion Model\n",
      "Name: Label, Length: 5414, dtype: object\n",
      "--------------Cluster 1 ---------------\n",
      "372               professor\n",
      "1536         Superintendent\n",
      "1682       fashion designer\n",
      "1689                  Blind\n",
      "1745               Reformer\n",
      "               ...         \n",
      "9626             Mentaliste\n",
      "9660    goodwill ambassador\n",
      "9699                Harcerz\n",
      "9707       Andalusian music\n",
      "9777             Programmer\n",
      "Name: Label, Length: 302, dtype: object\n",
      "--------------Cluster 2 ---------------\n",
      "32                  astronomer\n",
      "33                      jurist\n",
      "114                 theologian\n",
      "127                  zoologist\n",
      "128              carcinologist\n",
      "                 ...          \n",
      "9524      vocational education\n",
      "9589    Latin American studies\n",
      "9712      Scandinavian studies\n",
      "9769      population biologist\n",
      "9771               law student\n",
      "Name: Label, Length: 215, dtype: object\n",
      "--------------Cluster 3 ---------------\n",
      "1           military officer\n",
      "66        military personnel\n",
      "99                   soldier\n",
      "183        military engineer\n",
      "197          military leader\n",
      "                ...         \n",
      "9616            vice admiral\n",
      "9630           comfort women\n",
      "9661               brigadier\n",
      "9672    Cuirassiers Regiment\n",
      "9753                 general\n",
      "Name: Label, Length: 183, dtype: object\n",
      "--------------Cluster 4 ---------------\n",
      "4                 land surveyor\n",
      "17        information scientist\n",
      "100         film score composer\n",
      "140                    engraver\n",
      "143                art theorist\n",
      "                 ...           \n",
      "9577         digital strategist\n",
      "9674    circuit board assembler\n",
      "9681          coin weight maker\n",
      "9726                 Arcularius\n",
      "9759                 Mahjongist\n",
      "Name: Label, Length: 500, dtype: object\n",
      "--------------Cluster 5 ---------------\n",
      "0                   politician\n",
      "2                       farmer\n",
      "3                 cartographer\n",
      "8                   playwright\n",
      "12      science fiction writer\n",
      "                 ...          \n",
      "9720            skilled worker\n",
      "9740       editorial assistant\n",
      "9746                    Foodie\n",
      "9750                  hobbyist\n",
      "9773             thanatologist\n",
      "Name: Label, Length: 1124, dtype: object\n",
      "--------------Cluster 6 ---------------\n",
      "40                            diplomat\n",
      "86                     sports official\n",
      "94                            official\n",
      "213                              judge\n",
      "381            chief executive officer\n",
      "                     ...              \n",
      "9599    State Personnel Administration\n",
      "9601                 Cabinet Secretary\n",
      "9619                   mayor of Burgos\n",
      "9644                diplomatic mission\n",
      "9734      associate research professor\n",
      "Name: Label, Length: 480, dtype: object\n",
      "--------------Cluster 7 ---------------\n",
      "39                     physician\n",
      "216                      midwife\n",
      "221                      surgeon\n",
      "318                  pathologist\n",
      "451                    anatomist\n",
      "                  ...           \n",
      "9608             medical physics\n",
      "9610    Medical school in France\n",
      "9624                   treatment\n",
      "9625                  nephrology\n",
      "9765             medical officer\n",
      "Name: Label, Length: 117, dtype: object\n",
      "--------------Cluster 8 ---------------\n",
      "43                 film director\n",
      "62           television producer\n",
      "137                    occultist\n",
      "202          Protestant reformer\n",
      "212     racing automobile driver\n",
      "                  ...           \n",
      "9637                     Sergent\n",
      "9647         sports psychologist\n",
      "9652                       wiper\n",
      "9696          inspector of works\n",
      "9716                    Kämmerer\n",
      "Name: Label, Length: 301, dtype: object\n",
      "--------------Cluster 9 ---------------\n",
      "5                                                engineer\n",
      "198                                    aerospace engineer\n",
      "269                                     software engineer\n",
      "662                                       mining engineer\n",
      "1070                                    chemical engineer\n",
      "                              ...                        \n",
      "9451                                       Dean of Cashel\n",
      "9468                                    engineer's degree\n",
      "9572    United States Ambassador to the Organization o...\n",
      "9725                                        Dental doctor\n",
      "9748                                      neural engineer\n",
      "Name: Label, Length: 100, dtype: object\n",
      "--------------Cluster 10 ---------------\n",
      "154                 teacher\n",
      "389             rhetorician\n",
      "456           drama teacher\n",
      "594     high school teacher\n",
      "694                   rabbi\n",
      "               ...         \n",
      "9304     missionary teacher\n",
      "9688          normal master\n",
      "9742      saxophone teacher\n",
      "9747       trombone teacher\n",
      "9776          viola teacher\n",
      "Name: Label, Length: 84, dtype: object\n",
      "--------------Cluster 11 ---------------\n",
      "136                   manufacturer\n",
      "261                       explorer\n",
      "264                        psychic\n",
      "290                      solicitor\n",
      "306               religious leader\n",
      "                   ...            \n",
      "9705    minister without portfolio\n",
      "9738                   rewrite man\n",
      "9744        information specialist\n",
      "9745          development director\n",
      "9760    Information security audit\n",
      "Name: Label, Length: 320, dtype: object\n",
      "--------------Cluster 12 ---------------\n",
      "80                     university teacher\n",
      "186            professeur des universités\n",
      "253                              academic\n",
      "478                    head of department\n",
      "918               professor of philosophy\n",
      "                      ...                \n",
      "9550      Universidade Federal de Sergipe\n",
      "9602    University of Maryland, Baltimore\n",
      "9668        Columbia University Libraries\n",
      "9689               Aberystwyth University\n",
      "9715               University of Brighton\n",
      "Name: Label, Length: 122, dtype: object\n",
      "--------------Cluster 13 ---------------\n",
      "102                                       music pedagogue\n",
      "108                                             professor\n",
      "176                                                  Khan\n",
      "281                                     managing director\n",
      "532                                              Margrave\n",
      "                              ...                        \n",
      "9508                                              prelate\n",
      "9515                          Pilot-Cosmonaut of the USSR\n",
      "9538                    United Nations Special Rapporteur\n",
      "9566    curator alvei Tiberis et riparum et cloacarum ...\n",
      "9728                                             freigraf\n",
      "Name: Label, Length: 259, dtype: object\n",
      "--------------Cluster 14 ---------------\n",
      "22                 painter\n",
      "44                musician\n",
      "45         record producer\n",
      "50              songwriter\n",
      "69      classical composer\n",
      "               ...        \n",
      "9191          pixel artist\n",
      "9418                Thumri\n",
      "9440             folk song\n",
      "9531                  fado\n",
      "9722     singer-songwriter\n",
      "Name: Label, Length: 258, dtype: object\n"
     ]
    }
   ],
   "source": [
    "#Show what kind of profession are in each cluster and the number of them\n",
    "for i in range(number_of_clusters):\n",
    "    print('--------------Cluster',i,'---------------')\n",
    "    print(df_cluster[df_cluster['cluster']==i]['Label'])"
   ]
  },
  {
   "cell_type": "code",
   "execution_count": 38,
   "metadata": {
    "scrolled": true
   },
   "outputs": [
    {
     "data": {
      "text/html": [
       "<div>\n",
       "<style scoped>\n",
       "    .dataframe tbody tr th:only-of-type {\n",
       "        vertical-align: middle;\n",
       "    }\n",
       "\n",
       "    .dataframe tbody tr th {\n",
       "        vertical-align: top;\n",
       "    }\n",
       "\n",
       "    .dataframe thead th {\n",
       "        text-align: right;\n",
       "    }\n",
       "</style>\n",
       "<table border=\"1\" class=\"dataframe\">\n",
       "  <thead>\n",
       "    <tr style=\"text-align: right;\">\n",
       "      <th></th>\n",
       "      <th>ID</th>\n",
       "      <th>Label</th>\n",
       "      <th>Description</th>\n",
       "      <th>Occurences</th>\n",
       "      <th>cluster</th>\n",
       "    </tr>\n",
       "  </thead>\n",
       "  <tbody>\n",
       "    <tr>\n",
       "      <th>39</th>\n",
       "      <td>Q39631</td>\n",
       "      <td>physician</td>\n",
       "      <td>professional who practices medicine</td>\n",
       "      <td>56180</td>\n",
       "      <td>7</td>\n",
       "    </tr>\n",
       "    <tr>\n",
       "      <th>221</th>\n",
       "      <td>Q774306</td>\n",
       "      <td>surgeon</td>\n",
       "      <td>physician with surgical specialty</td>\n",
       "      <td>8915</td>\n",
       "      <td>7</td>\n",
       "    </tr>\n",
       "    <tr>\n",
       "      <th>318</th>\n",
       "      <td>Q3368718</td>\n",
       "      <td>pathologist</td>\n",
       "      <td>physician with medical specialty pathology</td>\n",
       "      <td>1742</td>\n",
       "      <td>7</td>\n",
       "    </tr>\n",
       "    <tr>\n",
       "      <th>682</th>\n",
       "      <td>Q1919436</td>\n",
       "      <td>pediatrician</td>\n",
       "      <td>physician with medical specialty pediatrics</td>\n",
       "      <td>1739</td>\n",
       "      <td>7</td>\n",
       "    </tr>\n",
       "    <tr>\n",
       "      <th>606</th>\n",
       "      <td>Q15924224</td>\n",
       "      <td>internist</td>\n",
       "      <td>physician with medical specialty internal medi...</td>\n",
       "      <td>1721</td>\n",
       "      <td>7</td>\n",
       "    </tr>\n",
       "  </tbody>\n",
       "</table>\n",
       "</div>"
      ],
      "text/plain": [
       "            ID         Label  \\\n",
       "39      Q39631     physician   \n",
       "221    Q774306       surgeon   \n",
       "318   Q3368718   pathologist   \n",
       "682   Q1919436  pediatrician   \n",
       "606  Q15924224     internist   \n",
       "\n",
       "                                           Description  Occurences  cluster  \n",
       "39                 professional who practices medicine       56180        7  \n",
       "221                  physician with surgical specialty        8915        7  \n",
       "318         physician with medical specialty pathology        1742        7  \n",
       "682        physician with medical specialty pediatrics        1739        7  \n",
       "606  physician with medical specialty internal medi...        1721        7  "
      ]
     },
     "execution_count": 38,
     "metadata": {},
     "output_type": "execute_result"
    }
   ],
   "source": [
    "#Here we show our medecine cluster\n",
    "df_cluster[df_cluster['cluster']==7].sort_values(by=['Occurences'],ascending=False).head()"
   ]
  },
  {
   "cell_type": "code",
   "execution_count": 39,
   "metadata": {},
   "outputs": [],
   "source": [
    "#We define our list of words corresponding to the economy and ecology field\n",
    "list_cluster = [3,6,7,9,10,14]\n",
    "finance = ['revenue','business','economics','economy','money','investments','accountancy']\n",
    "ecolo = ['ecology','environmental','environment','environmentalist','climat','pollution','green','ecologic','eco','sustainable']"
   ]
  },
  {
   "cell_type": "code",
   "execution_count": 40,
   "metadata": {},
   "outputs": [],
   "source": [
    "#We assign the value 0 to all the unwanted cluster\n",
    "df_cluster.loc[~df_cluster['cluster'].isin(list_cluster),'cluster']=0"
   ]
  },
  {
   "cell_type": "code",
   "execution_count": 41,
   "metadata": {},
   "outputs": [
    {
     "data": {
      "text/plain": [
       "0     8557\n",
       "6      480\n",
       "14     258\n",
       "3      183\n",
       "7      117\n",
       "9      100\n",
       "10      84\n",
       "Name: cluster, dtype: int64"
      ]
     },
     "execution_count": 41,
     "metadata": {},
     "output_type": "execute_result"
    }
   ],
   "source": [
    "df_cluster['cluster'].value_counts()"
   ]
  },
  {
   "cell_type": "code",
   "execution_count": 42,
   "metadata": {},
   "outputs": [],
   "source": [
    "#assign the value 1 for the economy cluster and value 2 to the ecology cluster\n",
    "for index, row in df_cluster.iterrows():\n",
    "    words = row['Label'].split()\n",
    "    words = words + row['Description'].split()\n",
    "    for w in words:\n",
    "        if w in finance:\n",
    "            df_cluster.loc[index,'cluster']=1\n",
    "        if w in ecolo:\n",
    "            df_cluster.loc[index,'cluster']=2"
   ]
  },
  {
   "cell_type": "code",
   "execution_count": 43,
   "metadata": {},
   "outputs": [],
   "source": [
    "#rearrange the cluster in a nicest way\n",
    "df_cluster.loc[df_cluster['cluster']==3,'cluster']=4\n",
    "df_cluster.loc[df_cluster['cluster']==7,'cluster']=3\n",
    "df_cluster.loc[df_cluster['cluster']==14,'cluster']=5\n",
    "df_cluster.loc[df_cluster['cluster']==10,'cluster']=7\n",
    "df_cluster.loc[df_cluster['cluster']==9,'cluster']=8"
   ]
  },
  {
   "cell_type": "code",
   "execution_count": 45,
   "metadata": {},
   "outputs": [
    {
     "data": {
      "text/plain": [
       "0    8382\n",
       "6     478\n",
       "5     257\n",
       "4     183\n",
       "1     135\n",
       "3     117\n",
       "8      96\n",
       "7      83\n",
       "2      48\n",
       "Name: cluster, dtype: int64"
      ]
     },
     "execution_count": 45,
     "metadata": {},
     "output_type": "execute_result"
    }
   ],
   "source": [
    "df_cluster['cluster'].value_counts()"
   ]
  },
  {
   "cell_type": "code",
   "execution_count": 46,
   "metadata": {},
   "outputs": [],
   "source": [
    "#Dictionnary to see which cluster correspond to what\n",
    "cluster_name = {0:'trash',\n",
    "               1:'economy',\n",
    "               2:'ecology',\n",
    "               3:'medecine',\n",
    "               4:'military',\n",
    "               5:'artist',\n",
    "               6:'diplomat/official',\n",
    "               7:'teacher',\n",
    "               8:'engineer'}"
   ]
  },
  {
   "cell_type": "code",
   "execution_count": 47,
   "metadata": {},
   "outputs": [],
   "source": [
    "#load the data in a parquet file for convenience\n",
    "#df_good.to_parquet('data/clean_cluster.parquet')"
   ]
  },
  {
   "cell_type": "code",
   "execution_count": 48,
   "metadata": {},
   "outputs": [
    {
     "data": {
      "text/html": [
       "<div>\n",
       "<style scoped>\n",
       "    .dataframe tbody tr th:only-of-type {\n",
       "        vertical-align: middle;\n",
       "    }\n",
       "\n",
       "    .dataframe tbody tr th {\n",
       "        vertical-align: top;\n",
       "    }\n",
       "\n",
       "    .dataframe thead th {\n",
       "        text-align: right;\n",
       "    }\n",
       "</style>\n",
       "<table border=\"1\" class=\"dataframe\">\n",
       "  <thead>\n",
       "    <tr style=\"text-align: right;\">\n",
       "      <th></th>\n",
       "      <th>ID</th>\n",
       "      <th>Label</th>\n",
       "      <th>Description</th>\n",
       "      <th>Occurences</th>\n",
       "      <th>cluster</th>\n",
       "    </tr>\n",
       "  </thead>\n",
       "  <tbody>\n",
       "    <tr>\n",
       "      <th>0</th>\n",
       "      <td>Q82955</td>\n",
       "      <td>politician</td>\n",
       "      <td>person involved in politics, person who holds ...</td>\n",
       "      <td>658049</td>\n",
       "      <td>0</td>\n",
       "    </tr>\n",
       "    <tr>\n",
       "      <th>1</th>\n",
       "      <td>Q189290</td>\n",
       "      <td>military officer</td>\n",
       "      <td>member of an armed force or uniformed service ...</td>\n",
       "      <td>38841</td>\n",
       "      <td>4</td>\n",
       "    </tr>\n",
       "    <tr>\n",
       "      <th>2</th>\n",
       "      <td>Q131512</td>\n",
       "      <td>farmer</td>\n",
       "      <td>person who works in agriculture</td>\n",
       "      <td>10476</td>\n",
       "      <td>0</td>\n",
       "    </tr>\n",
       "    <tr>\n",
       "      <th>3</th>\n",
       "      <td>Q1734662</td>\n",
       "      <td>cartographer</td>\n",
       "      <td>person preparing geographical maps</td>\n",
       "      <td>2404</td>\n",
       "      <td>0</td>\n",
       "    </tr>\n",
       "    <tr>\n",
       "      <th>4</th>\n",
       "      <td>Q294126</td>\n",
       "      <td>land surveyor</td>\n",
       "      <td>profession</td>\n",
       "      <td>938</td>\n",
       "      <td>0</td>\n",
       "    </tr>\n",
       "  </tbody>\n",
       "</table>\n",
       "</div>"
      ],
      "text/plain": [
       "         ID             Label  \\\n",
       "0    Q82955        politician   \n",
       "1   Q189290  military officer   \n",
       "2   Q131512            farmer   \n",
       "3  Q1734662      cartographer   \n",
       "4   Q294126     land surveyor   \n",
       "\n",
       "                                         Description  Occurences  cluster  \n",
       "0  person involved in politics, person who holds ...      658049        0  \n",
       "1  member of an armed force or uniformed service ...       38841        4  \n",
       "2                    person who works in agriculture       10476        0  \n",
       "3                 person preparing geographical maps        2404        0  \n",
       "4                                         profession         938        0  "
      ]
     },
     "execution_count": 48,
     "metadata": {},
     "output_type": "execute_result"
    }
   ],
   "source": [
    "df_cluster.head()"
   ]
  },
  {
   "cell_type": "code",
   "execution_count": 51,
   "metadata": {},
   "outputs": [
    {
     "name": "stdout",
     "output_type": "stream",
     "text": [
      "{0: 7031749, 1: 128117, 2: 16333, 3: 78587, 4: 149718, 5: 630586, 6: 108551, 7: 70594, 8: 43129}\n"
     ]
    }
   ],
   "source": [
    "cluster_occu = {}\n",
    "for i in cluster_name:\n",
    "    cluster_occu[i] = df_cluster[df_cluster['cluster']==i]['Occurences'].sum()\n",
    "print(cluster_occu)    "
   ]
  },
  {
   "cell_type": "code",
   "execution_count": 58,
   "metadata": {},
   "outputs": [
    {
     "data": {
      "text/plain": [
       "[7031749, 128117, 16333, 78587, 149718, 630586, 108551, 70594, 43129]"
      ]
     },
     "execution_count": 58,
     "metadata": {},
     "output_type": "execute_result"
    }
   ],
   "source": [
    "list(cluster_occu.values())"
   ]
  },
  {
   "cell_type": "code",
   "execution_count": 85,
   "metadata": {},
   "outputs": [
    {
     "data": {
      "text/html": [
       "<div>\n",
       "<style scoped>\n",
       "    .dataframe tbody tr th:only-of-type {\n",
       "        vertical-align: middle;\n",
       "    }\n",
       "\n",
       "    .dataframe tbody tr th {\n",
       "        vertical-align: top;\n",
       "    }\n",
       "\n",
       "    .dataframe thead th {\n",
       "        text-align: right;\n",
       "    }\n",
       "</style>\n",
       "<table border=\"1\" class=\"dataframe\">\n",
       "  <thead>\n",
       "    <tr style=\"text-align: right;\">\n",
       "      <th></th>\n",
       "      <th>cluster</th>\n",
       "      <th>occu</th>\n",
       "      <th>name</th>\n",
       "    </tr>\n",
       "  </thead>\n",
       "  <tbody>\n",
       "    <tr>\n",
       "      <th>0</th>\n",
       "      <td>0</td>\n",
       "      <td>7031749</td>\n",
       "      <td>trash</td>\n",
       "    </tr>\n",
       "    <tr>\n",
       "      <th>1</th>\n",
       "      <td>1</td>\n",
       "      <td>128117</td>\n",
       "      <td>economy</td>\n",
       "    </tr>\n",
       "    <tr>\n",
       "      <th>2</th>\n",
       "      <td>2</td>\n",
       "      <td>16333</td>\n",
       "      <td>ecology</td>\n",
       "    </tr>\n",
       "    <tr>\n",
       "      <th>3</th>\n",
       "      <td>3</td>\n",
       "      <td>78587</td>\n",
       "      <td>medecine</td>\n",
       "    </tr>\n",
       "    <tr>\n",
       "      <th>4</th>\n",
       "      <td>4</td>\n",
       "      <td>149718</td>\n",
       "      <td>military</td>\n",
       "    </tr>\n",
       "    <tr>\n",
       "      <th>5</th>\n",
       "      <td>5</td>\n",
       "      <td>630586</td>\n",
       "      <td>artist</td>\n",
       "    </tr>\n",
       "    <tr>\n",
       "      <th>6</th>\n",
       "      <td>6</td>\n",
       "      <td>108551</td>\n",
       "      <td>diplomat/official</td>\n",
       "    </tr>\n",
       "    <tr>\n",
       "      <th>7</th>\n",
       "      <td>7</td>\n",
       "      <td>70594</td>\n",
       "      <td>teacher</td>\n",
       "    </tr>\n",
       "    <tr>\n",
       "      <th>8</th>\n",
       "      <td>8</td>\n",
       "      <td>43129</td>\n",
       "      <td>engineer</td>\n",
       "    </tr>\n",
       "  </tbody>\n",
       "</table>\n",
       "</div>"
      ],
      "text/plain": [
       "   cluster     occu               name\n",
       "0        0  7031749              trash\n",
       "1        1   128117            economy\n",
       "2        2    16333            ecology\n",
       "3        3    78587           medecine\n",
       "4        4   149718           military\n",
       "5        5   630586             artist\n",
       "6        6   108551  diplomat/official\n",
       "7        7    70594            teacher\n",
       "8        8    43129           engineer"
      ]
     },
     "execution_count": 85,
     "metadata": {},
     "output_type": "execute_result"
    }
   ],
   "source": [
    "#Create a data frame with the cluster, the number of occurence of their profession and the name of the cluster\n",
    "data = {'cluster':list(cluster_occu.keys()),\n",
    "        'occu':list(cluster_occu.values()),'name':list(cluster_name.values())}\n",
    "  \n",
    "df_plot = pd.DataFrame(data)\n",
    "df_plot"
   ]
  },
  {
   "cell_type": "code",
   "execution_count": 87,
   "metadata": {},
   "outputs": [
    {
     "data": {
      "text/plain": [
       "Text(0.5, 1.0, 'Number of Occurences for each Cluster')"
      ]
     },
     "execution_count": 87,
     "metadata": {},
     "output_type": "execute_result"
    },
    {
     "data": {
      "image/png": "[encoded data removed]",
      "text/plain": [
       "<Figure size 720x360 with 1 Axes>"
      ]
     },
     "metadata": {
      "needs_background": "light"
     },
     "output_type": "display_data"
    }
   ],
   "source": [
    "fig, ax = plt.subplots(figsize=(10,5))\n",
    "plt.bar('name', 'occu',data=df_plot, log=True)\n",
    "plt.xlabel(\"Cluster Name\", size=16)\n",
    "plt.ylabel(\"Number of Occurences\", size=16)\n",
    "plt.title(\"Number of Occurences for each Cluster\", size=18)"
   ]
  }
 ],
 "metadata": {
  "kernelspec": {
   "display_name": "Python 3",
   "language": "python",
   "name": "python3"
  },
  "language_info": {
   "codemirror_mode": {
    "name": "ipython",
    "version": 3
   },
   "file_extension": ".py",
   "mimetype": "text/x-python",
   "name": "python",
   "nbconvert_exporter": "python",
   "pygments_lexer": "ipython3",
   "version": "3.7.1"
  }
 },
 "nbformat": 4,
 "nbformat_minor": 4
}
