{
 "cells": [
  {
   "cell_type": "code",
   "execution_count": 1,
   "metadata": {},
   "outputs": [],
   "source": [
    "import bz2\n",
    "import json\n",
    "import pandas as pd\n",
    "from datetime import datetime\n",
    "import numpy as np\n",
    "import logging\n",
    "from sklearn.cluster import KMeans\n",
    "from sklearn.feature_extraction.text import TfidfVectorizer\n",
    "import vaderSentiment\n",
    "import fastparquet\n",
    "from textblob import TextBlob\n",
    "from vaderSentiment.vaderSentiment import SentimentIntensityAnalyzer\n",
    "import re\n",
    "from tqdm import tqdm\n",
    "import matplotlib.pyplot as plt\n",
    "import seaborn as sns\n",
    "import pyarrow\n",
    "import warnings\n",
    "warnings.filterwarnings('ignore')"
   ]
  },
  {
   "cell_type": "code",
   "execution_count": 2,
   "metadata": {},
   "outputs": [],
   "source": [
    "# Dictionary of English Contractions\n",
    "contractions_dict = { \"ain't\": \"are not\",\"'s\":\" is\",\"aren't\": \"are not\",\n",
    "                     \"can't\": \"cannot\",\"can't've\": \"cannot have\",\n",
    "                     \"'cause\": \"because\",\"could've\": \"could have\",\"couldn't\": \"could not\",\n",
    "                     \"couldn't've\": \"could not have\", \"didn't\": \"did not\",\"doesn't\": \"does not\",\n",
    "                     \"don't\": \"do not\",\"hadn't\": \"had not\",\"hadn't've\": \"had not have\",\n",
    "                     \"hasn't\": \"has not\",\"haven't\": \"have not\",\"he'd\": \"he would\",\n",
    "                     \"he'd've\": \"he would have\",\"he'll\": \"he will\", \"he'll've\": \"he will have\",\n",
    "                     \"how'd\": \"how did\",\"how'd'y\": \"how do you\",\"how'll\": \"how will\",\n",
    "                     \"I'd\": \"I would\", \"I'd've\": \"I would have\",\"I'll\": \"I will\",\n",
    "                     \"I'll've\": \"I will have\",\"I'm\": \"I am\",\"I've\": \"I have\", \"isn't\": \"is not\",\n",
    "                     \"it'd\": \"it would\",\"it'd've\": \"it would have\",\"it'll\": \"it will\",\n",
    "                     \"it'll've\": \"it will have\", \"let's\": \"let us\",\"ma'am\": \"madam\",\n",
    "                     \"mayn't\": \"may not\",\"might've\": \"might have\",\"mightn't\": \"might not\", \n",
    "                     \"mightn't've\": \"might not have\",\"must've\": \"must have\",\"mustn't\": \"must not\",\n",
    "                     \"mustn't've\": \"must not have\", \"needn't\": \"need not\",\n",
    "                     \"needn't've\": \"need not have\",\"o'clock\": \"of the clock\",\"oughtn't\": \"ought not\",\n",
    "                     \"oughtn't've\": \"ought not have\",\"shan't\": \"shall not\",\"sha'n't\": \"shall not\",\n",
    "                     \"shan't've\": \"shall not have\",\"she'd\": \"she would\",\"she'd've\": \"she would have\",\n",
    "                     \"she'll\": \"she will\", \"she'll've\": \"she will have\",\"should've\": \"should have\",\n",
    "                     \"shouldn't\": \"should not\", \"shouldn't've\": \"should not have\",\"so've\": \"so have\",\n",
    "                     \"that'd\": \"that would\",\"that'd've\": \"that would have\", \"there'd\": \"there would\",\n",
    "                     \"there'd've\": \"there would have\", \"they'd\": \"they would\",\n",
    "                     \"they'd've\": \"they would have\",\"they'll\": \"they will\",\n",
    "                     \"they'll've\": \"they will have\", \"they're\": \"they are\",\"they've\": \"they have\",\n",
    "                     \"to've\": \"to have\",\"wasn't\": \"was not\",\"we'd\": \"we would\",\n",
    "                     \"we'd've\": \"we would have\",\"we'll\": \"we will\",\"we'll've\": \"we will have\",\n",
    "                     \"we're\": \"we are\",\"we've\": \"we have\", \"weren't\": \"were not\",\"what'll\": \"what will\",\n",
    "                     \"what'll've\": \"what will have\",\"what're\": \"what are\", \"what've\": \"what have\",\n",
    "                     \"when've\": \"when have\",\"where'd\": \"where did\", \"where've\": \"where have\",\n",
    "                     \"who'll\": \"who will\",\"who'll've\": \"who will have\",\"who've\": \"who have\",\n",
    "                     \"why've\": \"why have\",\"will've\": \"will have\",\"won't\": \"will not\",\n",
    "                     \"won't've\": \"will not have\", \"would've\": \"would have\",\"wouldn't\": \"would not\",\n",
    "                     \"wouldn't've\": \"would not have\",\"y'all\": \"you all\", \"y'all'd\": \"you all would\",\n",
    "                     \"y'all'd've\": \"you all would have\",\"y'all're\": \"you all are\",\n",
    "                     \"y'all've\": \"you all have\", \"you'd\": \"you would\",\"you'd've\": \"you would have\",\n",
    "                     \"you'll\": \"you will\",\"you'll've\": \"you will have\", \"you're\": \"you are\",\n",
    "                     \"you've\": \"you have\"}\n",
    "\n",
    "# Regular expression for finding contractions\n",
    "contractions_re=re.compile('(%s)' % '|'.join(contractions_dict.keys()))\n",
    "\n",
    "# Function for expanding contractions\n",
    "def expand_contractions(text,contractions_dict=contractions_dict):\n",
    "    def replace(match):\n",
    "        return contractions_dict[match.group(0)]\n",
    "    return contractions_re.sub(replace, text)\n",
    "\n",
    "# Expanding Contractions in the reviews\n",
    "#medical_df['quote'] = medical_df['quote'].apply(lambda x:expand_contractions(x))"
   ]
  },
  {
   "cell_type": "code",
   "execution_count": 3,
   "metadata": {},
   "outputs": [],
   "source": [
    "def full_preprocess(quote):\n",
    "    quote = expand_contractions(quote)\n",
    "    quote=quote.lower()\n",
    "    quote=re.sub(r'\\w*\\d\\w*','', quote)\n",
    "    quote=re.sub('[%s]' % re.escape(string.punctuation), '', quote)\n",
    "    quote=re.sub(' +',' ',quote)\n",
    "    return quote\n",
    "import string\n",
    "sid = SentimentIntensityAnalyzer()\n"
   ]
  },
  {
   "cell_type": "code",
   "execution_count": 4,
   "metadata": {},
   "outputs": [
    {
     "name": "stderr",
     "output_type": "stream",
     "text": [
      "13862129it [36:38, 6306.39it/s]\n",
      "26611588it [1:11:37, 6192.35it/s]\n"
     ]
    }
   ],
   "source": [
    "for year in range(8,21):\n",
    "    \n",
    "    for month in range(1,13):\n",
    "        globals()[f'month_{month}'] = open(f'month_means/month_{year}-{month}.bz2', 'w')\n",
    "        globals()['month_{:02d}_mean'.format(month)] = [0,0,0,0]\n",
    "\n",
    "    with bz2.open('data/Quotebank/quotes-20{:02d}.json.bz2'.format(year), 'rb') as s_file:\n",
    "        for index, instance in tqdm(enumerate(s_file)):\n",
    "            if index%2==0:\n",
    "                instance = json.loads(instance)\n",
    "                quote = instance['quotation'] \n",
    "                date = instance['date'] \n",
    "                quote = full_preprocess(quote)\n",
    "                vaderscore = sid.polarity_scores(quote)\n",
    "                globals()['month_{}_mean'.format(date[5:7])][0]+=1\n",
    "                globals()['month_{}_mean'.format(date[5:7])][1]+=vaderscore['pos']\n",
    "                globals()['month_{}_mean'.format(date[5:7])][2]+=vaderscore['neg']\n",
    "                globals()['month_{}_mean'.format(date[5:7])][3]+=vaderscore['compound']\n",
    "    for month in range(1,13):\n",
    "        for j in range(3):\n",
    "            try:\n",
    "                globals()[f'month_{month}'].write('{},'.format(j)+str(globals()['month_{:02d}_mean'.format(month)][j+1]/globals()['month_{:02d}_mean'.format(month)][0])+'\\n')\n",
    "            except:\n",
    "                print(\"no luck, for  {} {}\".format(year,month))\n",
    "        globals()[f'month_{month}'].close()"
   ]
  },
  {
   "cell_type": "code",
   "execution_count": 13,
   "metadata": {},
   "outputs": [],
   "source": [
    "import pandas as pd\n",
    "df = pd.DataFrame(columns = ['date','pos','neg','com'])\n",
    "for year in range(8,21):\n",
    "    for month in range(1,13):\n",
    "        f =  open(f'month_means/month_{year}-{month}.bz2', 'r').read()\n",
    "        f = f.split('\\n')\n",
    "        try:\n",
    "            df2 = {'date':'20{:02d}-{:02d}'.format(year,month), 'pos': float(f[0][2:]),'neg':float(f[1][2:]), 'com':float(f[2][2:])}\n",
    "        \n",
    "        \n",
    "            df = df.append(df2, ignore_index = True)\n",
    "        except:\n",
    "            pass\n",
    "        \n",
    "    "
   ]
  },
  {
   "cell_type": "code",
   "execution_count": 14,
   "metadata": {},
   "outputs": [
    {
     "data": {
      "text/html": [
       "<div>\n",
       "<style scoped>\n",
       "    .dataframe tbody tr th:only-of-type {\n",
       "        vertical-align: middle;\n",
       "    }\n",
       "\n",
       "    .dataframe tbody tr th {\n",
       "        vertical-align: top;\n",
       "    }\n",
       "\n",
       "    .dataframe thead th {\n",
       "        text-align: right;\n",
       "    }\n",
       "</style>\n",
       "<table border=\"1\" class=\"dataframe\">\n",
       "  <thead>\n",
       "    <tr style=\"text-align: right;\">\n",
       "      <th></th>\n",
       "      <th>date</th>\n",
       "      <th>pos</th>\n",
       "      <th>neg</th>\n",
       "      <th>com</th>\n",
       "    </tr>\n",
       "  </thead>\n",
       "  <tbody>\n",
       "    <tr>\n",
       "      <th>0</th>\n",
       "      <td>2008-09</td>\n",
       "      <td>0.118105</td>\n",
       "      <td>0.064474</td>\n",
       "      <td>0.141304</td>\n",
       "    </tr>\n",
       "    <tr>\n",
       "      <th>1</th>\n",
       "      <td>2008-10</td>\n",
       "      <td>0.117462</td>\n",
       "      <td>0.064832</td>\n",
       "      <td>0.140562</td>\n",
       "    </tr>\n",
       "    <tr>\n",
       "      <th>2</th>\n",
       "      <td>2008-11</td>\n",
       "      <td>0.120510</td>\n",
       "      <td>0.061799</td>\n",
       "      <td>0.154175</td>\n",
       "    </tr>\n",
       "    <tr>\n",
       "      <th>3</th>\n",
       "      <td>2008-12</td>\n",
       "      <td>0.119084</td>\n",
       "      <td>0.063045</td>\n",
       "      <td>0.146898</td>\n",
       "    </tr>\n",
       "    <tr>\n",
       "      <th>4</th>\n",
       "      <td>2009-01</td>\n",
       "      <td>0.119970</td>\n",
       "      <td>0.061825</td>\n",
       "      <td>0.152936</td>\n",
       "    </tr>\n",
       "    <tr>\n",
       "      <th>...</th>\n",
       "      <td>...</td>\n",
       "      <td>...</td>\n",
       "      <td>...</td>\n",
       "      <td>...</td>\n",
       "    </tr>\n",
       "    <tr>\n",
       "      <th>135</th>\n",
       "      <td>2019-12</td>\n",
       "      <td>0.124884</td>\n",
       "      <td>0.059100</td>\n",
       "      <td>0.195362</td>\n",
       "    </tr>\n",
       "    <tr>\n",
       "      <th>136</th>\n",
       "      <td>2020-01</td>\n",
       "      <td>0.124216</td>\n",
       "      <td>0.059956</td>\n",
       "      <td>0.191487</td>\n",
       "    </tr>\n",
       "    <tr>\n",
       "      <th>137</th>\n",
       "      <td>2020-02</td>\n",
       "      <td>0.124303</td>\n",
       "      <td>0.058335</td>\n",
       "      <td>0.196184</td>\n",
       "    </tr>\n",
       "    <tr>\n",
       "      <th>138</th>\n",
       "      <td>2020-03</td>\n",
       "      <td>0.114739</td>\n",
       "      <td>0.060681</td>\n",
       "      <td>0.164920</td>\n",
       "    </tr>\n",
       "    <tr>\n",
       "      <th>139</th>\n",
       "      <td>2020-04</td>\n",
       "      <td>0.114412</td>\n",
       "      <td>0.060756</td>\n",
       "      <td>0.165504</td>\n",
       "    </tr>\n",
       "  </tbody>\n",
       "</table>\n",
       "<p>140 rows × 4 columns</p>\n",
       "</div>"
      ],
      "text/plain": [
       "        date       pos       neg       com\n",
       "0    2008-09  0.118105  0.064474  0.141304\n",
       "1    2008-10  0.117462  0.064832  0.140562\n",
       "2    2008-11  0.120510  0.061799  0.154175\n",
       "3    2008-12  0.119084  0.063045  0.146898\n",
       "4    2009-01  0.119970  0.061825  0.152936\n",
       "..       ...       ...       ...       ...\n",
       "135  2019-12  0.124884  0.059100  0.195362\n",
       "136  2020-01  0.124216  0.059956  0.191487\n",
       "137  2020-02  0.124303  0.058335  0.196184\n",
       "138  2020-03  0.114739  0.060681  0.164920\n",
       "139  2020-04  0.114412  0.060756  0.165504\n",
       "\n",
       "[140 rows x 4 columns]"
      ]
     },
     "execution_count": 14,
     "metadata": {},
     "output_type": "execute_result"
    }
   ],
   "source": [
    "df"
   ]
  },
  {
   "cell_type": "code",
   "execution_count": 15,
   "metadata": {},
   "outputs": [],
   "source": [
    "df['date'] = pd.to_datetime(df['date'],format=\"%Y-%m\")"
   ]
  },
  {
   "cell_type": "code",
   "execution_count": 16,
   "metadata": {},
   "outputs": [],
   "source": [
    "df.set_index('date', inplace=True)"
   ]
  },
  {
   "cell_type": "code",
   "execution_count": 17,
   "metadata": {},
   "outputs": [
    {
     "data": {
      "text/plain": [
       "Text(0.5, 0, 'Date')"
      ]
     },
     "execution_count": 17,
     "metadata": {},
     "output_type": "execute_result"
    },
    {
     "data": {
      "image/png": "[encoded data removed]",
      "text/plain": [
       "<Figure size 1080x720 with 1 Axes>"
      ]
     },
     "metadata": {
      "needs_background": "light"
     },
     "output_type": "display_data"
    }
   ],
   "source": [
    "freq = 'M'\n",
    "pos = df['pos']\n",
    "neg = df['neg']\n",
    "com = df['com']\n",
    "com_std = df['com'].resample(freq).std()\n",
    "fig, axs = plt.subplots(sharex=True,figsize=(15,10))\n",
    "axs.title.set_text('All Quotes Sentiment Plot')\n",
    "\n",
    "pos.plot(linewidth=0.5,ax = axs, label='pos')\n",
    "neg.plot(linewidth=0.5,ax = axs,label='neg')\n",
    "#neu.plot(linewidth=0.5,ax = axs)\n",
    "com.plot(linewidth=0.5,ax = axs,label='com')\n",
    "plt.legend()\n",
    "plt.xlabel('Date')\n"
   ]
  },
  {
   "cell_type": "code",
   "execution_count": null,
   "metadata": {},
   "outputs": [],
   "source": []
  },
  {
   "cell_type": "code",
   "execution_count": null,
   "metadata": {},
   "outputs": [],
   "source": []
  },
  {
   "cell_type": "code",
   "execution_count": null,
   "metadata": {},
   "outputs": [],
   "source": []
  }
 ],
 "metadata": {
  "kernelspec": {
   "display_name": "ML",
   "language": "python",
   "name": "ml"
  },
  "language_info": {
   "codemirror_mode": {
    "name": "ipython",
    "version": 3
   },
   "file_extension": ".py",
   "mimetype": "text/x-python",
   "name": "python",
   "nbconvert_exporter": "python",
   "pygments_lexer": "ipython3",
   "version": "3.7.6"
  }
 },
 "nbformat": 4,
 "nbformat_minor": 4
}
