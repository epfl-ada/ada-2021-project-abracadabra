{
 "cells": [
  {
   "cell_type": "code",
   "execution_count": 36,
   "metadata": {},
   "outputs": [],
   "source": [
    "import bz2\n",
    "import json\n",
    "import pandas as pd\n",
    "from datetime import datetime\n",
    "import numpy as np\n",
    "import matplotlib.pyplot as plt\n",
    "from sklearn.cluster import KMeans\n",
    "from sklearn.feature_extraction.text import TfidfVectorizer\n",
    "import vaderSentiment\n",
    "from vaderSentiment.vaderSentiment import SentimentIntensityAnalyzer"
   ]
  },
  {
   "cell_type": "code",
   "execution_count": 47,
   "metadata": {},
   "outputs": [],
   "source": [
    "# If working on colab :\n",
    "from google.colab import drive\n",
    "drive.mount('/content/drive') \n",
    "\n",
    "data_path = '/content/drive/MyDrive/'"
   ]
  },
  {
   "cell_type": "code",
   "execution_count": 2,
   "metadata": {},
   "outputs": [],
   "source": [
    "# If working locally :\n",
    "data_path = ''"
   ]
  },
  {
   "cell_type": "markdown",
   "metadata": {},
   "source": [
    "# Initial methods given "
   ]
  },
  {
   "cell_type": "markdown",
   "metadata": {},
   "source": [
    "### Example of how to work with the quotes data file"
   ]
  },
  {
   "cell_type": "code",
   "execution_count": 13,
   "metadata": {},
   "outputs": [],
   "source": [
    "from tld import get_tld\n",
    "\n",
    "def get_domain(url):\n",
    "    res = get_tld(url, as_object=True)\n",
    "    return res.tld"
   ]
  },
  {
   "cell_type": "code",
   "execution_count": null,
   "metadata": {},
   "outputs": [],
   "source": [
    "path_to_file = 'Quotebank/quotes-2020.json.bz2' \n",
    "path_to_out = '/data/quotes-2020-domains.json.bz2'\n",
    "\n",
    "with bz2.open(path_to_file, 'rb') as s_file:\n",
    "    with bz2.open(path_to_out, 'wb') as d_file:\n",
    "        for instance in s_file:\n",
    "            instance = json.loads(instance) # loading a sample\n",
    "            urls = instance['urls'] # extracting list of links\n",
    "            domains = []\n",
    "            for url in urls:\n",
    "                tld = get_domain(url)\n",
    "                domains.append(tld)\n",
    "            instance['domains'] = domains # updating the sample with domain name\n",
    "            d_file.write((json.dumps(instance)+'\\n').encode('utf-8')) # writing in the new file"
   ]
  },
  {
   "cell_type": "markdown",
   "metadata": {},
   "source": [
    "### Load the speaker_attributes parquet file"
   ]
  },
  {
   "cell_type": "code",
   "execution_count": 3,
   "metadata": {},
   "outputs": [],
   "source": [
    "speaker_attributes = pd.read_parquet(data_path+'Project datasets/speaker_attributes.parquet')"
   ]
  },
  {
   "cell_type": "code",
   "execution_count": 4,
   "metadata": {},
   "outputs": [
    {
     "data": {
      "text/html": [
       "<div>\n",
       "<style scoped>\n",
       "    .dataframe tbody tr th:only-of-type {\n",
       "        vertical-align: middle;\n",
       "    }\n",
       "\n",
       "    .dataframe tbody tr th {\n",
       "        vertical-align: top;\n",
       "    }\n",
       "\n",
       "    .dataframe thead th {\n",
       "        text-align: right;\n",
       "    }\n",
       "</style>\n",
       "<table border=\"1\" class=\"dataframe\">\n",
       "  <thead>\n",
       "    <tr style=\"text-align: right;\">\n",
       "      <th></th>\n",
       "      <th>aliases</th>\n",
       "      <th>date_of_birth</th>\n",
       "      <th>nationality</th>\n",
       "      <th>gender</th>\n",
       "      <th>lastrevid</th>\n",
       "      <th>ethnic_group</th>\n",
       "      <th>US_congress_bio_ID</th>\n",
       "      <th>occupation</th>\n",
       "      <th>party</th>\n",
       "      <th>academic_degree</th>\n",
       "      <th>id</th>\n",
       "      <th>label</th>\n",
       "      <th>candidacy</th>\n",
       "      <th>type</th>\n",
       "      <th>religion</th>\n",
       "    </tr>\n",
       "  </thead>\n",
       "  <tbody>\n",
       "    <tr>\n",
       "      <th>0</th>\n",
       "      <td>[Washington, President Washington, G. Washingt...</td>\n",
       "      <td>[+1732-02-22T00:00:00Z]</td>\n",
       "      <td>[Q161885, Q30]</td>\n",
       "      <td>[Q6581097]</td>\n",
       "      <td>1395141751</td>\n",
       "      <td>None</td>\n",
       "      <td>W000178</td>\n",
       "      <td>[Q82955, Q189290, Q131512, Q1734662, Q294126, ...</td>\n",
       "      <td>[Q327591]</td>\n",
       "      <td>None</td>\n",
       "      <td>Q23</td>\n",
       "      <td>George Washington</td>\n",
       "      <td>[Q698073, Q697949]</td>\n",
       "      <td>item</td>\n",
       "      <td>[Q682443]</td>\n",
       "    </tr>\n",
       "    <tr>\n",
       "      <th>1</th>\n",
       "      <td>[Douglas Noel Adams, Douglas Noël Adams, Dougl...</td>\n",
       "      <td>[+1952-03-11T00:00:00Z]</td>\n",
       "      <td>[Q145]</td>\n",
       "      <td>[Q6581097]</td>\n",
       "      <td>1395737157</td>\n",
       "      <td>[Q7994501]</td>\n",
       "      <td>None</td>\n",
       "      <td>[Q214917, Q28389, Q6625963, Q4853732, Q1884422...</td>\n",
       "      <td>None</td>\n",
       "      <td>None</td>\n",
       "      <td>Q42</td>\n",
       "      <td>Douglas Adams</td>\n",
       "      <td>None</td>\n",
       "      <td>item</td>\n",
       "      <td>None</td>\n",
       "    </tr>\n",
       "    <tr>\n",
       "      <th>2</th>\n",
       "      <td>[Paul Marie Ghislain Otlet, Paul Marie Otlet]</td>\n",
       "      <td>[+1868-08-23T00:00:00Z]</td>\n",
       "      <td>[Q31]</td>\n",
       "      <td>[Q6581097]</td>\n",
       "      <td>1380367296</td>\n",
       "      <td>None</td>\n",
       "      <td>None</td>\n",
       "      <td>[Q36180, Q40348, Q182436, Q1265807, Q205375, Q...</td>\n",
       "      <td>None</td>\n",
       "      <td>None</td>\n",
       "      <td>Q1868</td>\n",
       "      <td>Paul Otlet</td>\n",
       "      <td>None</td>\n",
       "      <td>item</td>\n",
       "      <td>None</td>\n",
       "    </tr>\n",
       "    <tr>\n",
       "      <th>3</th>\n",
       "      <td>[George Walker Bush, Bush Jr., Dubya, GWB, Bus...</td>\n",
       "      <td>[+1946-07-06T00:00:00Z]</td>\n",
       "      <td>[Q30]</td>\n",
       "      <td>[Q6581097]</td>\n",
       "      <td>1395142029</td>\n",
       "      <td>None</td>\n",
       "      <td>None</td>\n",
       "      <td>[Q82955, Q15982858, Q18814623, Q1028181, Q1408...</td>\n",
       "      <td>[Q29468]</td>\n",
       "      <td>None</td>\n",
       "      <td>Q207</td>\n",
       "      <td>George W. Bush</td>\n",
       "      <td>[Q327959, Q464075, Q3586276, Q4450587]</td>\n",
       "      <td>item</td>\n",
       "      <td>[Q329646, Q682443, Q33203]</td>\n",
       "    </tr>\n",
       "    <tr>\n",
       "      <th>4</th>\n",
       "      <td>[Velázquez, Diego Rodríguez de Silva y Velázqu...</td>\n",
       "      <td>[+1599-06-06T00:00:00Z]</td>\n",
       "      <td>[Q29]</td>\n",
       "      <td>[Q6581097]</td>\n",
       "      <td>1391704596</td>\n",
       "      <td>None</td>\n",
       "      <td>None</td>\n",
       "      <td>[Q1028181]</td>\n",
       "      <td>None</td>\n",
       "      <td>None</td>\n",
       "      <td>Q297</td>\n",
       "      <td>Diego Velázquez</td>\n",
       "      <td>None</td>\n",
       "      <td>item</td>\n",
       "      <td>None</td>\n",
       "    </tr>\n",
       "  </tbody>\n",
       "</table>\n",
       "</div>"
      ],
      "text/plain": [
       "                                             aliases            date_of_birth  \\\n",
       "0  [Washington, President Washington, G. Washingt...  [+1732-02-22T00:00:00Z]   \n",
       "1  [Douglas Noel Adams, Douglas Noël Adams, Dougl...  [+1952-03-11T00:00:00Z]   \n",
       "2      [Paul Marie Ghislain Otlet, Paul Marie Otlet]  [+1868-08-23T00:00:00Z]   \n",
       "3  [George Walker Bush, Bush Jr., Dubya, GWB, Bus...  [+1946-07-06T00:00:00Z]   \n",
       "4  [Velázquez, Diego Rodríguez de Silva y Velázqu...  [+1599-06-06T00:00:00Z]   \n",
       "\n",
       "      nationality      gender   lastrevid ethnic_group US_congress_bio_ID  \\\n",
       "0  [Q161885, Q30]  [Q6581097]  1395141751         None            W000178   \n",
       "1          [Q145]  [Q6581097]  1395737157   [Q7994501]               None   \n",
       "2           [Q31]  [Q6581097]  1380367296         None               None   \n",
       "3           [Q30]  [Q6581097]  1395142029         None               None   \n",
       "4           [Q29]  [Q6581097]  1391704596         None               None   \n",
       "\n",
       "                                          occupation      party  \\\n",
       "0  [Q82955, Q189290, Q131512, Q1734662, Q294126, ...  [Q327591]   \n",
       "1  [Q214917, Q28389, Q6625963, Q4853732, Q1884422...       None   \n",
       "2  [Q36180, Q40348, Q182436, Q1265807, Q205375, Q...       None   \n",
       "3  [Q82955, Q15982858, Q18814623, Q1028181, Q1408...   [Q29468]   \n",
       "4                                         [Q1028181]       None   \n",
       "\n",
       "  academic_degree     id              label  \\\n",
       "0            None    Q23  George Washington   \n",
       "1            None    Q42      Douglas Adams   \n",
       "2            None  Q1868         Paul Otlet   \n",
       "3            None   Q207     George W. Bush   \n",
       "4            None   Q297    Diego Velázquez   \n",
       "\n",
       "                                candidacy  type                    religion  \n",
       "0                      [Q698073, Q697949]  item                   [Q682443]  \n",
       "1                                    None  item                        None  \n",
       "2                                    None  item                        None  \n",
       "3  [Q327959, Q464075, Q3586276, Q4450587]  item  [Q329646, Q682443, Q33203]  \n",
       "4                                    None  item                        None  "
      ]
     },
     "execution_count": 4,
     "metadata": {},
     "output_type": "execute_result"
    }
   ],
   "source": [
    "speaker_attributes.head()"
   ]
  },
  {
   "cell_type": "markdown",
   "metadata": {},
   "source": [
    "### Load the labels descriptions for quotebank"
   ]
  },
  {
   "cell_type": "code",
   "execution_count": 5,
   "metadata": {},
   "outputs": [],
   "source": [
    "label_description = pd.read_csv(data_path+'Project datasets/wikidata_labels_descriptions_quotebank.csv.bz2', compression='bz2', index_col='QID')"
   ]
  },
  {
   "cell_type": "code",
   "execution_count": 6,
   "metadata": {},
   "outputs": [
    {
     "data": {
      "text/html": [
       "<div>\n",
       "<style scoped>\n",
       "    .dataframe tbody tr th:only-of-type {\n",
       "        vertical-align: middle;\n",
       "    }\n",
       "\n",
       "    .dataframe tbody tr th {\n",
       "        vertical-align: top;\n",
       "    }\n",
       "\n",
       "    .dataframe thead th {\n",
       "        text-align: right;\n",
       "    }\n",
       "</style>\n",
       "<table border=\"1\" class=\"dataframe\">\n",
       "  <thead>\n",
       "    <tr style=\"text-align: right;\">\n",
       "      <th></th>\n",
       "      <th>Label</th>\n",
       "      <th>Description</th>\n",
       "    </tr>\n",
       "    <tr>\n",
       "      <th>QID</th>\n",
       "      <th></th>\n",
       "      <th></th>\n",
       "    </tr>\n",
       "  </thead>\n",
       "  <tbody>\n",
       "    <tr>\n",
       "      <th>Q31</th>\n",
       "      <td>Belgium</td>\n",
       "      <td>country in western Europe</td>\n",
       "    </tr>\n",
       "    <tr>\n",
       "      <th>Q45</th>\n",
       "      <td>Portugal</td>\n",
       "      <td>country in southwestern Europe</td>\n",
       "    </tr>\n",
       "    <tr>\n",
       "      <th>Q75</th>\n",
       "      <td>Internet</td>\n",
       "      <td>global system of connected computer networks</td>\n",
       "    </tr>\n",
       "    <tr>\n",
       "      <th>Q148</th>\n",
       "      <td>People's Republic of China</td>\n",
       "      <td>sovereign state in East Asia</td>\n",
       "    </tr>\n",
       "    <tr>\n",
       "      <th>Q155</th>\n",
       "      <td>Brazil</td>\n",
       "      <td>country in South America</td>\n",
       "    </tr>\n",
       "  </tbody>\n",
       "</table>\n",
       "</div>"
      ],
      "text/plain": [
       "                           Label                                   Description\n",
       "QID                                                                           \n",
       "Q31                      Belgium                     country in western Europe\n",
       "Q45                     Portugal                country in southwestern Europe\n",
       "Q75                     Internet  global system of connected computer networks\n",
       "Q148  People's Republic of China                  sovereign state in East Asia\n",
       "Q155                      Brazil                      country in South America"
      ]
     },
     "execution_count": 6,
     "metadata": {},
     "output_type": "execute_result"
    }
   ],
   "source": [
    "label_description.head()"
   ]
  },
  {
   "cell_type": "markdown",
   "metadata": {},
   "source": [
    "# Dealing with the features\n",
    "\n",
    "In order to answer our research questions we will not need all the initial features of the quotebank datasets. Thus we decided to keep the following ones:\n",
    "\n",
    "*   **date**: Because we will work with specific periods.\n",
    "*   **numOccurences**: To have a better insight about quotations and potential bias in our analysis.\n",
    "*   **qids**: This is the speakers'id, necessary to be able to pair with the speaker_attributes data.\n",
    "*   **quotation**: Obviously to perform sentiment analysis.\n",
    "*   **quoteID**: To identify the quotes.\n",
    "*   **speaker**: To access their attributes and see if there's multiple qids for the same speaker. /!\\\n",
    "\n",
    "For the 3 remaining features, we explain why we decided to drop them out:"
   ]
  },
  {
   "cell_type": "markdown",
   "metadata": {},
   "source": [
    "* **phase**\n",
    "\n",
    "Described here : [description of the phase](https://github.com/epfl-dlab/Quotebank/blob/main/phases.md). All of quotations we will use initially are from phase E (2015-2020) as they are past June 2014. If we need to work with older dates, we could refer on the date feature which should be enough.\n",
    "\n",
    "We do a little check below :"
   ]
  },
  {
   "cell_type": "code",
   "execution_count": 7,
   "metadata": {},
   "outputs": [],
   "source": [
    "count_E = 0\n",
    "count_quote = 0\n",
    "quotes = bz2.open(data_path+'Quotebank/quotes-2020.json.bz2', 'rb')\n",
    "\n",
    "for instance in quotes:\n",
    "    quote = json.loads(instance) # loading a sample\n",
    "    phase = quote['phase'] # extracting list of links\n",
    "    if phase == 'E':\n",
    "        count_E += 1\n",
    "    count_quote+=1"
   ]
  },
  {
   "cell_type": "code",
   "execution_count": 8,
   "metadata": {},
   "outputs": [
    {
     "name": "stdout",
     "output_type": "stream",
     "text": [
      "We have 100.0% of quotes in phase E for 2020\n"
     ]
    }
   ],
   "source": [
    "print(f'We have {count_E*100/count_quote}% of quotes in phase E for 2020')"
   ]
  },
  {
   "cell_type": "markdown",
   "metadata": {},
   "source": [
    "As expected, we don't have any other phase than phase 'E' in the dataset from 2020. We shouldn't have them for 2015-2019. With the test on 2020 and the description's informations, we decided that it safe to drop this feature."
   ]
  },
  {
   "cell_type": "markdown",
   "metadata": {},
   "source": [
    "* #### probas\n",
    "\n",
    "We only keep the main speaker, therefore the probabilities and name of the other speakers are not useful for us. We chose to rely on the decisions made by QuoteBank in choosing the speaker, and only keep the main(s) one(s)."
   ]
  },
  {
   "cell_type": "markdown",
   "metadata": {},
   "source": [
    "* #### Urls\n",
    "\n",
    "In our research, we don't specificaly look into the source of the quote, expect for the speaker. Therefore, we decided to drop the urls feature as it should be irrevelant for our project."
   ]
  },
  {
   "cell_type": "markdown",
   "metadata": {},
   "source": [
    "### Dropping the unwanted features\n",
    "\n",
    "Here we only keep the features we need as described previously."
   ]
  },
  {
   "cell_type": "code",
   "execution_count": 9,
   "metadata": {},
   "outputs": [],
   "source": [
    "def drop_features(path_to_file, path_to_out, max_instances=-1):\n",
    "    count = 0\n",
    "    with bz2.open(path_to_file, 'rb') as s_file:\n",
    "        with bz2.open(path_to_out, 'wb') as d_file:\n",
    "            for instance in s_file:\n",
    "                if count == max_instances:\n",
    "                    return\n",
    "                instance = json.loads(instance)  # loading a sample\n",
    "                series = pd.Series(instance)\n",
    "                instance = series[[\n",
    "                    'quoteID',\n",
    "                    'date',\n",
    "                    'numOccurrences',\n",
    "                    'qids',\n",
    "                    'quotation',\n",
    "                    'speaker',\n",
    "                    ]].to_dict()\n",
    "                d_file.write((json.dumps(instance) + '\\n').encode('utf-8'))  # writing in the new file\n",
    "                count += 1"
   ]
  },
  {
   "cell_type": "markdown",
   "metadata": {},
   "source": [
    "Small test with the 100 first instances:"
   ]
  },
  {
   "cell_type": "code",
   "execution_count": 10,
   "metadata": {},
   "outputs": [
    {
     "data": {
      "text/html": [
       "<div>\n",
       "<style scoped>\n",
       "    .dataframe tbody tr th:only-of-type {\n",
       "        vertical-align: middle;\n",
       "    }\n",
       "\n",
       "    .dataframe tbody tr th {\n",
       "        vertical-align: top;\n",
       "    }\n",
       "\n",
       "    .dataframe thead th {\n",
       "        text-align: right;\n",
       "    }\n",
       "</style>\n",
       "<table border=\"1\" class=\"dataframe\">\n",
       "  <thead>\n",
       "    <tr style=\"text-align: right;\">\n",
       "      <th></th>\n",
       "      <th>quoteID</th>\n",
       "      <th>date</th>\n",
       "      <th>numOccurrences</th>\n",
       "      <th>qids</th>\n",
       "      <th>quotation</th>\n",
       "      <th>speaker</th>\n",
       "    </tr>\n",
       "  </thead>\n",
       "  <tbody>\n",
       "    <tr>\n",
       "      <th>0</th>\n",
       "      <td>2020-01-28-000082</td>\n",
       "      <td>2020-01-28 08:04:05</td>\n",
       "      <td>1</td>\n",
       "      <td>[]</td>\n",
       "      <td>[ D ] espite the efforts of the partners to cr...</td>\n",
       "      <td>None</td>\n",
       "    </tr>\n",
       "    <tr>\n",
       "      <th>1</th>\n",
       "      <td>2020-01-16-000088</td>\n",
       "      <td>2020-01-16 12:00:13</td>\n",
       "      <td>1</td>\n",
       "      <td>[Q367796]</td>\n",
       "      <td>[ Department of Homeland Security ] was livid ...</td>\n",
       "      <td>Sue Myrick</td>\n",
       "    </tr>\n",
       "    <tr>\n",
       "      <th>2</th>\n",
       "      <td>2020-02-10-000142</td>\n",
       "      <td>2020-02-10 23:45:54</td>\n",
       "      <td>1</td>\n",
       "      <td>[]</td>\n",
       "      <td>... He (Madhav) also disclosed that the illega...</td>\n",
       "      <td>None</td>\n",
       "    </tr>\n",
       "    <tr>\n",
       "      <th>3</th>\n",
       "      <td>2020-02-15-000053</td>\n",
       "      <td>2020-02-15 14:12:51</td>\n",
       "      <td>2</td>\n",
       "      <td>[]</td>\n",
       "      <td>... [ I ] f it gets to the floor,</td>\n",
       "      <td>None</td>\n",
       "    </tr>\n",
       "    <tr>\n",
       "      <th>4</th>\n",
       "      <td>2020-01-24-000168</td>\n",
       "      <td>2020-01-24 20:37:09</td>\n",
       "      <td>4</td>\n",
       "      <td>[Q20684375]</td>\n",
       "      <td>[ I met them ] when they just turned 4 and 7. ...</td>\n",
       "      <td>Meghan King Edmonds</td>\n",
       "    </tr>\n",
       "  </tbody>\n",
       "</table>\n",
       "</div>"
      ],
      "text/plain": [
       "             quoteID                date  numOccurrences         qids  \\\n",
       "0  2020-01-28-000082 2020-01-28 08:04:05               1           []   \n",
       "1  2020-01-16-000088 2020-01-16 12:00:13               1    [Q367796]   \n",
       "2  2020-02-10-000142 2020-02-10 23:45:54               1           []   \n",
       "3  2020-02-15-000053 2020-02-15 14:12:51               2           []   \n",
       "4  2020-01-24-000168 2020-01-24 20:37:09               4  [Q20684375]   \n",
       "\n",
       "                                           quotation              speaker  \n",
       "0  [ D ] espite the efforts of the partners to cr...                 None  \n",
       "1  [ Department of Homeland Security ] was livid ...           Sue Myrick  \n",
       "2  ... He (Madhav) also disclosed that the illega...                 None  \n",
       "3                  ... [ I ] f it gets to the floor,                 None  \n",
       "4  [ I met them ] when they just turned 4 and 7. ...  Meghan King Edmonds  "
      ]
     },
     "execution_count": 10,
     "metadata": {},
     "output_type": "execute_result"
    }
   ],
   "source": [
    "path_to_file = data_path+'Quotebank/quotes-2020.json.bz2'\n",
    "path_to_out = data_path+'data/quotes-2020-dropped-features.json.bz2'\n",
    "\n",
    "drop_features(path_to_file, path_to_out, 100)\n",
    "\n",
    "dropped_features_df = pd.read_json(path_to_out, compression='bz2', lines=True)\n",
    "dropped_features_df.head()"
   ]
  },
  {
   "cell_type": "markdown",
   "metadata": {},
   "source": [
    "### Special case: when we need to have the speaker's information\n",
    "\n",
    "For some of the questions we plan to answer, see the [readMe.md](https://github.com/epfl-ada/ada-2021-project-abracadabra/blob/main/README.md), we need to access the speaker's attributes. If we don't have any informations concerning them, we will not use the quote for our research. Thus we can also process the data to create one containing only the quotes that have a defined speaker."
   ]
  },
  {
   "cell_type": "code",
   "execution_count": 12,
   "metadata": {},
   "outputs": [
    {
     "name": "stdout",
     "output_type": "stream",
     "text": [
      "1800844\n"
     ]
    }
   ],
   "source": [
    "quotes = bz2.open(data_path+'Quotebank/quotes-2020.json.bz2', 'rb')\n",
    "count_none = 0\n",
    "for instance in quotes:\n",
    "    quote = json.loads(instance)  # loading a sample\n",
    "    speaker = quote['speaker']  # extracting list of links\n",
    "    if speaker == 'None':\n",
    "        count_none += 1\n",
    "print(count_none)"
   ]
  },
  {
   "cell_type": "code",
   "execution_count": 70,
   "metadata": {},
   "outputs": [
    {
     "name": "stdout",
     "output_type": "stream",
     "text": [
      "There is 34.338097291059555% of speakers defined as None\n"
     ]
    }
   ],
   "source": [
    "print(f'There is {count_none*100/count_quote}% of speakers defined as None')"
   ]
  },
  {
   "cell_type": "markdown",
   "metadata": {},
   "source": [
    "As we see, on the quotebank data of 2020 we already have ~34% of missing speaker, labelled as \"None\". Therefore, we can remove those quotes keep the other in a new Json file.\n",
    "\n",
    "To further justify this choice, let's take a look at the exemple below :"
   ]
  },
  {
   "cell_type": "code",
   "execution_count": 17,
   "metadata": {},
   "outputs": [
    {
     "data": {
      "text/plain": [
       "{'quoteID': '2020-01-28-000082',\n",
       " 'quotation': '[ D ] espite the efforts of the partners to create a non-political award that unites the Jewish people, some have incorrectly interpreted the participation of the Office of the Prime Minister in the Genesis Prize as bringing a political dimension to this important initiative,',\n",
       " 'speaker': 'None',\n",
       " 'qids': [],\n",
       " 'date': '2020-01-28 08:04:05',\n",
       " 'numOccurrences': 1,\n",
       " 'probas': [['None', '0.7272'],\n",
       "  ['Prime Minister Netanyahu', '0.2445'],\n",
       "  ['Natan Sharansky', '0.0283']],\n",
       " 'urls': ['http://israelnationalnews.com/News/News.aspx/275210'],\n",
       " 'phase': 'E'}"
      ]
     },
     "execution_count": 17,
     "metadata": {},
     "output_type": "execute_result"
    }
   ],
   "source": [
    "## Load a sample quote\n",
    "quotes = bz2.open(data_path+'Quotebank/quotes-2020.json.bz2', 'rb')\n",
    "samples = 0\n",
    "quote = ''\n",
    "for q in quotes:\n",
    "    if samples == 1:\n",
    "        break\n",
    "    quote = json.loads(q)\n",
    "    samples += 1\n",
    "quote"
   ]
  },
  {
   "cell_type": "markdown",
   "metadata": {},
   "source": [
    "In this particular quote, it is ~73% sure of not knowing who is the right speaker. We could decide that the speaker is the \n",
    "```\n",
    "['Prime Minister Netanyahu', '0.2445']\n",
    "```\n",
    "but there is more chance of it being false as it has only ~24% of chances of being him. We prefer to take only the speakers with an high chance of being right."
   ]
  },
  {
   "cell_type": "code",
   "execution_count": 18,
   "metadata": {},
   "outputs": [],
   "source": [
    "def drop_unknown_speaker(path_to_file, path_to_out, max_instances=-1):\n",
    "    count = 0\n",
    "    with bz2.open(path_to_file, 'rb') as s_file:\n",
    "        with bz2.open(path_to_out, 'wb') as d_file:\n",
    "            for instance in s_file:\n",
    "                if count == max_instances:\n",
    "                    return\n",
    "                instance = json.loads(instance)  # loading a sample\n",
    "                speaker = instance['speaker']\n",
    "                if speaker != 'None':\n",
    "                    d_file.write((json.dumps(instance) + '\\n').encode('utf-8'))  # writing in the new file\n",
    "                count += 1"
   ]
  },
  {
   "cell_type": "markdown",
   "metadata": {},
   "source": [
    "Here we only work on 100 000 instances to fasten the test part:"
   ]
  },
  {
   "cell_type": "code",
   "execution_count": 19,
   "metadata": {},
   "outputs": [
    {
     "name": "stdout",
     "output_type": "stream",
     "text": [
      "0\n"
     ]
    }
   ],
   "source": [
    "path_to_file = data_path+'Quotebank/quotes-2020.json.bz2'\n",
    "path_to_out = data_path+'data/quotes-2020-dropped_unknown_speaker.json.bz2'\n",
    "\n",
    "drop_unknown_speaker(path_to_file, path_to_out, 100000)\n",
    "\n",
    "dropped_unknown_speaker_df = pd.read_json(path_to_out, compression='bz2', lines=True)\n",
    "\n",
    "print(dropped_unknown_speaker_df.loc[dropped_unknown_speaker_df.speaker == 'None', 'speaker'].count())"
   ]
  },
  {
   "cell_type": "markdown",
   "metadata": {},
   "source": [
    "Sine we took out all the 'None' speaker from the original data, we now have a lighter and more precise one to work with for some of our analysis."
   ]
  },
  {
   "cell_type": "markdown",
   "metadata": {
    "id": "wNp2jrGVbyU-"
   },
   "source": [
    "# Data analysis"
   ]
  },
  {
   "cell_type": "markdown",
   "metadata": {
    "id": "rDmVROAJcOsw"
   },
   "source": [
    "## Dates\n",
    "\n",
    "Since we will be working a lot with dates, it is great to have better insights about them, for example their distributions.\n",
    "As the dates are in the format 'yyyy-mm-dd hh:mm:ss', we check that all the dates are well in 2020 by checking the first 4 characters. Doing so helps us to check if there's any date which is not correctly written or missing:"
   ]
  },
  {
   "cell_type": "code",
   "execution_count": 24,
   "metadata": {},
   "outputs": [],
   "source": [
    "quotes = bz2.open(data_path+'Quotebank/quotes-2020.json.bz2', 'rb')\n",
    "count_2020 = 0\n",
    "for instance in quotes:\n",
    "    quote = json.loads(instance)  # loading a sample\n",
    "    date = quote['date']  # extracting the date\n",
    "    if date[:4] == '2020':\n",
    "        count_2020 += 1"
   ]
  },
  {
   "cell_type": "code",
   "execution_count": 25,
   "metadata": {},
   "outputs": [
    {
     "name": "stdout",
     "output_type": "stream",
     "text": [
      "There is 100.0% of date starting with 2020\n"
     ]
    }
   ],
   "source": [
    "print(f'There is {count_2020*100/count_quote}% of date starting with 2020')"
   ]
  },
  {
   "cell_type": "markdown",
   "metadata": {
    "id": "uU6ivljdfV3k"
   },
   "source": [
    "Everything seems to be fine here.\n",
    "\n",
    "To see the distribution of quotes per day of the year, we define a function to change the date format 'yyyy-mm-dd' into an index of a table. To do so we use the library date time."
   ]
  },
  {
   "cell_type": "code",
   "execution_count": 32,
   "metadata": {},
   "outputs": [],
   "source": [
    "def get_day_of_year(date):\n",
    "    date_time_obj = datetime.strptime(date[2:], '%y-%m-%d %H:%M:%S')\n",
    "    d = date_time_obj.strftime('%j')\n",
    "    return d"
   ]
  },
  {
   "cell_type": "code",
   "execution_count": 33,
   "metadata": {},
   "outputs": [
    {
     "name": "stdout",
     "output_type": "stream",
     "text": [
      "365\n"
     ]
    }
   ],
   "source": [
    "print(get_day_of_year(\"2020-12-30 12:26:24\"))"
   ]
  },
  {
   "cell_type": "markdown",
   "metadata": {
    "id": "NWHaocZ0i2yT"
   },
   "source": [
    "Now let's take a look at the distribution of the dates:"
   ]
  },
  {
   "cell_type": "code",
   "execution_count": 34,
   "metadata": {},
   "outputs": [],
   "source": [
    "def count_per_day(path_to_file, max_instances=-1):\n",
    "    count_days = np.zeros(366)\n",
    "    count = 0\n",
    "    with bz2.open(path_to_file, 'rb') as s_file:\n",
    "        for instance in s_file:\n",
    "            if count == max_instances:\n",
    "                break\n",
    "            instance = json.loads(instance)  # loading a sample\n",
    "            date = instance['date']  # extracting the date\n",
    "            idx = int(get_day_of_year(date)) - 1\n",
    "            count_days[idx] += 1\n",
    "            count += 1\n",
    "        return count_days"
   ]
  },
  {
   "cell_type": "markdown",
   "metadata": {},
   "source": [
    "We check for the different years with a sample of 100000 quotes to have a proper representation."
   ]
  },
  {
   "cell_type": "code",
   "execution_count": 37,
   "metadata": {},
   "outputs": [
    {
     "data": {
      "image/png": "[encoded data removed]",
      "text/plain": [
       "<Figure size 1080x1080 with 6 Axes>"
      ]
     },
     "metadata": {
      "needs_background": "light"
     },
     "output_type": "display_data"
    }
   ],
   "source": [
    "years = ['2015','2016','2017','2018','2019','2020']\n",
    "day = np.arange(366)\n",
    "\n",
    "(fig, axes) = plt.subplots(6, constrained_layout=True, figsize=(15, 15))\n",
    "fig.suptitle('Count of quotes per day of the year', fontsize=16)\n",
    "\n",
    "for (year, ax) in zip(years, axes):\n",
    "    path_to_file = data_path+'Quotebank/quotes-{year}.json.bz2'.format(year=year)\n",
    "    count_days = count_per_day(path_to_file, max_instances=100000)\n",
    "    ax.plot(day, count_days)\n",
    "    ax.set_title(year)\n",
    "    ax.set_xlabel('day of the year')\n",
    "    ax.set_ylabel('count')\n",
    "\n",
    "plt.show()"
   ]
  },
  {
   "cell_type": "markdown",
   "metadata": {
    "id": "UeAQxiCZt5e8"
   },
   "source": [
    "When looking at the dates, we have to be careful about the number of quotations per day.\n",
    "\n",
    "We see an obvious weekly tendency in the number of quotes and that for some reason, in 2020 the data stops at ~110 days. There's also some seemingly unexplicable drop in quotes.For example, the quotes from year 2016 do some strange time where the data is missing."
   ]
  },
  {
   "cell_type": "markdown",
   "metadata": {
    "id": "Mkcr5ZgOQxtr"
   },
   "source": [
    "## NumOccurrences \n",
    "\n",
    "We want to grasp more how important is the numOccurrences feature. To do so, let's focus on its distribution. First, to know how big it can get, we find the maximum and the minimum to be sure we don't have any negative values:"
   ]
  },
  {
   "cell_type": "code",
   "execution_count": 38,
   "metadata": {
    "id": "m_OOc-ydAaKH"
   },
   "outputs": [],
   "source": [
    "min = 0\n",
    "max = 0\n",
    "count = 0\n",
    "with bz2.open(data_path+'Quotebank/quotes-2020.json.bz2', \"rb\") as s_file:\n",
    "    for instance in s_file:\n",
    "        instance = json.loads(instance)  # loading a sample\n",
    "        numOccurrences = instance[\"numOccurrences\"]  # extracting the date\n",
    "        if numOccurrences < min:\n",
    "            min = numOccurrences\n",
    "        if numOccurrences > max:\n",
    "            max = numOccurrences\n",
    "        count = 1"
   ]
  },
  {
   "cell_type": "code",
   "execution_count": 39,
   "metadata": {
    "colab": {
     "base_uri": "https://localhost:8080/"
    },
    "id": "PPGjh59jAJZm",
    "outputId": "029a7d7f-bef3-46f2-abe7-022b0c4b3ecc"
   },
   "outputs": [
    {
     "name": "stdout",
     "output_type": "stream",
     "text": [
      "the min is 0\n",
      "the max is 9210\n"
     ]
    }
   ],
   "source": [
    "print(f'the min is {min}')\n",
    "print(f'the max is {max}')"
   ]
  },
  {
   "cell_type": "markdown",
   "metadata": {
    "id": "dx-WaJvt8vSJ"
   },
   "source": [
    "We know have the range for the number of occurences and will see how they are distributed on an histogram:"
   ]
  },
  {
   "cell_type": "code",
   "execution_count": 40,
   "metadata": {
    "id": "mn8Jyiek_JIF"
   },
   "outputs": [],
   "source": [
    "count_Occurences = np.zeros((max + 1, ))\n",
    "\n",
    "with bz2.open(data_path+'Quotebank/quotes-2020.json.bz2', 'rb') as s_file:\n",
    "    for instance in s_file:\n",
    "        instance = json.loads(instance)  # loading a sample\n",
    "        numOccurrences = instance['numOccurrences']  # extracting the date\n",
    "        count_Occurences[numOccurrences] += 1"
   ]
  },
  {
   "cell_type": "code",
   "execution_count": 41,
   "metadata": {
    "colab": {
     "base_uri": "https://localhost:8080/",
     "height": 329
    },
    "id": "4XNfOjz59L1t",
    "outputId": "a1902716-68d0-4e2a-9f01-b640d4be577d"
   },
   "outputs": [
    {
     "name": "stdout",
     "output_type": "stream",
     "text": [
      "9210\n"
     ]
    },
    {
     "data": {
      "text/plain": [
       "Text(0.5, 1.0, 'Distribution of the number of occurences for the quotes from 2019')"
      ]
     },
     "execution_count": 41,
     "metadata": {},
     "output_type": "execute_result"
    },
    {
     "data": {
      "image/png": "[encoded data removed]",
      "text/plain": [
       "<Figure size 432x288 with 1 Axes>"
      ]
     },
     "metadata": {
      "needs_background": "light"
     },
     "output_type": "display_data"
    }
   ],
   "source": [
    "occurences = np.arange(max+1)\n",
    "print(max)\n",
    "plt.plot(occurences, count_Occurences)\n",
    "plt.xlabel(\"number of occurences\")\n",
    "plt.ylabel(\"count\")\n",
    "plt.title(\"Distribution of the number of occurences for the quotes from 2019\")"
   ]
  },
  {
   "cell_type": "markdown",
   "metadata": {
    "id": "6YTEnhu7SwP0"
   },
   "source": [
    "As expected, most of the number of occurences are quite low, thus not suited for linear scale. Let's plot it on a logarithmic scale"
   ]
  },
  {
   "cell_type": "code",
   "execution_count": 42,
   "metadata": {
    "colab": {
     "base_uri": "https://localhost:8080/",
     "height": 312
    },
    "id": "jaVKIB2V9vRw",
    "outputId": "5acee97e-9bbe-45fe-8339-f88c5f883b23"
   },
   "outputs": [
    {
     "data": {
      "text/plain": [
       "<matplotlib.legend.Legend at 0x21015c31df0>"
      ]
     },
     "execution_count": 42,
     "metadata": {},
     "output_type": "execute_result"
    },
    {
     "data": {
      "image/png": "[encoded data removed]",
      "text/plain": [
       "<Figure size 432x288 with 1 Axes>"
      ]
     },
     "metadata": {
      "needs_background": "light"
     },
     "output_type": "display_data"
    }
   ],
   "source": [
    "occurences = np.arange(max+1)\n",
    "plt.plot(occurences, count_Occurences)\n",
    "plt.xlabel(\"number of occurences\")\n",
    "plt.ylabel(\"count\")\n",
    "plt.yscale('log')\n",
    "plt.title(\"Distribution of the number of occurences for the quotes from 2019\")\n",
    "plt.vlines(2500, 0, 9999999, colors='r', label = '2500')\n",
    "plt.legend()"
   ]
  },
  {
   "cell_type": "markdown",
   "metadata": {
    "id": "0qKkwUofb0hY"
   },
   "source": [
    "Most of the quotes appears a relatively small amount of time. However, it has a possible importance in our research.\n",
    "\n",
    "There is also some clear outliers. We will focus on the number of occurences bigger than 2500."
   ]
  },
  {
   "cell_type": "code",
   "execution_count": 43,
   "metadata": {
    "colab": {
     "base_uri": "https://localhost:8080/"
    },
    "id": "s9xQWo6dcDps",
    "outputId": "5ecce1e9-e50a-45c8-a2cb-97848d4e3c1b"
   },
   "outputs": [
    {
     "name": "stdout",
     "output_type": "stream",
     "text": [
      "{3133: 1.0, 3617: 1.0, 4624: 1.0, 8257: 1.0, 9210: 1.0}\n"
     ]
    }
   ],
   "source": [
    "enum = enumerate(count_Occurences)\n",
    "dict_old = dict((i, j) for i,j in enum)\n",
    "\n",
    "dict_new = { key: value for key, value in dict_old.items() if (key >2500 ) and (value > 0) }\n",
    "print(dict_new)"
   ]
  },
  {
   "cell_type": "markdown",
   "metadata": {
    "id": "c_O35AqVtq-d"
   },
   "source": [
    "We notice that for each of these outlier, we have only one quote with a number of occurence this high. Let's look at them to see if there's anything strange about them:"
   ]
  },
  {
   "cell_type": "code",
   "execution_count": 44,
   "metadata": {
    "id": "Yzhk-J-L5pRs"
   },
   "outputs": [],
   "source": [
    "quotes_occurrences = []\n",
    "with bz2.open(data_path+'Quotebank/quotes-2020.json.bz2', 'rb') as s_file:\n",
    "    for instance in s_file:\n",
    "        instance = json.loads(instance)  # loading a sample\n",
    "        numOccurrences = instance['numOccurrences']  # extracting the numOccurrences\n",
    "        for num_occ in dict_new.keys():\n",
    "            if numOccurrences == num_occ:\n",
    "                quotes_occurrences.append(instance)"
   ]
  },
  {
   "cell_type": "code",
   "execution_count": 73,
   "metadata": {},
   "outputs": [
    {
     "name": "stdout",
     "output_type": "stream",
     "text": [
      "something we talk about a lot\n",
      "['http://www.gamereactor.eu/?system=switch&sid=dd39141ee3db3e8e1308331b80210195', 'http://www.gamereactor.eu/?system=pc&sid=dd39141ee3db3e8e1308331b80210195', 'http://www.gamereactor.eu/?system=pc&sid=77038c39d19e12febffce16037b21b4b', 'http://www.gamereactor.eu/?system=3ds&sid=77038c39d19e12febffce16037b21b4b', 'http://www.gamereactor.eu/?system=ps4&sid=8152dfec63bbb3ae562a80f065144b37', 'http://www.gamereactor.eu/?system=ps3&sid=8152dfec63bbb3ae562a80f065144b37', 'http://www.gamereactor.eu/?system=3ds&sid=340c730296ac9db66b81622627e6347c', 'http://www.gamereactor.eu/?system=ps4&sid=340c730296ac9db66b81622627e6347c', 'http://www.gamereactor.eu/?system=switch&sid=340c730296ac9db66b81622627e6347c', 'http://www.gamereactor.eu/?system=pc&sid=340c730296ac9db66b81622627e6347c', 'http://www.gamereactor.eu/?system=pc&sid=377cdd4d914f1a6dad4ca255527ec97e', 'http://www.gamereactor.eu/?system=ps4&sid=377cdd4d914f1a6dad4ca255527ec97e', 'http://www.gamereactor.eu/?system=ps4&sid=afa601bfde2601059665ce698f0b0c01', 'http://www.gamereactor.eu/?system=switch&sid=0469465dc9988e630bc6f4940d6b9fa7', 'http://www.gamereactor.eu/?system=3ds&sid=e8d1115dc4fd284de0432679cc2926fc']\n"
     ]
    }
   ],
   "source": [
    "quote = quotes_occurrences[2].get('quotation')\n",
    "urls = quotes_occurrences[2].get('urls')\n",
    "print(quote)\n",
    "print(urls[0:15])"
   ]
  },
  {
   "cell_type": "markdown",
   "metadata": {
    "id": "zq5KNgpi-IWb"
   },
   "source": [
    "When a quote has an unusual number of occurences, it is likely that all the occurences come from the same site. If we take the example with the most occurences (9210), we easily see in the 'urls' that they all seemingly come from the website gamereactor."
   ]
  },
  {
   "cell_type": "code",
   "execution_count": 74,
   "metadata": {
    "colab": {
     "base_uri": "https://localhost:8080/"
    },
    "id": "a45_Lub0-_Dz",
    "outputId": "3250bd39-3f46-4cfd-cd5f-9954e3bf44e8"
   },
   "outputs": [
    {
     "name": "stdout",
     "output_type": "stream",
     "text": [
      "100.0% of the occurences from the quote: <something we talk about a lot> comes from the website gamereactor.\n"
     ]
    }
   ],
   "source": [
    "\n",
    "count = 0\n",
    "count_gamereactor = 0\n",
    "for url in urls:\n",
    "    if url[11:22] == \"gamereactor\":\n",
    "        count_gamereactor += 1\n",
    "    count+=1\n",
    "\n",
    "print(f'{count_gamereactor*100/count}% of the occurences from the quote: <{quote}> comes from the website gamereactor.')"
   ]
  },
  {
   "cell_type": "markdown",
   "metadata": {
    "id": "l2stlt9_BWch"
   },
   "source": [
    "Knowing this, we will have to take into account the importance of the number of occurences and be extremly carefull with the extreme cases. If 9210 different peoples use the same quotation 1 time, it weighs more than 1 people using it 9210 time."
   ]
  },
  {
   "cell_type": "markdown",
   "metadata": {
    "id": "ECuspNIg-dYM"
   },
   "source": [
    "## Speakers\n",
    "\n",
    "To have a better understanding of the speakers, let's take a look at the distribution of the speaker. If there's some speaker that appears more often, it can be a sign of unblanced dataset. This is something that we have to take into account."
   ]
  },
  {
   "cell_type": "code",
   "execution_count": 46,
   "metadata": {},
   "outputs": [],
   "source": [
    "speakersID = set()\n",
    "quotes = bz2.open(data_path+'Quotebank/quotes-2020.json.bz2', 'rb')\n",
    "for q in quotes:\n",
    "    quote = json.loads(q)\n",
    "    speakers = quote['qids']\n",
    "    for speakerID in speakers:\n",
    "        speakersID.add(speakerID)"
   ]
  },
  {
   "cell_type": "code",
   "execution_count": 47,
   "metadata": {},
   "outputs": [
    {
     "data": {
      "text/plain": [
       "323074"
      ]
     },
     "execution_count": 47,
     "metadata": {},
     "output_type": "execute_result"
    }
   ],
   "source": [
    "len(speakersID)"
   ]
  },
  {
   "cell_type": "code",
   "execution_count": 48,
   "metadata": {
    "id": "Mq3yCL_G6unE"
   },
   "outputs": [],
   "source": [
    "dict_speaker = {}\n",
    "with bz2.open(data_path+'Quotebank/quotes-2020.json.bz2', 'rb') as s_file:\n",
    "    for instance in s_file:\n",
    "        instance = json.loads(instance)  # loading a sample\n",
    "        speaker = instance['speaker']  # extracting the speaker\n",
    "        if speaker != 'None':\n",
    "            if speaker in dict_speaker.keys():\n",
    "                dict_speaker[speaker] += 1\n",
    "            else:\n",
    "                dict_speaker.update({speaker: 1})"
   ]
  },
  {
   "cell_type": "code",
   "execution_count": 49,
   "metadata": {
    "colab": {
     "base_uri": "https://localhost:8080/"
    },
    "id": "Cp7s1M8bDE9h",
    "outputId": "6e236d85-6fe8-4752-c39b-90462261cddc"
   },
   "outputs": [
    {
     "name": "stdout",
     "output_type": "stream",
     "text": [
      "1: President Donald Trump with 28023 quotes\n",
      "2: Bernie Sanders with 13189 quotes\n",
      "3: Joe Biden with 12817 quotes\n",
      "4: President Trump with 12415 quotes\n",
      "5: Andrew Cuomo with 11088 quotes\n",
      "6: Narendra Modi with 8239 quotes\n",
      "7: Elizabeth Warren with 7647 quotes\n",
      "8: Donald Trump with 7104 quotes\n",
      "9: Boris Johnson with 6952 quotes\n",
      "10: Scott Morrison with 6601 quotes\n"
     ]
    }
   ],
   "source": [
    "sorted_dict_speaker = {key: value for key, value in sorted(dict_speaker.items(), key=lambda item: item[1], reverse= True)}\n",
    "\n",
    "place = 1\n",
    "for (speak, nbr) in list(sorted_dict_speaker.items())[:10]:\n",
    "    print(f'{place}: {speak} with {nbr} quotes')\n",
    "    place += 1"
   ]
  },
  {
   "cell_type": "markdown",
   "metadata": {
    "id": "qetkoKQVLGr-"
   },
   "source": [
    "Withtout surprise, it is important personalities that we find in the top 10 of our speaker for the year 2020. We mostly see political candidates. There's multiple information we see from this top 10:   \n",
    "\n",
    "There's duplicate in our speakers: Donald trump under different name appears at 3 different places: 1st with 'President Donald Trump', 4th with 'President Trump' and 8th with 'Donald Trump'. However, if they are correctly classified in our research, it shoudln't be a problem since we can identify all the aliases and group them under the same QID.\n",
    "\n",
    "There's an obvious biais in the provenance of the quotation. 5 of the 8 most quoted people from the dataset are from the USAs: \n",
    "\n",
    "  *   Donald Trump: 45th U.S. President\n",
    "  *   Bernie Sanders: United States Senator\n",
    "  *   Joe Biden: 46th U.S. President\n",
    "  *   Andrew Cuomo: Former Governor of New York\n",
    "  *   Elizabeth Warren: United States Senator\n",
    "  \n",
    "\n",
    "And only 3 are from the rest of the world:\n",
    "\n",
    "\n",
    "  *   Narendra Modi: Prime Minister of India\n",
    "  *   Boris Jonhson: Prime Minister of the United Kingdom\n",
    "  *   Scott Morrison: Prime Minister of Australia\n",
    "\n",
    " \n",
    "Note that all of them are from politics. That means that when we are dealing with the 'speaker' feature, we have to be careful about the Data bias."
   ]
  },
  {
   "cell_type": "markdown",
   "metadata": {
    "id": "_LcbiRERRJHG"
   },
   "source": [
    "Below we look at the ~1% most quoted speakers. Then we look at the percentage of their combined number of quotes over the total number of quotes (minus the one without speakers, see the '_special case: when we need to have the speaker's information_' for the values _count_quote_ and _count_none_)"
   ]
  },
  {
   "cell_type": "code",
   "execution_count": 50,
   "metadata": {
    "colab": {
     "base_uri": "https://localhost:8080/"
    },
    "id": "Dgd5XCAtGMMO",
    "outputId": "4743e1f9-0e65-4f22-ffee-1d8efb990eb9"
   },
   "outputs": [
    {
     "name": "stdout",
     "output_type": "stream",
     "text": [
      "Percentage of speaker: 1.0003937476535387\n",
      "Percentage of quotes:  32.43647282426411\n"
     ]
    }
   ],
   "source": [
    "nbr_speakers = len(sorted_dict_speaker)\n",
    "n = 2185 # Choice of n to make it the closest to 1%\n",
    "print(f\"Percentage of speaker: {n*100/nbr_speakers}\")\n",
    "sum = 0\n",
    "for (k,v) in list(sorted_dict_speaker.items())[:n]:\n",
    "    sum += v\n",
    "\n",
    "\n",
    "print(f\"Percentage of quotes:  {sum*100/(count_quote - count_none)}\")"
   ]
  },
  {
   "cell_type": "markdown",
   "metadata": {
    "id": "B90WLmwrTFtI"
   },
   "source": [
    "We see that ~1% of the speakers were quoted for almost a third of the total number of quotations from recognized speaker. This add another Data bias to take into account."
   ]
  },
  {
   "cell_type": "markdown",
   "metadata": {},
   "source": [
    "# Preparing the data to pair speakers and their occupations"
   ]
  },
  {
   "cell_type": "markdown",
   "metadata": {},
   "source": [
    "First let's create an array of all the different IDs for occupation and profession and removing duplicates and None values"
   ]
  },
  {
   "cell_type": "code",
   "execution_count": 51,
   "metadata": {},
   "outputs": [
    {
     "data": {
      "text/plain": [
       "14575"
      ]
     },
     "execution_count": 51,
     "metadata": {},
     "output_type": "execute_result"
    }
   ],
   "source": [
    "work = set()\n",
    "for w in speaker_attributes['occupation'].dropna():\n",
    "    for i in w:\n",
    "        work.add(i)\n",
    "work = list(work)\n",
    "len(work)"
   ]
  },
  {
   "cell_type": "markdown",
   "metadata": {},
   "source": [
    "Now we will create a dictionnary which will have the QID as keys and the name and description of the job as values."
   ]
  },
  {
   "cell_type": "code",
   "execution_count": 52,
   "metadata": {},
   "outputs": [
    {
     "data": {
      "text/plain": [
       "14558"
      ]
     },
     "execution_count": 52,
     "metadata": {},
     "output_type": "execute_result"
    }
   ],
   "source": [
    "dwork = {}\n",
    "for i in work:\n",
    "    if i in label_description.index:\n",
    "        dwork[i]=[label_description.loc[i]['Label'],label_description.loc[i]['Description']]\n",
    "len(dwork)"
   ]
  },
  {
   "cell_type": "markdown",
   "metadata": {},
   "source": [
    "As some QID had nan values, we decided to count them to check if there is too much and then we removed them as they can't be used."
   ]
  },
  {
   "cell_type": "code",
   "execution_count": 53,
   "metadata": {},
   "outputs": [
    {
     "name": "stdout",
     "output_type": "stream",
     "text": [
      "There are 2460 nan values.\n"
     ]
    }
   ],
   "source": [
    "summ=0\n",
    "for i in dwork.values():\n",
    "    if isinstance(i[0], float):\n",
    "        summ+=1\n",
    "        \n",
    "print(\"There are\",summ,\"nan values.\")"
   ]
  },
  {
   "cell_type": "code",
   "execution_count": 54,
   "metadata": {},
   "outputs": [
    {
     "data": {
      "text/plain": [
       "14558"
      ]
     },
     "execution_count": 54,
     "metadata": {},
     "output_type": "execute_result"
    }
   ],
   "source": [
    "dic_work={}\n",
    "for i in dwork:\n",
    "    if not isinstance(dwork[i], float):\n",
    "        dic_work[i]=dwork[i]\n",
    "\n",
    "len(dic_work)"
   ]
  },
  {
   "cell_type": "code",
   "execution_count": 55,
   "metadata": {},
   "outputs": [
    {
     "data": {
      "text/plain": [
       "['oncology', 'branch of medicine dealing with cancer']"
      ]
     },
     "execution_count": 55,
     "metadata": {},
     "output_type": "execute_result"
    }
   ],
   "source": [
    "dic_work['Q162555']"
   ]
  },
  {
   "cell_type": "markdown",
   "metadata": {},
   "source": [
    "Now we have a new dataset that will help us regroup speaker regarding to their jobs"
   ]
  },
  {
   "cell_type": "code",
   "execution_count": 56,
   "metadata": {},
   "outputs": [
    {
     "data": {
      "text/html": [
       "<div>\n",
       "<style scoped>\n",
       "    .dataframe tbody tr th:only-of-type {\n",
       "        vertical-align: middle;\n",
       "    }\n",
       "\n",
       "    .dataframe tbody tr th {\n",
       "        vertical-align: top;\n",
       "    }\n",
       "\n",
       "    .dataframe thead th {\n",
       "        text-align: right;\n",
       "    }\n",
       "</style>\n",
       "<table border=\"1\" class=\"dataframe\">\n",
       "  <thead>\n",
       "    <tr style=\"text-align: right;\">\n",
       "      <th></th>\n",
       "      <th>ID</th>\n",
       "      <th>Label</th>\n",
       "      <th>Description</th>\n",
       "    </tr>\n",
       "  </thead>\n",
       "  <tbody>\n",
       "    <tr>\n",
       "      <th>0</th>\n",
       "      <td>Q29169143</td>\n",
       "      <td>data scientist</td>\n",
       "      <td>person studying and working with data</td>\n",
       "    </tr>\n",
       "    <tr>\n",
       "      <th>1</th>\n",
       "      <td>Q193510</td>\n",
       "      <td>University of Padua</td>\n",
       "      <td>university in Italy</td>\n",
       "    </tr>\n",
       "    <tr>\n",
       "      <th>2</th>\n",
       "      <td>Q478594</td>\n",
       "      <td>reputation management</td>\n",
       "      <td>term</td>\n",
       "    </tr>\n",
       "    <tr>\n",
       "      <th>3</th>\n",
       "      <td>Q214654</td>\n",
       "      <td>Sorbonne</td>\n",
       "      <td>historical university building in Paris, France</td>\n",
       "    </tr>\n",
       "    <tr>\n",
       "      <th>4</th>\n",
       "      <td>Q2267418</td>\n",
       "      <td>industrial engineer</td>\n",
       "      <td>engineering profession</td>\n",
       "    </tr>\n",
       "  </tbody>\n",
       "</table>\n",
       "</div>"
      ],
      "text/plain": [
       "          ID                  Label  \\\n",
       "0  Q29169143         data scientist   \n",
       "1    Q193510    University of Padua   \n",
       "2    Q478594  reputation management   \n",
       "3    Q214654               Sorbonne   \n",
       "4   Q2267418    industrial engineer   \n",
       "\n",
       "                                       Description  \n",
       "0            person studying and working with data  \n",
       "1                              university in Italy  \n",
       "2                                             term  \n",
       "3  historical university building in Paris, France  \n",
       "4                           engineering profession  "
      ]
     },
     "execution_count": 56,
     "metadata": {},
     "output_type": "execute_result"
    }
   ],
   "source": [
    "df_work = pd.DataFrame(dic_work.items(), columns=['ID', 'Label'])\n",
    "df_work[['Label','Description']] = pd.DataFrame(df_work.Label.tolist(), index= df_work.index)\n",
    "df_work.head()"
   ]
  },
  {
   "cell_type": "markdown",
   "metadata": {},
   "source": [
    "Storing the new dataset in a parquet file"
   ]
  },
  {
   "cell_type": "code",
   "execution_count": 57,
   "metadata": {},
   "outputs": [],
   "source": [
    "df_work.to_parquet('data/Id_Work.parquet')"
   ]
  },
  {
   "cell_type": "code",
   "execution_count": 58,
   "metadata": {},
   "outputs": [
    {
     "data": {
      "text/html": [
       "<div>\n",
       "<style scoped>\n",
       "    .dataframe tbody tr th:only-of-type {\n",
       "        vertical-align: middle;\n",
       "    }\n",
       "\n",
       "    .dataframe tbody tr th {\n",
       "        vertical-align: top;\n",
       "    }\n",
       "\n",
       "    .dataframe thead th {\n",
       "        text-align: right;\n",
       "    }\n",
       "</style>\n",
       "<table border=\"1\" class=\"dataframe\">\n",
       "  <thead>\n",
       "    <tr style=\"text-align: right;\">\n",
       "      <th></th>\n",
       "      <th>ID</th>\n",
       "      <th>Label</th>\n",
       "      <th>Description</th>\n",
       "    </tr>\n",
       "  </thead>\n",
       "  <tbody>\n",
       "    <tr>\n",
       "      <th>0</th>\n",
       "      <td>Q29169143</td>\n",
       "      <td>data scientist</td>\n",
       "      <td>person studying and working with data</td>\n",
       "    </tr>\n",
       "    <tr>\n",
       "      <th>1</th>\n",
       "      <td>Q193510</td>\n",
       "      <td>University of Padua</td>\n",
       "      <td>university in Italy</td>\n",
       "    </tr>\n",
       "    <tr>\n",
       "      <th>2</th>\n",
       "      <td>Q478594</td>\n",
       "      <td>reputation management</td>\n",
       "      <td>term</td>\n",
       "    </tr>\n",
       "    <tr>\n",
       "      <th>3</th>\n",
       "      <td>Q214654</td>\n",
       "      <td>Sorbonne</td>\n",
       "      <td>historical university building in Paris, France</td>\n",
       "    </tr>\n",
       "    <tr>\n",
       "      <th>4</th>\n",
       "      <td>Q2267418</td>\n",
       "      <td>industrial engineer</td>\n",
       "      <td>engineering profession</td>\n",
       "    </tr>\n",
       "  </tbody>\n",
       "</table>\n",
       "</div>"
      ],
      "text/plain": [
       "          ID                  Label  \\\n",
       "0  Q29169143         data scientist   \n",
       "1    Q193510    University of Padua   \n",
       "2    Q478594  reputation management   \n",
       "3    Q214654               Sorbonne   \n",
       "4   Q2267418    industrial engineer   \n",
       "\n",
       "                                       Description  \n",
       "0            person studying and working with data  \n",
       "1                              university in Italy  \n",
       "2                                             term  \n",
       "3  historical university building in Paris, France  \n",
       "4                           engineering profession  "
      ]
     },
     "execution_count": 58,
     "metadata": {},
     "output_type": "execute_result"
    }
   ],
   "source": [
    "df = pd.read_parquet('data/Id_Work.parquet')\n",
    "df.head()"
   ]
  },
  {
   "cell_type": "markdown",
   "metadata": {},
   "source": [
    "### Clustering"
   ]
  },
  {
   "cell_type": "markdown",
   "metadata": {},
   "source": [
    "We want to regroup the different occupations that are similar together, for example all the job related to finance together, the one related to military together, medecine, law, etc...\n",
    "As there are thousands of different occupations it can't reasonably be done manually so we are trying to group them using NLP and clustering. We don't have a proper model yet but we can already see that Kmeans can help to find clusters that make sense. There still are some issues. One cluster having too many unrelated value, which can be fixed by increasing the number of cluster as it acts like a \"trash\" for all the value that couldn't be clustered with others. Or we also see that in the same cluster we find a dentist and oral surgeon but also oral story telling, thus there are still flaws in our model and will keep experimenting in order to get a good and usable clustering."
   ]
  },
  {
   "cell_type": "code",
   "execution_count": 59,
   "metadata": {},
   "outputs": [
    {
     "data": {
      "text/html": [
       "<div>\n",
       "<style scoped>\n",
       "    .dataframe tbody tr th:only-of-type {\n",
       "        vertical-align: middle;\n",
       "    }\n",
       "\n",
       "    .dataframe tbody tr th {\n",
       "        vertical-align: top;\n",
       "    }\n",
       "\n",
       "    .dataframe thead th {\n",
       "        text-align: right;\n",
       "    }\n",
       "</style>\n",
       "<table border=\"1\" class=\"dataframe\">\n",
       "  <thead>\n",
       "    <tr style=\"text-align: right;\">\n",
       "      <th></th>\n",
       "      <th>ID</th>\n",
       "      <th>Label</th>\n",
       "      <th>Description</th>\n",
       "    </tr>\n",
       "  </thead>\n",
       "  <tbody>\n",
       "    <tr>\n",
       "      <th>0</th>\n",
       "      <td>Q29169143</td>\n",
       "      <td>data scientist</td>\n",
       "      <td>person studying and working with data</td>\n",
       "    </tr>\n",
       "    <tr>\n",
       "      <th>1</th>\n",
       "      <td>Q193510</td>\n",
       "      <td>University of Padua</td>\n",
       "      <td>university in Italy</td>\n",
       "    </tr>\n",
       "    <tr>\n",
       "      <th>2</th>\n",
       "      <td>Q478594</td>\n",
       "      <td>reputation management</td>\n",
       "      <td>term</td>\n",
       "    </tr>\n",
       "    <tr>\n",
       "      <th>3</th>\n",
       "      <td>Q214654</td>\n",
       "      <td>Sorbonne</td>\n",
       "      <td>historical university building in Paris, France</td>\n",
       "    </tr>\n",
       "    <tr>\n",
       "      <th>4</th>\n",
       "      <td>Q2267418</td>\n",
       "      <td>industrial engineer</td>\n",
       "      <td>engineering profession</td>\n",
       "    </tr>\n",
       "  </tbody>\n",
       "</table>\n",
       "</div>"
      ],
      "text/plain": [
       "          ID                  Label  \\\n",
       "0  Q29169143         data scientist   \n",
       "1    Q193510    University of Padua   \n",
       "2    Q478594  reputation management   \n",
       "3    Q214654               Sorbonne   \n",
       "4   Q2267418    industrial engineer   \n",
       "\n",
       "                                       Description  \n",
       "0            person studying and working with data  \n",
       "1                              university in Italy  \n",
       "2                                             term  \n",
       "3  historical university building in Paris, France  \n",
       "4                           engineering profession  "
      ]
     },
     "execution_count": 59,
     "metadata": {},
     "output_type": "execute_result"
    }
   ],
   "source": [
    "df = df.dropna()\n",
    "df.head()"
   ]
  },
  {
   "cell_type": "code",
   "execution_count": 60,
   "metadata": {},
   "outputs": [],
   "source": [
    "texts = df.Description # Extract text\n",
    "target = df.Label # Extract target"
   ]
  },
  {
   "cell_type": "markdown",
   "metadata": {},
   "source": [
    "Instead of just using the description we added the name of the occupation with it so that job with similar name would have a higher chance to be together"
   ]
  },
  {
   "cell_type": "code",
   "execution_count": 61,
   "metadata": {},
   "outputs": [],
   "source": [
    "job_desc = target.str.cat(texts, sep=' , ')\n",
    "vectorizer = TfidfVectorizer(stop_words='english')\n",
    "X = vectorizer.fit_transform(job_desc)"
   ]
  },
  {
   "cell_type": "code",
   "execution_count": 62,
   "metadata": {},
   "outputs": [
    {
     "data": {
      "text/plain": [
       "KMeans(max_iter=100, n_clusters=200, n_init=1)"
      ]
     },
     "execution_count": 62,
     "metadata": {},
     "output_type": "execute_result"
    }
   ],
   "source": [
    "number_of_clusters = 200\n",
    "\n",
    "model = KMeans(n_clusters=number_of_clusters, \n",
    "               init='k-means++', \n",
    "               max_iter=100, # Maximum number of iterations of the k-means algorithm for a single run.\n",
    "               n_init=1)  # Number of time the k-means algorithm will be run with different centroid seeds. The final results will be the best output of n_init consecutive runs in terms of inertia.\n",
    "\n",
    "model.fit(X)"
   ]
  },
  {
   "cell_type": "code",
   "execution_count": 63,
   "metadata": {},
   "outputs": [
    {
     "data": {
      "text/html": [
       "<div>\n",
       "<style scoped>\n",
       "    .dataframe tbody tr th:only-of-type {\n",
       "        vertical-align: middle;\n",
       "    }\n",
       "\n",
       "    .dataframe tbody tr th {\n",
       "        vertical-align: top;\n",
       "    }\n",
       "\n",
       "    .dataframe thead th {\n",
       "        text-align: right;\n",
       "    }\n",
       "</style>\n",
       "<table border=\"1\" class=\"dataframe\">\n",
       "  <thead>\n",
       "    <tr style=\"text-align: right;\">\n",
       "      <th></th>\n",
       "      <th>ID</th>\n",
       "      <th>Label</th>\n",
       "      <th>Description</th>\n",
       "      <th>cluster</th>\n",
       "    </tr>\n",
       "  </thead>\n",
       "  <tbody>\n",
       "    <tr>\n",
       "      <th>0</th>\n",
       "      <td>Q29169143</td>\n",
       "      <td>data scientist</td>\n",
       "      <td>person studying and working with data</td>\n",
       "      <td>17</td>\n",
       "    </tr>\n",
       "    <tr>\n",
       "      <th>1</th>\n",
       "      <td>Q193510</td>\n",
       "      <td>University of Padua</td>\n",
       "      <td>university in Italy</td>\n",
       "      <td>87</td>\n",
       "    </tr>\n",
       "    <tr>\n",
       "      <th>2</th>\n",
       "      <td>Q478594</td>\n",
       "      <td>reputation management</td>\n",
       "      <td>term</td>\n",
       "      <td>91</td>\n",
       "    </tr>\n",
       "    <tr>\n",
       "      <th>3</th>\n",
       "      <td>Q214654</td>\n",
       "      <td>Sorbonne</td>\n",
       "      <td>historical university building in Paris, France</td>\n",
       "      <td>132</td>\n",
       "    </tr>\n",
       "    <tr>\n",
       "      <th>4</th>\n",
       "      <td>Q2267418</td>\n",
       "      <td>industrial engineer</td>\n",
       "      <td>engineering profession</td>\n",
       "      <td>80</td>\n",
       "    </tr>\n",
       "  </tbody>\n",
       "</table>\n",
       "</div>"
      ],
      "text/plain": [
       "          ID                  Label  \\\n",
       "0  Q29169143         data scientist   \n",
       "1    Q193510    University of Padua   \n",
       "2    Q478594  reputation management   \n",
       "3    Q214654               Sorbonne   \n",
       "4   Q2267418    industrial engineer   \n",
       "\n",
       "                                       Description  cluster  \n",
       "0            person studying and working with data       17  \n",
       "1                              university in Italy       87  \n",
       "2                                             term       91  \n",
       "3  historical university building in Paris, France      132  \n",
       "4                           engineering profession       80  "
      ]
     },
     "execution_count": 63,
     "metadata": {},
     "output_type": "execute_result"
    }
   ],
   "source": [
    "lab = model.labels_\n",
    "df_cluster = df.copy()\n",
    "df_cluster['cluster'] = lab\n",
    "df_cluster.head()"
   ]
  },
  {
   "cell_type": "code",
   "execution_count": 64,
   "metadata": {},
   "outputs": [
    {
     "data": {
      "text/html": [
       "<div>\n",
       "<style scoped>\n",
       "    .dataframe tbody tr th:only-of-type {\n",
       "        vertical-align: middle;\n",
       "    }\n",
       "\n",
       "    .dataframe tbody tr th {\n",
       "        vertical-align: top;\n",
       "    }\n",
       "\n",
       "    .dataframe thead th {\n",
       "        text-align: right;\n",
       "    }\n",
       "</style>\n",
       "<table border=\"1\" class=\"dataframe\">\n",
       "  <thead>\n",
       "    <tr style=\"text-align: right;\">\n",
       "      <th></th>\n",
       "      <th>ID</th>\n",
       "      <th>Label</th>\n",
       "      <th>Description</th>\n",
       "      <th>cluster</th>\n",
       "    </tr>\n",
       "  </thead>\n",
       "  <tbody>\n",
       "    <tr>\n",
       "      <th>744</th>\n",
       "      <td>Q3285163</td>\n",
       "      <td>arts administration</td>\n",
       "      <td>field in the arts sector that facilitates prog...</td>\n",
       "      <td>5</td>\n",
       "    </tr>\n",
       "    <tr>\n",
       "      <th>836</th>\n",
       "      <td>Q11634</td>\n",
       "      <td>art of sculpture</td>\n",
       "      <td>branch of the visual arts that operates in thr...</td>\n",
       "      <td>5</td>\n",
       "    </tr>\n",
       "    <tr>\n",
       "      <th>2010</th>\n",
       "      <td>Q3705105</td>\n",
       "      <td>Chinese martial arts</td>\n",
       "      <td>category of martial arts</td>\n",
       "      <td>5</td>\n",
       "    </tr>\n",
       "    <tr>\n",
       "      <th>3353</th>\n",
       "      <td>Q59939361</td>\n",
       "      <td>amateur artist</td>\n",
       "      <td>person who creates the visual arts, such as pa...</td>\n",
       "      <td>5</td>\n",
       "    </tr>\n",
       "    <tr>\n",
       "      <th>3984</th>\n",
       "      <td>Q41425</td>\n",
       "      <td>ballet</td>\n",
       "      <td>type of performance dance (performing arts genre)</td>\n",
       "      <td>5</td>\n",
       "    </tr>\n",
       "  </tbody>\n",
       "</table>\n",
       "</div>"
      ],
      "text/plain": [
       "             ID                 Label  \\\n",
       "744    Q3285163   arts administration   \n",
       "836      Q11634      art of sculpture   \n",
       "2010   Q3705105  Chinese martial arts   \n",
       "3353  Q59939361        amateur artist   \n",
       "3984     Q41425                ballet   \n",
       "\n",
       "                                            Description  cluster  \n",
       "744   field in the arts sector that facilitates prog...        5  \n",
       "836   branch of the visual arts that operates in thr...        5  \n",
       "2010                           category of martial arts        5  \n",
       "3353  person who creates the visual arts, such as pa...        5  \n",
       "3984  type of performance dance (performing arts genre)        5  "
      ]
     },
     "execution_count": 64,
     "metadata": {},
     "output_type": "execute_result"
    }
   ],
   "source": [
    "df_cluster[df_cluster['cluster']==5].head()"
   ]
  },
  {
   "cell_type": "code",
   "execution_count": 65,
   "metadata": {},
   "outputs": [
    {
     "name": "stdout",
     "output_type": "stream",
     "text": [
      "cluster 0\n",
      "1178\n",
      "cluster 1\n",
      "110\n",
      "cluster 2\n",
      "24\n",
      "cluster 3\n",
      "152\n",
      "cluster 4\n",
      "445\n",
      "cluster 5\n",
      "24\n",
      "cluster 6\n",
      "52\n",
      "cluster 7\n",
      "25\n",
      "cluster 8\n",
      "17\n",
      "cluster 9\n",
      "53\n",
      "cluster 10\n",
      "34\n",
      "cluster 11\n",
      "67\n",
      "cluster 12\n",
      "55\n",
      "cluster 13\n",
      "20\n",
      "cluster 14\n",
      "76\n",
      "cluster 15\n",
      "36\n",
      "cluster 16\n",
      "36\n",
      "cluster 17\n",
      "24\n",
      "cluster 18\n",
      "41\n",
      "cluster 19\n",
      "52\n",
      "cluster 20\n",
      "49\n",
      "cluster 21\n",
      "156\n",
      "cluster 22\n",
      "300\n",
      "cluster 23\n",
      "49\n",
      "cluster 24\n",
      "65\n",
      "cluster 25\n",
      "37\n",
      "cluster 26\n",
      "60\n",
      "cluster 27\n",
      "23\n",
      "cluster 28\n",
      "40\n",
      "cluster 29\n",
      "39\n",
      "cluster 30\n",
      "46\n",
      "cluster 31\n",
      "109\n",
      "cluster 32\n",
      "23\n",
      "cluster 33\n",
      "57\n",
      "cluster 34\n",
      "43\n",
      "cluster 35\n",
      "37\n",
      "cluster 36\n",
      "27\n",
      "cluster 37\n",
      "20\n",
      "cluster 38\n",
      "36\n",
      "cluster 39\n",
      "27\n",
      "cluster 40\n",
      "131\n",
      "cluster 41\n",
      "23\n",
      "cluster 42\n",
      "28\n",
      "cluster 43\n",
      "35\n",
      "cluster 44\n",
      "15\n",
      "cluster 45\n",
      "51\n",
      "cluster 46\n",
      "88\n",
      "cluster 47\n",
      "26\n",
      "cluster 48\n",
      "44\n",
      "cluster 49\n",
      "33\n",
      "cluster 50\n",
      "75\n",
      "cluster 51\n",
      "35\n",
      "cluster 52\n",
      "44\n",
      "cluster 53\n",
      "28\n",
      "cluster 54\n",
      "49\n",
      "cluster 55\n",
      "30\n",
      "cluster 56\n",
      "43\n",
      "cluster 57\n",
      "13\n",
      "cluster 58\n",
      "30\n",
      "cluster 59\n",
      "26\n",
      "cluster 60\n",
      "43\n",
      "cluster 61\n",
      "16\n",
      "cluster 62\n",
      "25\n",
      "cluster 63\n",
      "81\n",
      "cluster 64\n",
      "34\n",
      "cluster 65\n",
      "57\n",
      "cluster 66\n",
      "96\n",
      "cluster 67\n",
      "32\n",
      "cluster 68\n",
      "28\n",
      "cluster 69\n",
      "22\n",
      "cluster 70\n",
      "24\n",
      "cluster 71\n",
      "24\n",
      "cluster 72\n",
      "21\n",
      "cluster 73\n",
      "27\n",
      "cluster 74\n",
      "6\n",
      "cluster 75\n",
      "45\n",
      "cluster 76\n",
      "36\n",
      "cluster 77\n",
      "26\n",
      "cluster 78\n",
      "33\n",
      "cluster 79\n",
      "46\n",
      "cluster 80\n",
      "59\n",
      "cluster 81\n",
      "38\n",
      "cluster 82\n",
      "31\n",
      "cluster 83\n",
      "112\n",
      "cluster 84\n",
      "24\n",
      "cluster 85\n",
      "65\n",
      "cluster 86\n",
      "19\n",
      "cluster 87\n",
      "89\n",
      "cluster 88\n",
      "15\n",
      "cluster 89\n",
      "37\n",
      "cluster 90\n",
      "35\n",
      "cluster 91\n",
      "63\n",
      "cluster 92\n",
      "52\n",
      "cluster 93\n",
      "13\n",
      "cluster 94\n",
      "25\n",
      "cluster 95\n",
      "61\n",
      "cluster 96\n",
      "22\n",
      "cluster 97\n",
      "35\n",
      "cluster 98\n",
      "28\n",
      "cluster 99\n",
      "32\n",
      "cluster 100\n",
      "63\n",
      "cluster 101\n",
      "31\n",
      "cluster 102\n",
      "57\n",
      "cluster 103\n",
      "25\n",
      "cluster 104\n",
      "28\n",
      "cluster 105\n",
      "31\n",
      "cluster 106\n",
      "44\n",
      "cluster 107\n",
      "17\n",
      "cluster 108\n",
      "255\n",
      "cluster 109\n",
      "39\n",
      "cluster 110\n",
      "18\n",
      "cluster 111\n",
      "8\n",
      "cluster 112\n",
      "16\n",
      "cluster 113\n",
      "13\n",
      "cluster 114\n",
      "64\n",
      "cluster 115\n",
      "27\n",
      "cluster 116\n",
      "32\n",
      "cluster 117\n",
      "30\n",
      "cluster 118\n",
      "45\n",
      "cluster 119\n",
      "21\n",
      "cluster 120\n",
      "38\n",
      "cluster 121\n",
      "16\n",
      "cluster 122\n",
      "14\n",
      "cluster 123\n",
      "23\n",
      "cluster 124\n",
      "29\n",
      "cluster 125\n",
      "73\n",
      "cluster 126\n",
      "53\n",
      "cluster 127\n",
      "21\n",
      "cluster 128\n",
      "61\n",
      "cluster 129\n",
      "51\n",
      "cluster 130\n",
      "30\n",
      "cluster 131\n",
      "34\n",
      "cluster 132\n",
      "48\n",
      "cluster 133\n",
      "43\n",
      "cluster 134\n",
      "35\n",
      "cluster 135\n",
      "22\n",
      "cluster 136\n",
      "46\n",
      "cluster 137\n",
      "24\n",
      "cluster 138\n",
      "10\n",
      "cluster 139\n",
      "20\n",
      "cluster 140\n",
      "11\n",
      "cluster 141\n",
      "16\n",
      "cluster 142\n",
      "35\n",
      "cluster 143\n",
      "36\n",
      "cluster 144\n",
      "25\n",
      "cluster 145\n",
      "43\n",
      "cluster 146\n",
      "73\n",
      "cluster 147\n",
      "26\n",
      "cluster 148\n",
      "3\n",
      "cluster 149\n",
      "20\n",
      "cluster 150\n",
      "55\n",
      "cluster 151\n",
      "42\n",
      "cluster 152\n",
      "45\n",
      "cluster 153\n",
      "29\n",
      "cluster 154\n",
      "63\n",
      "cluster 155\n",
      "29\n",
      "cluster 156\n",
      "29\n",
      "cluster 157\n",
      "63\n",
      "cluster 158\n",
      "17\n",
      "cluster 159\n",
      "34\n",
      "cluster 160\n",
      "95\n",
      "cluster 161\n",
      "93\n",
      "cluster 162\n",
      "66\n",
      "cluster 163\n",
      "13\n",
      "cluster 164\n",
      "35\n",
      "cluster 165\n",
      "16\n",
      "cluster 166\n",
      "26\n",
      "cluster 167\n",
      "27\n",
      "cluster 168\n",
      "25\n",
      "cluster 169\n",
      "73\n",
      "cluster 170\n",
      "26\n",
      "cluster 171\n",
      "8\n",
      "cluster 172\n",
      "11\n",
      "cluster 173\n",
      "24\n",
      "cluster 174\n",
      "15\n",
      "cluster 175\n",
      "10\n",
      "cluster 176\n",
      "16\n",
      "cluster 177\n",
      "35\n",
      "cluster 178\n",
      "62\n",
      "cluster 179\n",
      "45\n",
      "cluster 180\n",
      "29\n",
      "cluster 181\n",
      "15\n",
      "cluster 182\n",
      "33\n",
      "cluster 183\n",
      "36\n",
      "cluster 184\n",
      "12\n",
      "cluster 185\n",
      "14\n",
      "cluster 186\n",
      "39\n",
      "cluster 187\n",
      "23\n",
      "cluster 188\n",
      "23\n",
      "cluster 189\n",
      "21\n",
      "cluster 190\n",
      "86\n",
      "cluster 191\n",
      "30\n",
      "cluster 192\n",
      "28\n",
      "cluster 193\n",
      "35\n",
      "cluster 194\n",
      "36\n",
      "cluster 195\n",
      "57\n",
      "cluster 196\n",
      "29\n",
      "cluster 197\n",
      "15\n",
      "cluster 198\n",
      "27\n",
      "cluster 199\n",
      "33\n"
     ]
    }
   ],
   "source": [
    "for i in range(number_of_clusters):\n",
    "    print(\"cluster\",i)\n",
    "    print(len(df_cluster[df_cluster['cluster']==i]))"
   ]
  },
  {
   "cell_type": "markdown",
   "metadata": {},
   "source": [
    "# First approach of the sentiment analysis "
   ]
  },
  {
   "cell_type": "markdown",
   "metadata": {},
   "source": [
    "## Polarity scores of quotes using Vader"
   ]
  },
  {
   "cell_type": "markdown",
   "metadata": {},
   "source": [
    "Here, we provide the method that allow us to compute the polarity scores using VaderSentiment as our first look for sentiment analysis of the quotes :"
   ]
  },
  {
   "cell_type": "code",
   "execution_count": 68,
   "metadata": {},
   "outputs": [],
   "source": [
    "sid = SentimentIntensityAnalyzer()\n",
    "\n",
    "path_to_file = data_path+'data/quotes-2020-dropped-features.json.bz2' \n",
    "path_to_out = 'data/quotes-2020-polarity-scores.json.bz2'\n",
    "\n",
    "with bz2.open(path_to_file, 'rb') as s_file:\n",
    "    with bz2.open(path_to_out, 'wb') as d_file:\n",
    "        for instance in s_file:\n",
    "            instance = json.loads(instance)\n",
    "            quote = instance['quotation']\n",
    "            scores = sid.polarity_scores(quote)\n",
    "            instance['polarity_scores'] = scores\n",
    "            #print(scores)\n",
    "            d_file.write((json.dumps(instance)+'\\n').encode('utf-8')) # writing in the new file"
   ]
  }
 ],
 "metadata": {
  "kernelspec": {
   "display_name": "Python 3 (ipykernel)",
   "language": "python",
   "name": "python3"
  },
  "language_info": {
   "codemirror_mode": {
    "name": "ipython",
    "version": 3
   },
   "file_extension": ".py",
   "mimetype": "text/x-python",
   "name": "python",
   "nbconvert_exporter": "python",
   "pygments_lexer": "ipython3",
   "version": "3.8.5"
  }
 },
 "nbformat": 4,
 "nbformat_minor": 4
}
